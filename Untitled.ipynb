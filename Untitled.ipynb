{
 "cells": [
  {
   "cell_type": "code",
   "execution_count": 1,
   "metadata": {},
   "outputs": [],
   "source": [
    "from sympy import *"
   ]
  },
  {
   "cell_type": "code",
   "execution_count": 35,
   "metadata": {},
   "outputs": [],
   "source": [
    "k = symbols('k0 k1 k2 k3 k4 k5 k6 k7 k8 k9 k10 k11 k12')\n",
    "d1 = (k[10] | k[11] | k[12])&(k[7] | k[8] | k[9])&(k[7] | k[8] | k[10] | k[11])&(k[4] | k[5] | k[6])\n",
    "d2 = (k[4] | k[5]| k[10] | k[12])&(k[4] | k[6] | k[7] | k[9])&(k[4] | k[7] | k[10])&(k[1] | k[2] | k[3])\n",
    "d3 = (k[1] | k[2] | k[11] | k[12])&(k[1] | k[3] | k[8] | k[9])&(k[1] | k[8] | k[11])\n",
    "d4 = (k[2] | k[3] | k[5] | k[6])&(k[2] | k[5] | k[12])&(k[3] | k[6] | k[9])\n",
    "dnf1 = simplify_logic(to_dnf(d1))"
   ]
  },
  {
   "cell_type": "code",
   "execution_count": 36,
   "metadata": {},
   "outputs": [],
   "source": [
    "dnf2 = simplify_logic(to_dnf(d2))"
   ]
  },
  {
   "cell_type": "code",
   "execution_count": 37,
   "metadata": {},
   "outputs": [],
   "source": [
    "dnf3 = simplify_logic(to_dnf(d3))"
   ]
  },
  {
   "cell_type": "code",
   "execution_count": 38,
   "metadata": {},
   "outputs": [],
   "source": [
    "dnf4 = simplify_logic(to_dnf(d4))"
   ]
  },
  {
   "cell_type": "code",
   "execution_count": 41,
   "metadata": {},
   "outputs": [],
   "source": [
    "dnf12 = simplify_logic(to_dnf(dnf1 & dnf2))"
   ]
  },
  {
   "cell_type": "code",
   "execution_count": 42,
   "metadata": {},
   "outputs": [],
   "source": [
    "dnf34 = simplify_logic(to_dnf(dnf3 & dnf4))"
   ]
  },
  {
   "cell_type": "code",
   "execution_count": 43,
   "metadata": {},
   "outputs": [],
   "source": [
    "dnf = simplify_logic(to_dnf(dnf12 & dnf34))"
   ]
  },
  {
   "cell_type": "code",
   "execution_count": null,
   "metadata": {},
   "outputs": [],
   "source": [
    "d"
   ]
  }
 ],
 "metadata": {
  "kernelspec": {
   "display_name": "Python 3",
   "language": "python",
   "name": "python3"
  },
  "language_info": {
   "codemirror_mode": {
    "name": "ipython",
    "version": 3
   },
   "file_extension": ".py",
   "mimetype": "text/x-python",
   "name": "python",
   "nbconvert_exporter": "python",
   "pygments_lexer": "ipython3",
   "version": "3.7.4"
  }
 },
 "nbformat": 4,
 "nbformat_minor": 2
}
