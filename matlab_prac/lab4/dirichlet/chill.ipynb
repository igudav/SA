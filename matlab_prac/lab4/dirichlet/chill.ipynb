{
 "cells": [
  {
   "cell_type": "code",
   "execution_count": 1,
   "metadata": {},
   "outputs": [],
   "source": [
    "from sympy import *"
   ]
  },
  {
   "cell_type": "code",
   "execution_count": 15,
   "metadata": {},
   "outputs": [],
   "source": [
    "x, y = symbols('x y', real=True)\n",
    "mu = symbols('mu', real=True)"
   ]
  },
  {
   "cell_type": "code",
   "execution_count": 7,
   "metadata": {},
   "outputs": [
    {
     "data": {
      "text/latex": [
       "$\\displaystyle \\operatorname{u_{1}}{\\left(x \\right)}$"
      ],
      "text/plain": [
       "u1(x)"
      ]
     },
     "execution_count": 7,
     "metadata": {},
     "output_type": "execute_result"
    }
   ],
   "source": [
    "u1 = Function('u1')(x)\n",
    "u1"
   ]
  },
  {
   "cell_type": "code",
   "execution_count": 88,
   "metadata": {},
   "outputs": [
    {
     "data": {
      "text/latex": [
       "$\\displaystyle \\operatorname{u_{2}}{\\left(y \\right)}$"
      ],
      "text/plain": [
       "u2(y)"
      ]
     },
     "execution_count": 88,
     "metadata": {},
     "output_type": "execute_result"
    }
   ],
   "source": [
    "u2 = Function('u2')(y)\n",
    "u2"
   ]
  },
  {
   "cell_type": "code",
   "execution_count": 12,
   "metadata": {},
   "outputs": [],
   "source": [
    "u10, u20 = symbols('u_1^0 u_2^0')"
   ]
  },
  {
   "cell_type": "code",
   "execution_count": 13,
   "metadata": {},
   "outputs": [
    {
     "data": {
      "text/latex": [
       "$\\displaystyle x e^{- 4 x} + \\cos{\\left(x \\right)}$"
      ],
      "text/plain": [
       "x*exp(-4*x) + cos(x)"
      ]
     },
     "execution_count": 13,
     "metadata": {},
     "output_type": "execute_result"
    }
   ],
   "source": [
    "f1 = x * exp(-4 * x) + cos(x)\n",
    "f1"
   ]
  },
  {
   "cell_type": "code",
   "execution_count": 14,
   "metadata": {},
   "outputs": [
    {
     "data": {
      "text/latex": [
       "$\\displaystyle 2 y e^{2 y} \\sin{\\left(2 y \\right)}$"
      ],
      "text/plain": [
       "2*y*exp(2*y)*sin(2*y)"
      ]
     },
     "execution_count": 14,
     "metadata": {},
     "output_type": "execute_result"
    }
   ],
   "source": [
    "f2 = 2 * y * exp(2 * y) * sin(2 * y)\n",
    "f2"
   ]
  },
  {
   "cell_type": "code",
   "execution_count": 20,
   "metadata": {},
   "outputs": [
    {
     "data": {
      "text/latex": [
       "$\\displaystyle - \\mu \\operatorname{u_{1}}{\\left(x \\right)} + \\frac{d^{2}}{d x^{2}} \\operatorname{u_{1}}{\\left(x \\right)} = x e^{- 4 x} + \\cos{\\left(x \\right)}$"
      ],
      "text/plain": [
       "Eq(-mu*u1(x) + Derivative(u1(x), (x, 2)), x*exp(-4*x) + cos(x))"
      ]
     },
     "execution_count": 20,
     "metadata": {},
     "output_type": "execute_result"
    }
   ],
   "source": [
    "deq1 = Eq(u1.diff(x, x) - mu * u1, f1)\n",
    "deq1"
   ]
  },
  {
   "cell_type": "code",
   "execution_count": 99,
   "metadata": {},
   "outputs": [
    {
     "data": {
      "text/latex": [
       "$\\displaystyle \\operatorname{u_{1}}{\\left(x \\right)} = - \\frac{x e^{- 4 x}}{\\mu - 16} + \\frac{\\left(\\mu^{3} u^{0}_{1} e^{\\sqrt{\\mu} + 4} - \\mu^{3} u^{0}_{1} e^{4} - 31 \\mu^{2} u^{0}_{1} e^{\\sqrt{\\mu} + 4} + 31 \\mu^{2} u^{0}_{1} e^{4} + \\mu^{2} e^{\\sqrt{\\mu}} + \\mu^{2} e^{\\sqrt{\\mu} + 4} \\cos{\\left(1 \\right)} - \\mu^{2} e^{4} + 224 \\mu u^{0}_{1} e^{\\sqrt{\\mu} + 4} - 224 \\mu u^{0}_{1} e^{4} - 23 \\mu e^{\\sqrt{\\mu}} - 32 \\mu e^{\\sqrt{\\mu} + 4} \\cos{\\left(1 \\right)} + 40 \\mu e^{4} + 256 u^{0}_{1} e^{\\sqrt{\\mu} + 4} - 256 u^{0}_{1} e^{4} - 24 e^{\\sqrt{\\mu}} + 256 e^{\\sqrt{\\mu} + 4} \\cos{\\left(1 \\right)} - 248 e^{4}\\right) e^{\\sqrt{\\mu} x}}{\\left(\\mu^{3} e^{2 \\sqrt{\\mu}} - \\mu^{3} - 31 \\mu^{2} e^{2 \\sqrt{\\mu}} + 31 \\mu^{2} + 224 \\mu e^{2 \\sqrt{\\mu}} - 224 \\mu + 256 e^{2 \\sqrt{\\mu}} - 256\\right) e^{4}} + \\frac{\\left(\\mu^{3} u^{0}_{1} e^{\\sqrt{\\mu} + 4} - \\mu^{3} u^{0}_{1} e^{4} - 31 \\mu^{2} u^{0}_{1} e^{\\sqrt{\\mu} + 4} + 31 \\mu^{2} u^{0}_{1} e^{4} + \\mu^{2} e^{\\sqrt{\\mu} + 4} - \\mu^{2} e^{4} \\cos{\\left(1 \\right)} - \\mu^{2} + 224 \\mu u^{0}_{1} e^{\\sqrt{\\mu} + 4} - 224 \\mu u^{0}_{1} e^{4} - 40 \\mu e^{\\sqrt{\\mu} + 4} + 23 \\mu + 32 \\mu e^{4} \\cos{\\left(1 \\right)} + 256 u^{0}_{1} e^{\\sqrt{\\mu} + 4} - 256 u^{0}_{1} e^{4} + 248 e^{\\sqrt{\\mu} + 4} - 256 e^{4} \\cos{\\left(1 \\right)} + 24\\right) e^{- \\sqrt{\\mu} x} e^{\\sqrt{\\mu} - 4}}{\\mu^{3} e^{2 \\sqrt{\\mu}} - \\mu^{3} - 31 \\mu^{2} e^{2 \\sqrt{\\mu}} + 31 \\mu^{2} + 224 \\mu e^{2 \\sqrt{\\mu}} - 224 \\mu + 256 e^{2 \\sqrt{\\mu}} - 256} - \\frac{\\cos{\\left(x \\right)}}{\\mu + 1} + \\frac{8 e^{- 4 x}}{\\left(\\mu - 16\\right)^{2}}$"
      ],
      "text/plain": [
       "Eq(u1(x), -x*exp(-4*x)/(mu - 16) + (mu**3*u_1^0*exp(sqrt(mu) + 4) - mu**3*u_1^0*exp(4) - 31*mu**2*u_1^0*exp(sqrt(mu) + 4) + 31*mu**2*u_1^0*exp(4) + mu**2*exp(sqrt(mu)) + mu**2*exp(sqrt(mu) + 4)*cos(1) - mu**2*exp(4) + 224*mu*u_1^0*exp(sqrt(mu) + 4) - 224*mu*u_1^0*exp(4) - 23*mu*exp(sqrt(mu)) - 32*mu*exp(sqrt(mu) + 4)*cos(1) + 40*mu*exp(4) + 256*u_1^0*exp(sqrt(mu) + 4) - 256*u_1^0*exp(4) - 24*exp(sqrt(mu)) + 256*exp(sqrt(mu) + 4)*cos(1) - 248*exp(4))*exp(-4)*exp(sqrt(mu)*x)/(mu**3*exp(2*sqrt(mu)) - mu**3 - 31*mu**2*exp(2*sqrt(mu)) + 31*mu**2 + 224*mu*exp(2*sqrt(mu)) - 224*mu + 256*exp(2*sqrt(mu)) - 256) + (mu**3*u_1^0*exp(sqrt(mu) + 4) - mu**3*u_1^0*exp(4) - 31*mu**2*u_1^0*exp(sqrt(mu) + 4) + 31*mu**2*u_1^0*exp(4) + mu**2*exp(sqrt(mu) + 4) - mu**2*exp(4)*cos(1) - mu**2 + 224*mu*u_1^0*exp(sqrt(mu) + 4) - 224*mu*u_1^0*exp(4) - 40*mu*exp(sqrt(mu) + 4) + 23*mu + 32*mu*exp(4)*cos(1) + 256*u_1^0*exp(sqrt(mu) + 4) - 256*u_1^0*exp(4) + 248*exp(sqrt(mu) + 4) - 256*exp(4)*cos(1) + 24)*exp(-sqrt(mu)*x)*exp(sqrt(mu) - 4)/(mu**3*exp(2*sqrt(mu)) - mu**3 - 31*mu**2*exp(2*sqrt(mu)) + 31*mu**2 + 224*mu*exp(2*sqrt(mu)) - 224*mu + 256*exp(2*sqrt(mu)) - 256) - cos(x)/(mu + 1) + 8*exp(-4*x)/(mu - 16)**2)"
      ]
     },
     "execution_count": 99,
     "metadata": {},
     "output_type": "execute_result"
    }
   ],
   "source": [
    "res1_ics = dsolve(deq1, ics={u1.subs(x, 0): u10, u1.subs(x, 1): u10})\n",
    "res1_ics"
   ]
  },
  {
   "cell_type": "code",
   "execution_count": 139,
   "metadata": {},
   "outputs": [
    {
     "data": {
      "text/latex": [
       "$\\displaystyle \\operatorname{u_{1}}{\\left(x \\right)} = \\frac{\\mu^{3} u^{0}_{1} e^{2 \\sqrt{\\mu}}}{\\mu^{3} e^{2 \\sqrt{\\mu}} e^{\\sqrt{\\mu} x} - \\mu^{3} e^{\\sqrt{\\mu} x} - 31 \\mu^{2} e^{2 \\sqrt{\\mu}} e^{\\sqrt{\\mu} x} + 31 \\mu^{2} e^{\\sqrt{\\mu} x} + 224 \\mu e^{2 \\sqrt{\\mu}} e^{\\sqrt{\\mu} x} - 224 \\mu e^{\\sqrt{\\mu} x} + 256 e^{2 \\sqrt{\\mu}} e^{\\sqrt{\\mu} x} - 256 e^{\\sqrt{\\mu} x}} - \\frac{\\mu^{3} u^{0}_{1} e^{\\sqrt{\\mu}}}{\\mu^{3} e^{2 \\sqrt{\\mu}} e^{\\sqrt{\\mu} x} - \\mu^{3} e^{\\sqrt{\\mu} x} - 31 \\mu^{2} e^{2 \\sqrt{\\mu}} e^{\\sqrt{\\mu} x} + 31 \\mu^{2} e^{\\sqrt{\\mu} x} + 224 \\mu e^{2 \\sqrt{\\mu}} e^{\\sqrt{\\mu} x} - 224 \\mu e^{\\sqrt{\\mu} x} + 256 e^{2 \\sqrt{\\mu}} e^{\\sqrt{\\mu} x} - 256 e^{\\sqrt{\\mu} x}} + \\frac{\\mu^{3} u^{0}_{1} e^{4} e^{\\sqrt{\\mu}} e^{\\sqrt{\\mu} x}}{\\mu^{3} e^{4} e^{2 \\sqrt{\\mu}} - \\mu^{3} e^{4} - 31 \\mu^{2} e^{4} e^{2 \\sqrt{\\mu}} + 31 \\mu^{2} e^{4} + 224 \\mu e^{4} e^{2 \\sqrt{\\mu}} - 224 \\mu e^{4} + 256 e^{4} e^{2 \\sqrt{\\mu}} - 256 e^{4}} - \\frac{\\mu^{3} u^{0}_{1} e^{4} e^{\\sqrt{\\mu} x}}{\\mu^{3} e^{4} e^{2 \\sqrt{\\mu}} - \\mu^{3} e^{4} - 31 \\mu^{2} e^{4} e^{2 \\sqrt{\\mu}} + 31 \\mu^{2} e^{4} + 224 \\mu e^{4} e^{2 \\sqrt{\\mu}} - 224 \\mu e^{4} + 256 e^{4} e^{2 \\sqrt{\\mu}} - 256 e^{4}} - \\frac{31 \\mu^{2} u^{0}_{1} e^{2 \\sqrt{\\mu}}}{\\mu^{3} e^{2 \\sqrt{\\mu}} e^{\\sqrt{\\mu} x} - \\mu^{3} e^{\\sqrt{\\mu} x} - 31 \\mu^{2} e^{2 \\sqrt{\\mu}} e^{\\sqrt{\\mu} x} + 31 \\mu^{2} e^{\\sqrt{\\mu} x} + 224 \\mu e^{2 \\sqrt{\\mu}} e^{\\sqrt{\\mu} x} - 224 \\mu e^{\\sqrt{\\mu} x} + 256 e^{2 \\sqrt{\\mu}} e^{\\sqrt{\\mu} x} - 256 e^{\\sqrt{\\mu} x}} + \\frac{31 \\mu^{2} u^{0}_{1} e^{\\sqrt{\\mu}}}{\\mu^{3} e^{2 \\sqrt{\\mu}} e^{\\sqrt{\\mu} x} - \\mu^{3} e^{\\sqrt{\\mu} x} - 31 \\mu^{2} e^{2 \\sqrt{\\mu}} e^{\\sqrt{\\mu} x} + 31 \\mu^{2} e^{\\sqrt{\\mu} x} + 224 \\mu e^{2 \\sqrt{\\mu}} e^{\\sqrt{\\mu} x} - 224 \\mu e^{\\sqrt{\\mu} x} + 256 e^{2 \\sqrt{\\mu}} e^{\\sqrt{\\mu} x} - 256 e^{\\sqrt{\\mu} x}} - \\frac{31 \\mu^{2} u^{0}_{1} e^{4} e^{\\sqrt{\\mu}} e^{\\sqrt{\\mu} x}}{\\mu^{3} e^{4} e^{2 \\sqrt{\\mu}} - \\mu^{3} e^{4} - 31 \\mu^{2} e^{4} e^{2 \\sqrt{\\mu}} + 31 \\mu^{2} e^{4} + 224 \\mu e^{4} e^{2 \\sqrt{\\mu}} - 224 \\mu e^{4} + 256 e^{4} e^{2 \\sqrt{\\mu}} - 256 e^{4}} + \\frac{31 \\mu^{2} u^{0}_{1} e^{4} e^{\\sqrt{\\mu} x}}{\\mu^{3} e^{4} e^{2 \\sqrt{\\mu}} - \\mu^{3} e^{4} - 31 \\mu^{2} e^{4} e^{2 \\sqrt{\\mu}} + 31 \\mu^{2} e^{4} + 224 \\mu e^{4} e^{2 \\sqrt{\\mu}} - 224 \\mu e^{4} + 256 e^{4} e^{2 \\sqrt{\\mu}} - 256 e^{4}} - \\frac{\\mu^{2} e^{\\sqrt{\\mu}}}{\\mu^{3} e^{4} e^{2 \\sqrt{\\mu}} e^{\\sqrt{\\mu} x} - \\mu^{3} e^{4} e^{\\sqrt{\\mu} x} - 31 \\mu^{2} e^{4} e^{2 \\sqrt{\\mu}} e^{\\sqrt{\\mu} x} + 31 \\mu^{2} e^{4} e^{\\sqrt{\\mu} x} + 224 \\mu e^{4} e^{2 \\sqrt{\\mu}} e^{\\sqrt{\\mu} x} - 224 \\mu e^{4} e^{\\sqrt{\\mu} x} + 256 e^{4} e^{2 \\sqrt{\\mu}} e^{\\sqrt{\\mu} x} - 256 e^{4} e^{\\sqrt{\\mu} x}} + \\frac{\\mu^{2} e^{2 \\sqrt{\\mu}}}{\\mu^{3} e^{2 \\sqrt{\\mu}} e^{\\sqrt{\\mu} x} - \\mu^{3} e^{\\sqrt{\\mu} x} - 31 \\mu^{2} e^{2 \\sqrt{\\mu}} e^{\\sqrt{\\mu} x} + 31 \\mu^{2} e^{\\sqrt{\\mu} x} + 224 \\mu e^{2 \\sqrt{\\mu}} e^{\\sqrt{\\mu} x} - 224 \\mu e^{\\sqrt{\\mu} x} + 256 e^{2 \\sqrt{\\mu}} e^{\\sqrt{\\mu} x} - 256 e^{\\sqrt{\\mu} x}} - \\frac{\\mu^{2} e^{\\sqrt{\\mu}} \\cos{\\left(1 \\right)}}{\\mu^{3} e^{2 \\sqrt{\\mu}} e^{\\sqrt{\\mu} x} - \\mu^{3} e^{\\sqrt{\\mu} x} - 31 \\mu^{2} e^{2 \\sqrt{\\mu}} e^{\\sqrt{\\mu} x} + 31 \\mu^{2} e^{\\sqrt{\\mu} x} + 224 \\mu e^{2 \\sqrt{\\mu}} e^{\\sqrt{\\mu} x} - 224 \\mu e^{\\sqrt{\\mu} x} + 256 e^{2 \\sqrt{\\mu}} e^{\\sqrt{\\mu} x} - 256 e^{\\sqrt{\\mu} x}} + \\frac{\\mu^{2} e^{\\sqrt{\\mu}} e^{\\sqrt{\\mu} x}}{\\mu^{3} e^{4} e^{2 \\sqrt{\\mu}} - \\mu^{3} e^{4} - 31 \\mu^{2} e^{4} e^{2 \\sqrt{\\mu}} + 31 \\mu^{2} e^{4} + 224 \\mu e^{4} e^{2 \\sqrt{\\mu}} - 224 \\mu e^{4} + 256 e^{4} e^{2 \\sqrt{\\mu}} - 256 e^{4}} + \\frac{\\mu^{2} e^{4} e^{\\sqrt{\\mu}} e^{\\sqrt{\\mu} x} \\cos{\\left(1 \\right)}}{\\mu^{3} e^{4} e^{2 \\sqrt{\\mu}} - \\mu^{3} e^{4} - 31 \\mu^{2} e^{4} e^{2 \\sqrt{\\mu}} + 31 \\mu^{2} e^{4} + 224 \\mu e^{4} e^{2 \\sqrt{\\mu}} - 224 \\mu e^{4} + 256 e^{4} e^{2 \\sqrt{\\mu}} - 256 e^{4}} - \\frac{\\mu^{2} e^{4} e^{\\sqrt{\\mu} x}}{\\mu^{3} e^{4} e^{2 \\sqrt{\\mu}} - \\mu^{3} e^{4} - 31 \\mu^{2} e^{4} e^{2 \\sqrt{\\mu}} + 31 \\mu^{2} e^{4} + 224 \\mu e^{4} e^{2 \\sqrt{\\mu}} - 224 \\mu e^{4} + 256 e^{4} e^{2 \\sqrt{\\mu}} - 256 e^{4}} + \\frac{224 \\mu u^{0}_{1} e^{2 \\sqrt{\\mu}}}{\\mu^{3} e^{2 \\sqrt{\\mu}} e^{\\sqrt{\\mu} x} - \\mu^{3} e^{\\sqrt{\\mu} x} - 31 \\mu^{2} e^{2 \\sqrt{\\mu}} e^{\\sqrt{\\mu} x} + 31 \\mu^{2} e^{\\sqrt{\\mu} x} + 224 \\mu e^{2 \\sqrt{\\mu}} e^{\\sqrt{\\mu} x} - 224 \\mu e^{\\sqrt{\\mu} x} + 256 e^{2 \\sqrt{\\mu}} e^{\\sqrt{\\mu} x} - 256 e^{\\sqrt{\\mu} x}} - \\frac{224 \\mu u^{0}_{1} e^{\\sqrt{\\mu}}}{\\mu^{3} e^{2 \\sqrt{\\mu}} e^{\\sqrt{\\mu} x} - \\mu^{3} e^{\\sqrt{\\mu} x} - 31 \\mu^{2} e^{2 \\sqrt{\\mu}} e^{\\sqrt{\\mu} x} + 31 \\mu^{2} e^{\\sqrt{\\mu} x} + 224 \\mu e^{2 \\sqrt{\\mu}} e^{\\sqrt{\\mu} x} - 224 \\mu e^{\\sqrt{\\mu} x} + 256 e^{2 \\sqrt{\\mu}} e^{\\sqrt{\\mu} x} - 256 e^{\\sqrt{\\mu} x}} + \\frac{224 \\mu u^{0}_{1} e^{4} e^{\\sqrt{\\mu}} e^{\\sqrt{\\mu} x}}{\\mu^{3} e^{4} e^{2 \\sqrt{\\mu}} - \\mu^{3} e^{4} - 31 \\mu^{2} e^{4} e^{2 \\sqrt{\\mu}} + 31 \\mu^{2} e^{4} + 224 \\mu e^{4} e^{2 \\sqrt{\\mu}} - 224 \\mu e^{4} + 256 e^{4} e^{2 \\sqrt{\\mu}} - 256 e^{4}} - \\frac{224 \\mu u^{0}_{1} e^{4} e^{\\sqrt{\\mu} x}}{\\mu^{3} e^{4} e^{2 \\sqrt{\\mu}} - \\mu^{3} e^{4} - 31 \\mu^{2} e^{4} e^{2 \\sqrt{\\mu}} + 31 \\mu^{2} e^{4} + 224 \\mu e^{4} e^{2 \\sqrt{\\mu}} - 224 \\mu e^{4} + 256 e^{4} e^{2 \\sqrt{\\mu}} - 256 e^{4}} + \\frac{23 \\mu e^{\\sqrt{\\mu}}}{\\mu^{3} e^{4} e^{2 \\sqrt{\\mu}} e^{\\sqrt{\\mu} x} - \\mu^{3} e^{4} e^{\\sqrt{\\mu} x} - 31 \\mu^{2} e^{4} e^{2 \\sqrt{\\mu}} e^{\\sqrt{\\mu} x} + 31 \\mu^{2} e^{4} e^{\\sqrt{\\mu} x} + 224 \\mu e^{4} e^{2 \\sqrt{\\mu}} e^{\\sqrt{\\mu} x} - 224 \\mu e^{4} e^{\\sqrt{\\mu} x} + 256 e^{4} e^{2 \\sqrt{\\mu}} e^{\\sqrt{\\mu} x} - 256 e^{4} e^{\\sqrt{\\mu} x}} - \\frac{40 \\mu e^{2 \\sqrt{\\mu}}}{\\mu^{3} e^{2 \\sqrt{\\mu}} e^{\\sqrt{\\mu} x} - \\mu^{3} e^{\\sqrt{\\mu} x} - 31 \\mu^{2} e^{2 \\sqrt{\\mu}} e^{\\sqrt{\\mu} x} + 31 \\mu^{2} e^{\\sqrt{\\mu} x} + 224 \\mu e^{2 \\sqrt{\\mu}} e^{\\sqrt{\\mu} x} - 224 \\mu e^{\\sqrt{\\mu} x} + 256 e^{2 \\sqrt{\\mu}} e^{\\sqrt{\\mu} x} - 256 e^{\\sqrt{\\mu} x}} + \\frac{32 \\mu e^{\\sqrt{\\mu}} \\cos{\\left(1 \\right)}}{\\mu^{3} e^{2 \\sqrt{\\mu}} e^{\\sqrt{\\mu} x} - \\mu^{3} e^{\\sqrt{\\mu} x} - 31 \\mu^{2} e^{2 \\sqrt{\\mu}} e^{\\sqrt{\\mu} x} + 31 \\mu^{2} e^{\\sqrt{\\mu} x} + 224 \\mu e^{2 \\sqrt{\\mu}} e^{\\sqrt{\\mu} x} - 224 \\mu e^{\\sqrt{\\mu} x} + 256 e^{2 \\sqrt{\\mu}} e^{\\sqrt{\\mu} x} - 256 e^{\\sqrt{\\mu} x}} - \\frac{32 \\mu e^{4} e^{\\sqrt{\\mu}} e^{\\sqrt{\\mu} x} \\cos{\\left(1 \\right)}}{\\mu^{3} e^{4} e^{2 \\sqrt{\\mu}} - \\mu^{3} e^{4} - 31 \\mu^{2} e^{4} e^{2 \\sqrt{\\mu}} + 31 \\mu^{2} e^{4} + 224 \\mu e^{4} e^{2 \\sqrt{\\mu}} - 224 \\mu e^{4} + 256 e^{4} e^{2 \\sqrt{\\mu}} - 256 e^{4}} - \\frac{23 \\mu e^{\\sqrt{\\mu}} e^{\\sqrt{\\mu} x}}{\\mu^{3} e^{4} e^{2 \\sqrt{\\mu}} - \\mu^{3} e^{4} - 31 \\mu^{2} e^{4} e^{2 \\sqrt{\\mu}} + 31 \\mu^{2} e^{4} + 224 \\mu e^{4} e^{2 \\sqrt{\\mu}} - 224 \\mu e^{4} + 256 e^{4} e^{2 \\sqrt{\\mu}} - 256 e^{4}} + \\frac{40 \\mu e^{4} e^{\\sqrt{\\mu} x}}{\\mu^{3} e^{4} e^{2 \\sqrt{\\mu}} - \\mu^{3} e^{4} - 31 \\mu^{2} e^{4} e^{2 \\sqrt{\\mu}} + 31 \\mu^{2} e^{4} + 224 \\mu e^{4} e^{2 \\sqrt{\\mu}} - 224 \\mu e^{4} + 256 e^{4} e^{2 \\sqrt{\\mu}} - 256 e^{4}} + \\frac{256 u^{0}_{1} e^{2 \\sqrt{\\mu}}}{\\mu^{3} e^{2 \\sqrt{\\mu}} e^{\\sqrt{\\mu} x} - \\mu^{3} e^{\\sqrt{\\mu} x} - 31 \\mu^{2} e^{2 \\sqrt{\\mu}} e^{\\sqrt{\\mu} x} + 31 \\mu^{2} e^{\\sqrt{\\mu} x} + 224 \\mu e^{2 \\sqrt{\\mu}} e^{\\sqrt{\\mu} x} - 224 \\mu e^{\\sqrt{\\mu} x} + 256 e^{2 \\sqrt{\\mu}} e^{\\sqrt{\\mu} x} - 256 e^{\\sqrt{\\mu} x}} - \\frac{256 u^{0}_{1} e^{\\sqrt{\\mu}}}{\\mu^{3} e^{2 \\sqrt{\\mu}} e^{\\sqrt{\\mu} x} - \\mu^{3} e^{\\sqrt{\\mu} x} - 31 \\mu^{2} e^{2 \\sqrt{\\mu}} e^{\\sqrt{\\mu} x} + 31 \\mu^{2} e^{\\sqrt{\\mu} x} + 224 \\mu e^{2 \\sqrt{\\mu}} e^{\\sqrt{\\mu} x} - 224 \\mu e^{\\sqrt{\\mu} x} + 256 e^{2 \\sqrt{\\mu}} e^{\\sqrt{\\mu} x} - 256 e^{\\sqrt{\\mu} x}} + \\frac{256 u^{0}_{1} e^{4} e^{\\sqrt{\\mu}} e^{\\sqrt{\\mu} x}}{\\mu^{3} e^{4} e^{2 \\sqrt{\\mu}} - \\mu^{3} e^{4} - 31 \\mu^{2} e^{4} e^{2 \\sqrt{\\mu}} + 31 \\mu^{2} e^{4} + 224 \\mu e^{4} e^{2 \\sqrt{\\mu}} - 224 \\mu e^{4} + 256 e^{4} e^{2 \\sqrt{\\mu}} - 256 e^{4}} - \\frac{256 u^{0}_{1} e^{4} e^{\\sqrt{\\mu} x}}{\\mu^{3} e^{4} e^{2 \\sqrt{\\mu}} - \\mu^{3} e^{4} - 31 \\mu^{2} e^{4} e^{2 \\sqrt{\\mu}} + 31 \\mu^{2} e^{4} + 224 \\mu e^{4} e^{2 \\sqrt{\\mu}} - 224 \\mu e^{4} + 256 e^{4} e^{2 \\sqrt{\\mu}} - 256 e^{4}} - \\frac{x}{\\mu e^{4 x} - 16 e^{4 x}} + \\frac{24 e^{\\sqrt{\\mu}}}{\\mu^{3} e^{4} e^{2 \\sqrt{\\mu}} e^{\\sqrt{\\mu} x} - \\mu^{3} e^{4} e^{\\sqrt{\\mu} x} - 31 \\mu^{2} e^{4} e^{2 \\sqrt{\\mu}} e^{\\sqrt{\\mu} x} + 31 \\mu^{2} e^{4} e^{\\sqrt{\\mu} x} + 224 \\mu e^{4} e^{2 \\sqrt{\\mu}} e^{\\sqrt{\\mu} x} - 224 \\mu e^{4} e^{\\sqrt{\\mu} x} + 256 e^{4} e^{2 \\sqrt{\\mu}} e^{\\sqrt{\\mu} x} - 256 e^{4} e^{\\sqrt{\\mu} x}} + \\frac{248 e^{2 \\sqrt{\\mu}}}{\\mu^{3} e^{2 \\sqrt{\\mu}} e^{\\sqrt{\\mu} x} - \\mu^{3} e^{\\sqrt{\\mu} x} - 31 \\mu^{2} e^{2 \\sqrt{\\mu}} e^{\\sqrt{\\mu} x} + 31 \\mu^{2} e^{\\sqrt{\\mu} x} + 224 \\mu e^{2 \\sqrt{\\mu}} e^{\\sqrt{\\mu} x} - 224 \\mu e^{\\sqrt{\\mu} x} + 256 e^{2 \\sqrt{\\mu}} e^{\\sqrt{\\mu} x} - 256 e^{\\sqrt{\\mu} x}} - \\frac{256 e^{\\sqrt{\\mu}} \\cos{\\left(1 \\right)}}{\\mu^{3} e^{2 \\sqrt{\\mu}} e^{\\sqrt{\\mu} x} - \\mu^{3} e^{\\sqrt{\\mu} x} - 31 \\mu^{2} e^{2 \\sqrt{\\mu}} e^{\\sqrt{\\mu} x} + 31 \\mu^{2} e^{\\sqrt{\\mu} x} + 224 \\mu e^{2 \\sqrt{\\mu}} e^{\\sqrt{\\mu} x} - 224 \\mu e^{\\sqrt{\\mu} x} + 256 e^{2 \\sqrt{\\mu}} e^{\\sqrt{\\mu} x} - 256 e^{\\sqrt{\\mu} x}} - \\frac{24 e^{\\sqrt{\\mu}} e^{\\sqrt{\\mu} x}}{\\mu^{3} e^{4} e^{2 \\sqrt{\\mu}} - \\mu^{3} e^{4} - 31 \\mu^{2} e^{4} e^{2 \\sqrt{\\mu}} + 31 \\mu^{2} e^{4} + 224 \\mu e^{4} e^{2 \\sqrt{\\mu}} - 224 \\mu e^{4} + 256 e^{4} e^{2 \\sqrt{\\mu}} - 256 e^{4}} + \\frac{256 e^{4} e^{\\sqrt{\\mu}} e^{\\sqrt{\\mu} x} \\cos{\\left(1 \\right)}}{\\mu^{3} e^{4} e^{2 \\sqrt{\\mu}} - \\mu^{3} e^{4} - 31 \\mu^{2} e^{4} e^{2 \\sqrt{\\mu}} + 31 \\mu^{2} e^{4} + 224 \\mu e^{4} e^{2 \\sqrt{\\mu}} - 224 \\mu e^{4} + 256 e^{4} e^{2 \\sqrt{\\mu}} - 256 e^{4}} - \\frac{248 e^{4} e^{\\sqrt{\\mu} x}}{\\mu^{3} e^{4} e^{2 \\sqrt{\\mu}} - \\mu^{3} e^{4} - 31 \\mu^{2} e^{4} e^{2 \\sqrt{\\mu}} + 31 \\mu^{2} e^{4} + 224 \\mu e^{4} e^{2 \\sqrt{\\mu}} - 224 \\mu e^{4} + 256 e^{4} e^{2 \\sqrt{\\mu}} - 256 e^{4}} + \\frac{8}{\\mu^{2} e^{4 x} - 32 \\mu e^{4 x} + 256 e^{4 x}} - \\frac{\\cos{\\left(x \\right)}}{\\mu + 1}$"
      ],
      "text/plain": [
       "Eq(u1(x), mu**3*u_1^0*exp(2*sqrt(mu))/(mu**3*exp(2*sqrt(mu))*exp(sqrt(mu)*x) - mu**3*exp(sqrt(mu)*x) - 31*mu**2*exp(2*sqrt(mu))*exp(sqrt(mu)*x) + 31*mu**2*exp(sqrt(mu)*x) + 224*mu*exp(2*sqrt(mu))*exp(sqrt(mu)*x) - 224*mu*exp(sqrt(mu)*x) + 256*exp(2*sqrt(mu))*exp(sqrt(mu)*x) - 256*exp(sqrt(mu)*x)) - mu**3*u_1^0*exp(sqrt(mu))/(mu**3*exp(2*sqrt(mu))*exp(sqrt(mu)*x) - mu**3*exp(sqrt(mu)*x) - 31*mu**2*exp(2*sqrt(mu))*exp(sqrt(mu)*x) + 31*mu**2*exp(sqrt(mu)*x) + 224*mu*exp(2*sqrt(mu))*exp(sqrt(mu)*x) - 224*mu*exp(sqrt(mu)*x) + 256*exp(2*sqrt(mu))*exp(sqrt(mu)*x) - 256*exp(sqrt(mu)*x)) + mu**3*u_1^0*exp(4)*exp(sqrt(mu))*exp(sqrt(mu)*x)/(mu**3*exp(4)*exp(2*sqrt(mu)) - mu**3*exp(4) - 31*mu**2*exp(4)*exp(2*sqrt(mu)) + 31*mu**2*exp(4) + 224*mu*exp(4)*exp(2*sqrt(mu)) - 224*mu*exp(4) + 256*exp(4)*exp(2*sqrt(mu)) - 256*exp(4)) - mu**3*u_1^0*exp(4)*exp(sqrt(mu)*x)/(mu**3*exp(4)*exp(2*sqrt(mu)) - mu**3*exp(4) - 31*mu**2*exp(4)*exp(2*sqrt(mu)) + 31*mu**2*exp(4) + 224*mu*exp(4)*exp(2*sqrt(mu)) - 224*mu*exp(4) + 256*exp(4)*exp(2*sqrt(mu)) - 256*exp(4)) - 31*mu**2*u_1^0*exp(2*sqrt(mu))/(mu**3*exp(2*sqrt(mu))*exp(sqrt(mu)*x) - mu**3*exp(sqrt(mu)*x) - 31*mu**2*exp(2*sqrt(mu))*exp(sqrt(mu)*x) + 31*mu**2*exp(sqrt(mu)*x) + 224*mu*exp(2*sqrt(mu))*exp(sqrt(mu)*x) - 224*mu*exp(sqrt(mu)*x) + 256*exp(2*sqrt(mu))*exp(sqrt(mu)*x) - 256*exp(sqrt(mu)*x)) + 31*mu**2*u_1^0*exp(sqrt(mu))/(mu**3*exp(2*sqrt(mu))*exp(sqrt(mu)*x) - mu**3*exp(sqrt(mu)*x) - 31*mu**2*exp(2*sqrt(mu))*exp(sqrt(mu)*x) + 31*mu**2*exp(sqrt(mu)*x) + 224*mu*exp(2*sqrt(mu))*exp(sqrt(mu)*x) - 224*mu*exp(sqrt(mu)*x) + 256*exp(2*sqrt(mu))*exp(sqrt(mu)*x) - 256*exp(sqrt(mu)*x)) - 31*mu**2*u_1^0*exp(4)*exp(sqrt(mu))*exp(sqrt(mu)*x)/(mu**3*exp(4)*exp(2*sqrt(mu)) - mu**3*exp(4) - 31*mu**2*exp(4)*exp(2*sqrt(mu)) + 31*mu**2*exp(4) + 224*mu*exp(4)*exp(2*sqrt(mu)) - 224*mu*exp(4) + 256*exp(4)*exp(2*sqrt(mu)) - 256*exp(4)) + 31*mu**2*u_1^0*exp(4)*exp(sqrt(mu)*x)/(mu**3*exp(4)*exp(2*sqrt(mu)) - mu**3*exp(4) - 31*mu**2*exp(4)*exp(2*sqrt(mu)) + 31*mu**2*exp(4) + 224*mu*exp(4)*exp(2*sqrt(mu)) - 224*mu*exp(4) + 256*exp(4)*exp(2*sqrt(mu)) - 256*exp(4)) - mu**2*exp(sqrt(mu))/(mu**3*exp(4)*exp(2*sqrt(mu))*exp(sqrt(mu)*x) - mu**3*exp(4)*exp(sqrt(mu)*x) - 31*mu**2*exp(4)*exp(2*sqrt(mu))*exp(sqrt(mu)*x) + 31*mu**2*exp(4)*exp(sqrt(mu)*x) + 224*mu*exp(4)*exp(2*sqrt(mu))*exp(sqrt(mu)*x) - 224*mu*exp(4)*exp(sqrt(mu)*x) + 256*exp(4)*exp(2*sqrt(mu))*exp(sqrt(mu)*x) - 256*exp(4)*exp(sqrt(mu)*x)) + mu**2*exp(2*sqrt(mu))/(mu**3*exp(2*sqrt(mu))*exp(sqrt(mu)*x) - mu**3*exp(sqrt(mu)*x) - 31*mu**2*exp(2*sqrt(mu))*exp(sqrt(mu)*x) + 31*mu**2*exp(sqrt(mu)*x) + 224*mu*exp(2*sqrt(mu))*exp(sqrt(mu)*x) - 224*mu*exp(sqrt(mu)*x) + 256*exp(2*sqrt(mu))*exp(sqrt(mu)*x) - 256*exp(sqrt(mu)*x)) - mu**2*exp(sqrt(mu))*cos(1)/(mu**3*exp(2*sqrt(mu))*exp(sqrt(mu)*x) - mu**3*exp(sqrt(mu)*x) - 31*mu**2*exp(2*sqrt(mu))*exp(sqrt(mu)*x) + 31*mu**2*exp(sqrt(mu)*x) + 224*mu*exp(2*sqrt(mu))*exp(sqrt(mu)*x) - 224*mu*exp(sqrt(mu)*x) + 256*exp(2*sqrt(mu))*exp(sqrt(mu)*x) - 256*exp(sqrt(mu)*x)) + mu**2*exp(sqrt(mu))*exp(sqrt(mu)*x)/(mu**3*exp(4)*exp(2*sqrt(mu)) - mu**3*exp(4) - 31*mu**2*exp(4)*exp(2*sqrt(mu)) + 31*mu**2*exp(4) + 224*mu*exp(4)*exp(2*sqrt(mu)) - 224*mu*exp(4) + 256*exp(4)*exp(2*sqrt(mu)) - 256*exp(4)) + mu**2*exp(4)*exp(sqrt(mu))*exp(sqrt(mu)*x)*cos(1)/(mu**3*exp(4)*exp(2*sqrt(mu)) - mu**3*exp(4) - 31*mu**2*exp(4)*exp(2*sqrt(mu)) + 31*mu**2*exp(4) + 224*mu*exp(4)*exp(2*sqrt(mu)) - 224*mu*exp(4) + 256*exp(4)*exp(2*sqrt(mu)) - 256*exp(4)) - mu**2*exp(4)*exp(sqrt(mu)*x)/(mu**3*exp(4)*exp(2*sqrt(mu)) - mu**3*exp(4) - 31*mu**2*exp(4)*exp(2*sqrt(mu)) + 31*mu**2*exp(4) + 224*mu*exp(4)*exp(2*sqrt(mu)) - 224*mu*exp(4) + 256*exp(4)*exp(2*sqrt(mu)) - 256*exp(4)) + 224*mu*u_1^0*exp(2*sqrt(mu))/(mu**3*exp(2*sqrt(mu))*exp(sqrt(mu)*x) - mu**3*exp(sqrt(mu)*x) - 31*mu**2*exp(2*sqrt(mu))*exp(sqrt(mu)*x) + 31*mu**2*exp(sqrt(mu)*x) + 224*mu*exp(2*sqrt(mu))*exp(sqrt(mu)*x) - 224*mu*exp(sqrt(mu)*x) + 256*exp(2*sqrt(mu))*exp(sqrt(mu)*x) - 256*exp(sqrt(mu)*x)) - 224*mu*u_1^0*exp(sqrt(mu))/(mu**3*exp(2*sqrt(mu))*exp(sqrt(mu)*x) - mu**3*exp(sqrt(mu)*x) - 31*mu**2*exp(2*sqrt(mu))*exp(sqrt(mu)*x) + 31*mu**2*exp(sqrt(mu)*x) + 224*mu*exp(2*sqrt(mu))*exp(sqrt(mu)*x) - 224*mu*exp(sqrt(mu)*x) + 256*exp(2*sqrt(mu))*exp(sqrt(mu)*x) - 256*exp(sqrt(mu)*x)) + 224*mu*u_1^0*exp(4)*exp(sqrt(mu))*exp(sqrt(mu)*x)/(mu**3*exp(4)*exp(2*sqrt(mu)) - mu**3*exp(4) - 31*mu**2*exp(4)*exp(2*sqrt(mu)) + 31*mu**2*exp(4) + 224*mu*exp(4)*exp(2*sqrt(mu)) - 224*mu*exp(4) + 256*exp(4)*exp(2*sqrt(mu)) - 256*exp(4)) - 224*mu*u_1^0*exp(4)*exp(sqrt(mu)*x)/(mu**3*exp(4)*exp(2*sqrt(mu)) - mu**3*exp(4) - 31*mu**2*exp(4)*exp(2*sqrt(mu)) + 31*mu**2*exp(4) + 224*mu*exp(4)*exp(2*sqrt(mu)) - 224*mu*exp(4) + 256*exp(4)*exp(2*sqrt(mu)) - 256*exp(4)) + 23*mu*exp(sqrt(mu))/(mu**3*exp(4)*exp(2*sqrt(mu))*exp(sqrt(mu)*x) - mu**3*exp(4)*exp(sqrt(mu)*x) - 31*mu**2*exp(4)*exp(2*sqrt(mu))*exp(sqrt(mu)*x) + 31*mu**2*exp(4)*exp(sqrt(mu)*x) + 224*mu*exp(4)*exp(2*sqrt(mu))*exp(sqrt(mu)*x) - 224*mu*exp(4)*exp(sqrt(mu)*x) + 256*exp(4)*exp(2*sqrt(mu))*exp(sqrt(mu)*x) - 256*exp(4)*exp(sqrt(mu)*x)) - 40*mu*exp(2*sqrt(mu))/(mu**3*exp(2*sqrt(mu))*exp(sqrt(mu)*x) - mu**3*exp(sqrt(mu)*x) - 31*mu**2*exp(2*sqrt(mu))*exp(sqrt(mu)*x) + 31*mu**2*exp(sqrt(mu)*x) + 224*mu*exp(2*sqrt(mu))*exp(sqrt(mu)*x) - 224*mu*exp(sqrt(mu)*x) + 256*exp(2*sqrt(mu))*exp(sqrt(mu)*x) - 256*exp(sqrt(mu)*x)) + 32*mu*exp(sqrt(mu))*cos(1)/(mu**3*exp(2*sqrt(mu))*exp(sqrt(mu)*x) - mu**3*exp(sqrt(mu)*x) - 31*mu**2*exp(2*sqrt(mu))*exp(sqrt(mu)*x) + 31*mu**2*exp(sqrt(mu)*x) + 224*mu*exp(2*sqrt(mu))*exp(sqrt(mu)*x) - 224*mu*exp(sqrt(mu)*x) + 256*exp(2*sqrt(mu))*exp(sqrt(mu)*x) - 256*exp(sqrt(mu)*x)) - 32*mu*exp(4)*exp(sqrt(mu))*exp(sqrt(mu)*x)*cos(1)/(mu**3*exp(4)*exp(2*sqrt(mu)) - mu**3*exp(4) - 31*mu**2*exp(4)*exp(2*sqrt(mu)) + 31*mu**2*exp(4) + 224*mu*exp(4)*exp(2*sqrt(mu)) - 224*mu*exp(4) + 256*exp(4)*exp(2*sqrt(mu)) - 256*exp(4)) - 23*mu*exp(sqrt(mu))*exp(sqrt(mu)*x)/(mu**3*exp(4)*exp(2*sqrt(mu)) - mu**3*exp(4) - 31*mu**2*exp(4)*exp(2*sqrt(mu)) + 31*mu**2*exp(4) + 224*mu*exp(4)*exp(2*sqrt(mu)) - 224*mu*exp(4) + 256*exp(4)*exp(2*sqrt(mu)) - 256*exp(4)) + 40*mu*exp(4)*exp(sqrt(mu)*x)/(mu**3*exp(4)*exp(2*sqrt(mu)) - mu**3*exp(4) - 31*mu**2*exp(4)*exp(2*sqrt(mu)) + 31*mu**2*exp(4) + 224*mu*exp(4)*exp(2*sqrt(mu)) - 224*mu*exp(4) + 256*exp(4)*exp(2*sqrt(mu)) - 256*exp(4)) + 256*u_1^0*exp(2*sqrt(mu))/(mu**3*exp(2*sqrt(mu))*exp(sqrt(mu)*x) - mu**3*exp(sqrt(mu)*x) - 31*mu**2*exp(2*sqrt(mu))*exp(sqrt(mu)*x) + 31*mu**2*exp(sqrt(mu)*x) + 224*mu*exp(2*sqrt(mu))*exp(sqrt(mu)*x) - 224*mu*exp(sqrt(mu)*x) + 256*exp(2*sqrt(mu))*exp(sqrt(mu)*x) - 256*exp(sqrt(mu)*x)) - 256*u_1^0*exp(sqrt(mu))/(mu**3*exp(2*sqrt(mu))*exp(sqrt(mu)*x) - mu**3*exp(sqrt(mu)*x) - 31*mu**2*exp(2*sqrt(mu))*exp(sqrt(mu)*x) + 31*mu**2*exp(sqrt(mu)*x) + 224*mu*exp(2*sqrt(mu))*exp(sqrt(mu)*x) - 224*mu*exp(sqrt(mu)*x) + 256*exp(2*sqrt(mu))*exp(sqrt(mu)*x) - 256*exp(sqrt(mu)*x)) + 256*u_1^0*exp(4)*exp(sqrt(mu))*exp(sqrt(mu)*x)/(mu**3*exp(4)*exp(2*sqrt(mu)) - mu**3*exp(4) - 31*mu**2*exp(4)*exp(2*sqrt(mu)) + 31*mu**2*exp(4) + 224*mu*exp(4)*exp(2*sqrt(mu)) - 224*mu*exp(4) + 256*exp(4)*exp(2*sqrt(mu)) - 256*exp(4)) - 256*u_1^0*exp(4)*exp(sqrt(mu)*x)/(mu**3*exp(4)*exp(2*sqrt(mu)) - mu**3*exp(4) - 31*mu**2*exp(4)*exp(2*sqrt(mu)) + 31*mu**2*exp(4) + 224*mu*exp(4)*exp(2*sqrt(mu)) - 224*mu*exp(4) + 256*exp(4)*exp(2*sqrt(mu)) - 256*exp(4)) - x/(mu*exp(4*x) - 16*exp(4*x)) + 24*exp(sqrt(mu))/(mu**3*exp(4)*exp(2*sqrt(mu))*exp(sqrt(mu)*x) - mu**3*exp(4)*exp(sqrt(mu)*x) - 31*mu**2*exp(4)*exp(2*sqrt(mu))*exp(sqrt(mu)*x) + 31*mu**2*exp(4)*exp(sqrt(mu)*x) + 224*mu*exp(4)*exp(2*sqrt(mu))*exp(sqrt(mu)*x) - 224*mu*exp(4)*exp(sqrt(mu)*x) + 256*exp(4)*exp(2*sqrt(mu))*exp(sqrt(mu)*x) - 256*exp(4)*exp(sqrt(mu)*x)) + 248*exp(2*sqrt(mu))/(mu**3*exp(2*sqrt(mu))*exp(sqrt(mu)*x) - mu**3*exp(sqrt(mu)*x) - 31*mu**2*exp(2*sqrt(mu))*exp(sqrt(mu)*x) + 31*mu**2*exp(sqrt(mu)*x) + 224*mu*exp(2*sqrt(mu))*exp(sqrt(mu)*x) - 224*mu*exp(sqrt(mu)*x) + 256*exp(2*sqrt(mu))*exp(sqrt(mu)*x) - 256*exp(sqrt(mu)*x)) - 256*exp(sqrt(mu))*cos(1)/(mu**3*exp(2*sqrt(mu))*exp(sqrt(mu)*x) - mu**3*exp(sqrt(mu)*x) - 31*mu**2*exp(2*sqrt(mu))*exp(sqrt(mu)*x) + 31*mu**2*exp(sqrt(mu)*x) + 224*mu*exp(2*sqrt(mu))*exp(sqrt(mu)*x) - 224*mu*exp(sqrt(mu)*x) + 256*exp(2*sqrt(mu))*exp(sqrt(mu)*x) - 256*exp(sqrt(mu)*x)) - 24*exp(sqrt(mu))*exp(sqrt(mu)*x)/(mu**3*exp(4)*exp(2*sqrt(mu)) - mu**3*exp(4) - 31*mu**2*exp(4)*exp(2*sqrt(mu)) + 31*mu**2*exp(4) + 224*mu*exp(4)*exp(2*sqrt(mu)) - 224*mu*exp(4) + 256*exp(4)*exp(2*sqrt(mu)) - 256*exp(4)) + 256*exp(4)*exp(sqrt(mu))*exp(sqrt(mu)*x)*cos(1)/(mu**3*exp(4)*exp(2*sqrt(mu)) - mu**3*exp(4) - 31*mu**2*exp(4)*exp(2*sqrt(mu)) + 31*mu**2*exp(4) + 224*mu*exp(4)*exp(2*sqrt(mu)) - 224*mu*exp(4) + 256*exp(4)*exp(2*sqrt(mu)) - 256*exp(4)) - 248*exp(4)*exp(sqrt(mu)*x)/(mu**3*exp(4)*exp(2*sqrt(mu)) - mu**3*exp(4) - 31*mu**2*exp(4)*exp(2*sqrt(mu)) + 31*mu**2*exp(4) + 224*mu*exp(4)*exp(2*sqrt(mu)) - 224*mu*exp(4) + 256*exp(4)*exp(2*sqrt(mu)) - 256*exp(4)) + 8/(mu**2*exp(4*x) - 32*mu*exp(4*x) + 256*exp(4*x)) - cos(x)/(mu + 1))"
      ]
     },
     "execution_count": 139,
     "metadata": {},
     "output_type": "execute_result"
    }
   ],
   "source": [
    "res1_ics.expand()"
   ]
  },
  {
   "cell_type": "code",
   "execution_count": 137,
   "metadata": {},
   "outputs": [
    {
     "data": {
      "text/latex": [
       "$\\displaystyle \\operatorname{u_{1}}{\\left(x \\right)} = - \\frac{x e^{- 4 x}}{\\mu - 16} + \\frac{\\left(\\mu^{3} u^{0}_{1} e^{\\sqrt{\\mu} + 4} - \\mu^{3} u^{0}_{1} e^{4} - 31 \\mu^{2} u^{0}_{1} e^{\\sqrt{\\mu} + 4} + 31 \\mu^{2} u^{0}_{1} e^{4} + \\mu^{2} e^{\\sqrt{\\mu}} + \\mu^{2} e^{\\sqrt{\\mu} + 4} \\cos{\\left(1 \\right)} - \\mu^{2} e^{4} + 224 \\mu u^{0}_{1} e^{\\sqrt{\\mu} + 4} - 224 \\mu u^{0}_{1} e^{4} - 23 \\mu e^{\\sqrt{\\mu}} - 32 \\mu e^{\\sqrt{\\mu} + 4} \\cos{\\left(1 \\right)} + 40 \\mu e^{4} + 256 u^{0}_{1} e^{\\sqrt{\\mu} + 4} - 256 u^{0}_{1} e^{4} - 24 e^{\\sqrt{\\mu}} + 256 e^{\\sqrt{\\mu} + 4} \\cos{\\left(1 \\right)} - 248 e^{4}\\right) e^{\\sqrt{\\mu} x}}{\\left(\\mu^{3} e^{2 \\sqrt{\\mu}} - \\mu^{3} - 31 \\mu^{2} e^{2 \\sqrt{\\mu}} + 31 \\mu^{2} + 224 \\mu e^{2 \\sqrt{\\mu}} - 224 \\mu + 256 e^{2 \\sqrt{\\mu}} - 256\\right) e^{4}} + \\frac{\\left(\\mu^{3} u^{0}_{1} e^{\\sqrt{\\mu} + 4} - \\mu^{3} u^{0}_{1} e^{4} - 31 \\mu^{2} u^{0}_{1} e^{\\sqrt{\\mu} + 4} + 31 \\mu^{2} u^{0}_{1} e^{4} + \\mu^{2} e^{\\sqrt{\\mu} + 4} - \\mu^{2} e^{4} \\cos{\\left(1 \\right)} - \\mu^{2} + 224 \\mu u^{0}_{1} e^{\\sqrt{\\mu} + 4} - 224 \\mu u^{0}_{1} e^{4} - 40 \\mu e^{\\sqrt{\\mu} + 4} + 23 \\mu + 32 \\mu e^{4} \\cos{\\left(1 \\right)} + 256 u^{0}_{1} e^{\\sqrt{\\mu} + 4} - 256 u^{0}_{1} e^{4} + 248 e^{\\sqrt{\\mu} + 4} - 256 e^{4} \\cos{\\left(1 \\right)} + 24\\right) e^{- \\sqrt{\\mu} x} e^{\\sqrt{\\mu} - 4}}{\\mu^{3} e^{2 \\sqrt{\\mu}} - \\mu^{3} - 31 \\mu^{2} e^{2 \\sqrt{\\mu}} + 31 \\mu^{2} + 224 \\mu e^{2 \\sqrt{\\mu}} - 224 \\mu + 256 e^{2 \\sqrt{\\mu}} - 256} - \\frac{\\cos{\\left(x \\right)}}{\\mu + 1} + \\frac{8 e^{- 4 x}}{\\left(\\mu - 16\\right)^{2}}$"
      ],
      "text/plain": [
       "Eq(u1(x), -x*exp(-4*x)/(mu - 16) + (mu**3*u_1^0*exp(sqrt(mu) + 4) - mu**3*u_1^0*exp(4) - 31*mu**2*u_1^0*exp(sqrt(mu) + 4) + 31*mu**2*u_1^0*exp(4) + mu**2*exp(sqrt(mu)) + mu**2*exp(sqrt(mu) + 4)*cos(1) - mu**2*exp(4) + 224*mu*u_1^0*exp(sqrt(mu) + 4) - 224*mu*u_1^0*exp(4) - 23*mu*exp(sqrt(mu)) - 32*mu*exp(sqrt(mu) + 4)*cos(1) + 40*mu*exp(4) + 256*u_1^0*exp(sqrt(mu) + 4) - 256*u_1^0*exp(4) - 24*exp(sqrt(mu)) + 256*exp(sqrt(mu) + 4)*cos(1) - 248*exp(4))*exp(-4)*exp(sqrt(mu)*x)/(mu**3*exp(2*sqrt(mu)) - mu**3 - 31*mu**2*exp(2*sqrt(mu)) + 31*mu**2 + 224*mu*exp(2*sqrt(mu)) - 224*mu + 256*exp(2*sqrt(mu)) - 256) + (mu**3*u_1^0*exp(sqrt(mu) + 4) - mu**3*u_1^0*exp(4) - 31*mu**2*u_1^0*exp(sqrt(mu) + 4) + 31*mu**2*u_1^0*exp(4) + mu**2*exp(sqrt(mu) + 4) - mu**2*exp(4)*cos(1) - mu**2 + 224*mu*u_1^0*exp(sqrt(mu) + 4) - 224*mu*u_1^0*exp(4) - 40*mu*exp(sqrt(mu) + 4) + 23*mu + 32*mu*exp(4)*cos(1) + 256*u_1^0*exp(sqrt(mu) + 4) - 256*u_1^0*exp(4) + 248*exp(sqrt(mu) + 4) - 256*exp(4)*cos(1) + 24)*exp(-sqrt(mu)*x)*exp(sqrt(mu) - 4)/(mu**3*exp(2*sqrt(mu)) - mu**3 - 31*mu**2*exp(2*sqrt(mu)) + 31*mu**2 + 224*mu*exp(2*sqrt(mu)) - 224*mu + 256*exp(2*sqrt(mu)) - 256) - cos(x)/(mu + 1) + 8*exp(-4*x)/(mu - 16)**2)"
      ]
     },
     "execution_count": 137,
     "metadata": {},
     "output_type": "execute_result"
    }
   ],
   "source": []
  },
  {
   "cell_type": "code",
   "execution_count": 134,
   "metadata": {},
   "outputs": [
    {
     "data": {
      "text/plain": [
       "'\\\\operatorname{u_{1}}{\\\\left(x \\\\right)} = - \\\\frac{x e^{- 4 x}}{\\\\mu - 16} + \\\\frac{\\\\left(\\\\mu^{3} u^{0}_{1} e^{\\\\sqrt{\\\\mu} + 4} - \\\\mu^{3} u^{0}_{1} e^{4} - 31 \\\\mu^{2} u^{0}_{1} e^{\\\\sqrt{\\\\mu} + 4} + 31 \\\\mu^{2} u^{0}_{1} e^{4} + \\\\mu^{2} e^{\\\\sqrt{\\\\mu}} + \\\\mu^{2} e^{\\\\sqrt{\\\\mu} + 4} \\\\cos{\\\\left(1 \\\\right)} - \\\\mu^{2} e^{4} + 224 \\\\mu u^{0}_{1} e^{\\\\sqrt{\\\\mu} + 4} - 224 \\\\mu u^{0}_{1} e^{4} - 23 \\\\mu e^{\\\\sqrt{\\\\mu}} - 32 \\\\mu e^{\\\\sqrt{\\\\mu} + 4} \\\\cos{\\\\left(1 \\\\right)} + 40 \\\\mu e^{4} + 256 u^{0}_{1} e^{\\\\sqrt{\\\\mu} + 4} - 256 u^{0}_{1} e^{4} - 24 e^{\\\\sqrt{\\\\mu}} + 256 e^{\\\\sqrt{\\\\mu} + 4} \\\\cos{\\\\left(1 \\\\right)} - 248 e^{4}\\\\right) e^{\\\\sqrt{\\\\mu} x}}{\\\\left(\\\\mu^{3} e^{2 \\\\sqrt{\\\\mu}} - \\\\mu^{3} - 31 \\\\mu^{2} e^{2 \\\\sqrt{\\\\mu}} + 31 \\\\mu^{2} + 224 \\\\mu e^{2 \\\\sqrt{\\\\mu}} - 224 \\\\mu + 256 e^{2 \\\\sqrt{\\\\mu}} - 256\\\\right) e^{4}} + \\\\frac{\\\\left(\\\\mu^{3} u^{0}_{1} e^{\\\\sqrt{\\\\mu} + 4} - \\\\mu^{3} u^{0}_{1} e^{4} - 31 \\\\mu^{2} u^{0}_{1} e^{\\\\sqrt{\\\\mu} + 4} + 31 \\\\mu^{2} u^{0}_{1} e^{4} + \\\\mu^{2} e^{\\\\sqrt{\\\\mu} + 4} - \\\\mu^{2} e^{4} \\\\cos{\\\\left(1 \\\\right)} - \\\\mu^{2} + 224 \\\\mu u^{0}_{1} e^{\\\\sqrt{\\\\mu} + 4} - 224 \\\\mu u^{0}_{1} e^{4} - 40 \\\\mu e^{\\\\sqrt{\\\\mu} + 4} + 23 \\\\mu + 32 \\\\mu e^{4} \\\\cos{\\\\left(1 \\\\right)} + 256 u^{0}_{1} e^{\\\\sqrt{\\\\mu} + 4} - 256 u^{0}_{1} e^{4} + 248 e^{\\\\sqrt{\\\\mu} + 4} - 256 e^{4} \\\\cos{\\\\left(1 \\\\right)} + 24\\\\right) e^{- \\\\sqrt{\\\\mu} x} e^{\\\\sqrt{\\\\mu} - 4}}{\\\\mu^{3} e^{2 \\\\sqrt{\\\\mu}} - \\\\mu^{3} - 31 \\\\mu^{2} e^{2 \\\\sqrt{\\\\mu}} + 31 \\\\mu^{2} + 224 \\\\mu e^{2 \\\\sqrt{\\\\mu}} - 224 \\\\mu + 256 e^{2 \\\\sqrt{\\\\mu}} - 256} - \\\\frac{\\\\cos{\\\\left(x \\\\right)}}{\\\\mu + 1} + \\\\frac{8 e^{- 4 x}}{\\\\left(\\\\mu - 16\\\\right)^{2}}'"
      ]
     },
     "execution_count": 134,
     "metadata": {},
     "output_type": "execute_result"
    }
   ],
   "source": [
    "latex(res1_ics)"
   ]
  },
  {
   "cell_type": "code",
   "execution_count": 100,
   "metadata": {},
   "outputs": [
    {
     "data": {
      "text/latex": [
       "$\\displaystyle - \\frac{x e^{- 4 x}}{\\mu - 16} + \\frac{\\left(\\mu^{3} u^{0}_{1} e^{\\sqrt{\\mu} + 4} - \\mu^{3} u^{0}_{1} e^{4} - 31 \\mu^{2} u^{0}_{1} e^{\\sqrt{\\mu} + 4} + 31 \\mu^{2} u^{0}_{1} e^{4} + \\mu^{2} e^{\\sqrt{\\mu}} + \\mu^{2} e^{\\sqrt{\\mu} + 4} \\cos{\\left(1 \\right)} - \\mu^{2} e^{4} + 224 \\mu u^{0}_{1} e^{\\sqrt{\\mu} + 4} - 224 \\mu u^{0}_{1} e^{4} - 23 \\mu e^{\\sqrt{\\mu}} - 32 \\mu e^{\\sqrt{\\mu} + 4} \\cos{\\left(1 \\right)} + 40 \\mu e^{4} + 256 u^{0}_{1} e^{\\sqrt{\\mu} + 4} - 256 u^{0}_{1} e^{4} - 24 e^{\\sqrt{\\mu}} + 256 e^{\\sqrt{\\mu} + 4} \\cos{\\left(1 \\right)} - 248 e^{4}\\right) e^{\\sqrt{\\mu} x}}{\\left(\\mu^{3} e^{2 \\sqrt{\\mu}} - \\mu^{3} - 31 \\mu^{2} e^{2 \\sqrt{\\mu}} + 31 \\mu^{2} + 224 \\mu e^{2 \\sqrt{\\mu}} - 224 \\mu + 256 e^{2 \\sqrt{\\mu}} - 256\\right) e^{4}} + \\frac{\\left(\\mu^{3} u^{0}_{1} e^{\\sqrt{\\mu} + 4} - \\mu^{3} u^{0}_{1} e^{4} - 31 \\mu^{2} u^{0}_{1} e^{\\sqrt{\\mu} + 4} + 31 \\mu^{2} u^{0}_{1} e^{4} + \\mu^{2} e^{\\sqrt{\\mu} + 4} - \\mu^{2} e^{4} \\cos{\\left(1 \\right)} - \\mu^{2} + 224 \\mu u^{0}_{1} e^{\\sqrt{\\mu} + 4} - 224 \\mu u^{0}_{1} e^{4} - 40 \\mu e^{\\sqrt{\\mu} + 4} + 23 \\mu + 32 \\mu e^{4} \\cos{\\left(1 \\right)} + 256 u^{0}_{1} e^{\\sqrt{\\mu} + 4} - 256 u^{0}_{1} e^{4} + 248 e^{\\sqrt{\\mu} + 4} - 256 e^{4} \\cos{\\left(1 \\right)} + 24\\right) e^{- \\sqrt{\\mu} x} e^{\\sqrt{\\mu} - 4}}{\\mu^{3} e^{2 \\sqrt{\\mu}} - \\mu^{3} - 31 \\mu^{2} e^{2 \\sqrt{\\mu}} + 31 \\mu^{2} + 224 \\mu e^{2 \\sqrt{\\mu}} - 224 \\mu + 256 e^{2 \\sqrt{\\mu}} - 256} - \\frac{\\cos{\\left(x \\right)}}{\\mu + 1} + \\frac{8 e^{- 4 x}}{\\left(\\mu - 16\\right)^{2}}$"
      ],
      "text/plain": [
       "-x*exp(-4*x)/(mu - 16) + (mu**3*u_1^0*exp(sqrt(mu) + 4) - mu**3*u_1^0*exp(4) - 31*mu**2*u_1^0*exp(sqrt(mu) + 4) + 31*mu**2*u_1^0*exp(4) + mu**2*exp(sqrt(mu)) + mu**2*exp(sqrt(mu) + 4)*cos(1) - mu**2*exp(4) + 224*mu*u_1^0*exp(sqrt(mu) + 4) - 224*mu*u_1^0*exp(4) - 23*mu*exp(sqrt(mu)) - 32*mu*exp(sqrt(mu) + 4)*cos(1) + 40*mu*exp(4) + 256*u_1^0*exp(sqrt(mu) + 4) - 256*u_1^0*exp(4) - 24*exp(sqrt(mu)) + 256*exp(sqrt(mu) + 4)*cos(1) - 248*exp(4))*exp(-4)*exp(sqrt(mu)*x)/(mu**3*exp(2*sqrt(mu)) - mu**3 - 31*mu**2*exp(2*sqrt(mu)) + 31*mu**2 + 224*mu*exp(2*sqrt(mu)) - 224*mu + 256*exp(2*sqrt(mu)) - 256) + (mu**3*u_1^0*exp(sqrt(mu) + 4) - mu**3*u_1^0*exp(4) - 31*mu**2*u_1^0*exp(sqrt(mu) + 4) + 31*mu**2*u_1^0*exp(4) + mu**2*exp(sqrt(mu) + 4) - mu**2*exp(4)*cos(1) - mu**2 + 224*mu*u_1^0*exp(sqrt(mu) + 4) - 224*mu*u_1^0*exp(4) - 40*mu*exp(sqrt(mu) + 4) + 23*mu + 32*mu*exp(4)*cos(1) + 256*u_1^0*exp(sqrt(mu) + 4) - 256*u_1^0*exp(4) + 248*exp(sqrt(mu) + 4) - 256*exp(4)*cos(1) + 24)*exp(-sqrt(mu)*x)*exp(sqrt(mu) - 4)/(mu**3*exp(2*sqrt(mu)) - mu**3 - 31*mu**2*exp(2*sqrt(mu)) + 31*mu**2 + 224*mu*exp(2*sqrt(mu)) - 224*mu + 256*exp(2*sqrt(mu)) - 256) - cos(x)/(mu + 1) + 8*exp(-4*x)/(mu - 16)**2"
      ]
     },
     "execution_count": 100,
     "metadata": {},
     "output_type": "execute_result"
    }
   ],
   "source": [
    "expr = res1_ics.rhs\n",
    "expr"
   ]
  },
  {
   "cell_type": "code",
   "execution_count": 102,
   "metadata": {},
   "outputs": [
    {
     "data": {
      "text/plain": [
       "'-x*exp(-4*x)/(mu - 16) + (pow(mu, 3)*u_1^0*exp(sqrt(mu) + 4) - pow(mu, 3)*u_1^0*exp(4) - 31*pow(mu, 2)*u_1^0*exp(sqrt(mu) + 4) + 31*pow(mu, 2)*u_1^0*exp(4) + pow(mu, 2)*exp(sqrt(mu)) + pow(mu, 2)*exp(sqrt(mu) + 4)*cos(1) - pow(mu, 2)*exp(4) + 224*mu*u_1^0*exp(sqrt(mu) + 4) - 224*mu*u_1^0*exp(4) - 23*mu*exp(sqrt(mu)) - 32*mu*exp(sqrt(mu) + 4)*cos(1) + 40*mu*exp(4) + 256*u_1^0*exp(sqrt(mu) + 4) - 256*u_1^0*exp(4) - 24*exp(sqrt(mu)) + 256*exp(sqrt(mu) + 4)*cos(1) - 248*exp(4))*exp(-4)*exp(sqrt(mu)*x)/(pow(mu, 3)*exp(2*sqrt(mu)) - pow(mu, 3) - 31*pow(mu, 2)*exp(2*sqrt(mu)) + 31*pow(mu, 2) + 224*mu*exp(2*sqrt(mu)) - 224*mu + 256*exp(2*sqrt(mu)) - 256) + (pow(mu, 3)*u_1^0*exp(sqrt(mu) + 4) - pow(mu, 3)*u_1^0*exp(4) - 31*pow(mu, 2)*u_1^0*exp(sqrt(mu) + 4) + 31*pow(mu, 2)*u_1^0*exp(4) + pow(mu, 2)*exp(sqrt(mu) + 4) - pow(mu, 2)*exp(4)*cos(1) - pow(mu, 2) + 224*mu*u_1^0*exp(sqrt(mu) + 4) - 224*mu*u_1^0*exp(4) - 40*mu*exp(sqrt(mu) + 4) + 23*mu + 32*mu*exp(4)*cos(1) + 256*u_1^0*exp(sqrt(mu) + 4) - 256*u_1^0*exp(4) + 248*exp(sqrt(mu) + 4) - 256*exp(4)*cos(1) + 24)*exp(-sqrt(mu)*x)*exp(sqrt(mu) - 4)/(pow(mu, 3)*exp(2*sqrt(mu)) - pow(mu, 3) - 31*pow(mu, 2)*exp(2*sqrt(mu)) + 31*pow(mu, 2) + 224*mu*exp(2*sqrt(mu)) - 224*mu + 256*exp(2*sqrt(mu)) - 256) - cos(x)/(mu + 1) + 8*exp(-4*x)/pow(mu - 16, 2)'"
      ]
     },
     "execution_count": 102,
     "metadata": {},
     "output_type": "execute_result"
    }
   ],
   "source": [
    "ccode(expr)"
   ]
  },
  {
   "cell_type": "code",
   "execution_count": 103,
   "metadata": {},
   "outputs": [],
   "source": [
    "from sympy.utilities.codegen import codegen"
   ]
  },
  {
   "cell_type": "code",
   "execution_count": 106,
   "metadata": {},
   "outputs": [],
   "source": [
    "cd = codegen(('func1', expr), \"octave\")"
   ]
  },
  {
   "cell_type": "code",
   "execution_count": 110,
   "metadata": {},
   "outputs": [
    {
     "data": {
      "text/plain": [
       "\"function out1 = func1(mu, u_1^0, x)\\n  %FUNC1  Autogenerated by sympy\\n  %   Code generated with sympy 1.4\\n  %\\n  %   See http://www.sympy.org/ for more information.\\n  %\\n  %   This file is part of 'project'\\n\\n  out1 = -x.*exp(-4*x)./(mu - 16) + (mu.^3.*u_1^0.*exp(sqrt(mu) + 4) - mu.^3.*u_1^0.*exp(4) - 31*mu.^2.*u_1^0.*exp(sqrt(mu) + 4) + 31*mu.^2.*u_1^0.*exp(4) + mu.^2.*exp(sqrt(mu)) + mu.^2.*exp(sqrt(mu) + 4).*cos(1) - mu.^2.*exp(4) + 224*mu.*u_1^0.*exp(sqrt(mu) + 4) - 224*mu.*u_1^0.*exp(4) - 23*mu.*exp(sqrt(mu)) - 32*mu.*exp(sqrt(mu) + 4).*cos(1) + 40*mu.*exp(4) + 256*u_1^0.*exp(sqrt(mu) + 4) - 256*u_1^0.*exp(4) - 24*exp(sqrt(mu)) + 256*exp(sqrt(mu) + 4).*cos(1) - 248*exp(4)).*exp(-4)*exp(sqrt(mu).*x)./(mu.^3.*exp(2*sqrt(mu)) - mu.^3 - 31*mu.^2.*exp(2*sqrt(mu)) + 31*mu.^2 + 224*mu.*exp(2*sqrt(mu)) - 224*mu + 256*exp(2*sqrt(mu)) - 256) + (mu.^3.*u_1^0.*exp(sqrt(mu) + 4) - mu.^3.*u_1^0.*exp(4) - 31*mu.^2.*u_1^0.*exp(sqrt(mu) + 4) + 31*mu.^2.*u_1^0.*exp(4) + mu.^2.*exp(sqrt(mu) + 4) - mu.^2.*exp(4)*cos(1) - mu.^2 + 224*mu.*u_1^0.*exp(sqrt(mu) + 4) - 224*mu.*u_1^0.*exp(4) - 40*mu.*exp(sqrt(mu) + 4) + 23*mu + 32*mu.*exp(4)*cos(1) + 256*u_1^0.*exp(sqrt(mu) + 4) - 256*u_1^0.*exp(4) + 248*exp(sqrt(mu) + 4) - 256*exp(4)*cos(1) + 24).*exp(-sqrt(mu).*x).*exp(sqrt(mu) - 4)./(mu.^3.*exp(2*sqrt(mu)) - mu.^3 - 31*mu.^2.*exp(2*sqrt(mu)) + 31*mu.^2 + 224*mu.*exp(2*sqrt(mu)) - 224*mu + 256*exp(2*sqrt(mu)) - 256) - cos(x)./(mu + 1) + 8*exp(-4*x)./(mu - 16).^2;\\n\\nend\\n\""
      ]
     },
     "execution_count": 110,
     "metadata": {},
     "output_type": "execute_result"
    }
   ],
   "source": [
    "cd[0][1]"
   ]
  },
  {
   "cell_type": "code",
   "execution_count": null,
   "metadata": {},
   "outputs": [],
   "source": []
  },
  {
   "cell_type": "code",
   "execution_count": null,
   "metadata": {},
   "outputs": [],
   "source": []
  },
  {
   "cell_type": "code",
   "execution_count": null,
   "metadata": {},
   "outputs": [],
   "source": []
  },
  {
   "cell_type": "code",
   "execution_count": 67,
   "metadata": {
    "scrolled": true
   },
   "outputs": [
    {
     "data": {
      "text/latex": [
       "$\\displaystyle \\operatorname{u_{1}}{\\left(x \\right)} = - \\frac{u^{0}_{1} \\sin{\\left(x \\right)}}{\\tan{\\left(1 \\right)}} + \\frac{u^{0}_{1} \\sin{\\left(x \\right)}}{\\sin{\\left(1 \\right)}} + u^{0}_{1} \\cos{\\left(x \\right)} + \\frac{x \\sin{\\left(x \\right)}}{2} + \\frac{x e^{- 4 x}}{17} - \\frac{\\sin{\\left(x \\right)}}{2} - \\frac{25 \\sin{\\left(x \\right)}}{289 e^{4} \\sin{\\left(1 \\right)}} + \\frac{8 \\sin{\\left(x \\right)}}{289 \\tan{\\left(1 \\right)}} - \\frac{8 \\cos{\\left(x \\right)}}{289} + \\frac{8 e^{- 4 x}}{289}$"
      ],
      "text/plain": [
       "Eq(u1(x), -u_1^0*sin(x)/tan(1) + u_1^0*sin(x)/sin(1) + u_1^0*cos(x) + x*sin(x)/2 + x*exp(-4*x)/17 - sin(x)/2 - 25*exp(-4)*sin(x)/(289*sin(1)) + 8*sin(x)/(289*tan(1)) - 8*cos(x)/289 + 8*exp(-4*x)/289)"
      ]
     },
     "execution_count": 67,
     "metadata": {},
     "output_type": "execute_result"
    }
   ],
   "source": [
    "res1_mu_neg1 = simplify(dsolve(deq1.subs(mu, -1), ics={u1.subs(x, 0): u10, u1.subs(x, 1): u10}))\n",
    "res1_mu_neg1"
   ]
  },
  {
   "cell_type": "code",
   "execution_count": 68,
   "metadata": {},
   "outputs": [
    {
     "data": {
      "text/latex": [
       "$\\displaystyle x e^{- 4 x} + \\cos{\\left(x \\right)}$"
      ],
      "text/plain": [
       "x*exp(-4*x) + cos(x)"
      ]
     },
     "execution_count": 68,
     "metadata": {},
     "output_type": "execute_result"
    }
   ],
   "source": [
    "simplify(res_mu_neg1.rhs.diff(x, x) + res_mu_neg1.rhs)"
   ]
  },
  {
   "cell_type": "code",
   "execution_count": 69,
   "metadata": {
    "scrolled": true
   },
   "outputs": [
    {
     "data": {
      "text/latex": [
       "$\\displaystyle \\operatorname{u_{1}}{\\left(x \\right)} = \\frac{\\left(- u^{0}_{1} e^{8} + u^{0}_{1} e^{4} - \\frac{x \\left(1 - e^{8}\\right) \\left(4 x + 1\\right)}{64} + \\frac{\\left(- 1088 u^{0}_{1} e^{4} + 1088 u^{0}_{1} - 64 e^{4} \\cos{\\left(1 \\right)} - 21\\right) e^{8 x}}{1088} - \\frac{\\left(1 - e^{8}\\right) e^{4 x} \\cos{\\left(x \\right)}}{17} - \\frac{e^{8}}{17} + \\frac{5}{64} + \\frac{e^{4} \\cos{\\left(1 \\right)}}{17}\\right) e^{- 4 x}}{1 - e^{8}}$"
      ],
      "text/plain": [
       "Eq(u1(x), (-u_1^0*exp(8) + u_1^0*exp(4) - x*(1 - exp(8))*(4*x + 1)/64 + (-1088*u_1^0*exp(4) + 1088*u_1^0 - 64*exp(4)*cos(1) - 21)*exp(8*x)/1088 - (1 - exp(8))*exp(4*x)*cos(x)/17 - exp(8)/17 + 5/64 + exp(4)*cos(1)/17)*exp(-4*x)/(1 - exp(8)))"
      ]
     },
     "execution_count": 69,
     "metadata": {},
     "output_type": "execute_result"
    }
   ],
   "source": [
    "res1_mu_16 = simplify(dsolve(deq1.subs(mu, 16), ics={u1.subs(x, 0): u10, u1.subs(x, 1): u10}))\n",
    "res1_mu_16"
   ]
  },
  {
   "cell_type": "code",
   "execution_count": 114,
   "metadata": {},
   "outputs": [],
   "source": [
    "[(name, code)] = codegen(('func2', res1_mu_16.rhs), 'octave')"
   ]
  },
  {
   "cell_type": "code",
   "execution_count": 115,
   "metadata": {},
   "outputs": [
    {
     "data": {
      "text/plain": [
       "\"function out1 = func2(u_1^0, x)\\n  %FUNC2  Autogenerated by sympy\\n  %   Code generated with sympy 1.4\\n  %\\n  %   See http://www.sympy.org/ for more information.\\n  %\\n  %   This file is part of 'project'\\n\\n  out1 = (-u_1^0.*exp(8) + u_1^0.*exp(4) - x.*(1 - exp(8))*(4*x + 1)/64 + (-1088*u_1^0.*exp(4) + 1088*u_1^0 - 64*exp(4)*cos(1) - 21).*exp(8*x)/1088 - (1 - exp(8))*exp(4*x).*cos(x)/17 - exp(8)/17 + 5/64 + exp(4)*cos(1)/17).*exp(-4*x)/(1 - exp(8));\\n\\nend\\n\""
      ]
     },
     "execution_count": 115,
     "metadata": {},
     "output_type": "execute_result"
    }
   ],
   "source": [
    "code"
   ]
  },
  {
   "cell_type": "code",
   "execution_count": 70,
   "metadata": {},
   "outputs": [
    {
     "data": {
      "text/latex": [
       "$\\displaystyle x e^{- 4 x} + \\cos{\\left(x \\right)}$"
      ],
      "text/plain": [
       "x*exp(-4*x) + cos(x)"
      ]
     },
     "execution_count": 70,
     "metadata": {},
     "output_type": "execute_result"
    }
   ],
   "source": [
    "simplify(res_mu_16.rhs.diff(x, x) - 16 * res_mu_16.rhs)"
   ]
  },
  {
   "cell_type": "code",
   "execution_count": 95,
   "metadata": {},
   "outputs": [
    {
     "data": {
      "text/latex": [
       "$\\displaystyle - \\mu \\operatorname{u_{2}}{\\left(y \\right)} + \\frac{d^{2}}{d y^{2}} \\operatorname{u_{2}}{\\left(y \\right)} = 2 y e^{2 y} \\sin{\\left(2 y \\right)}$"
      ],
      "text/plain": [
       "Eq(-mu*u2(y) + Derivative(u2(y), (y, 2)), 2*y*exp(2*y)*sin(2*y))"
      ]
     },
     "execution_count": 95,
     "metadata": {},
     "output_type": "execute_result"
    }
   ],
   "source": [
    "deq2 = Eq(u2.diff(y, y) - mu * u2, f2)\n",
    "deq2"
   ]
  },
  {
   "cell_type": "code",
   "execution_count": 77,
   "metadata": {
    "scrolled": true
   },
   "outputs": [
    {
     "data": {
      "text/latex": [
       "$\\displaystyle \\operatorname{u_{1}}{\\left(y \\right)} = \\frac{\\left(4225 u^{0}_{2} + \\left(632 - 4225 u^{0}_{2}\\right) \\cos{\\left(1 \\right)} - 506 e^{2} \\sin{\\left(2 \\right)} + 408 e^{2} \\cos{\\left(2 \\right)}\\right) \\sin{\\left(y \\right)} + \\left(130 y e^{2 y} \\sin{\\left(2 y \\right)} - 1040 y e^{2 y} \\cos{\\left(2 y \\right)} + \\left(4225 u^{0}_{2} - 632\\right) \\cos{\\left(y \\right)} + 376 e^{2 y} \\sin{\\left(2 y \\right)} + 632 e^{2 y} \\cos{\\left(2 y \\right)}\\right) \\sin{\\left(1 \\right)}}{4225 \\sin{\\left(1 \\right)}}$"
      ],
      "text/plain": [
       "Eq(u1(y), ((4225*u_2^0 + (632 - 4225*u_2^0)*cos(1) - 506*exp(2)*sin(2) + 408*exp(2)*cos(2))*sin(y) + (130*y*exp(2*y)*sin(2*y) - 1040*y*exp(2*y)*cos(2*y) + (4225*u_2^0 - 632)*cos(y) + 376*exp(2*y)*sin(2*y) + 632*exp(2*y)*cos(2*y))*sin(1))/(4225*sin(1)))"
      ]
     },
     "execution_count": 77,
     "metadata": {},
     "output_type": "execute_result"
    }
   ],
   "source": [
    "res2_mu_neg1 = simplify(dsolve(deq2.subs(mu, -1), ics={u2.subs(y, 0): u20, u2.subs(y, 1): u20}))\n",
    "res2_mu_neg1"
   ]
  },
  {
   "cell_type": "code",
   "execution_count": 117,
   "metadata": {},
   "outputs": [
    {
     "data": {
      "text/latex": [
       "$\\displaystyle \\operatorname{u_{2}}{\\left(y \\right)} = \\frac{\\left(- 20 y \\sin{\\left(2 y \\right)} - 10 y \\cos{\\left(2 y \\right)} + \\sin{\\left(2 y \\right)} - 7 \\cos{\\left(2 y \\right)}\\right) e^{2 y}}{200} + \\frac{\\left(- 200 u^{0}_{2} e^{4} + 200 u^{0}_{2} - 19 e^{6} \\sin{\\left(2 \\right)} + 7 - 17 e^{6} \\cos{\\left(2 \\right)}\\right) e^{4 y}}{200 \\left(1 - e^{8}\\right)} - \\frac{\\left(- 200 u^{0}_{2} e^{4} + 200 u^{0}_{2} - 7 e^{4} + 17 e^{2} \\cos{\\left(2 \\right)} + 19 e^{2} \\sin{\\left(2 \\right)}\\right) e^{- 4 y}}{400 \\sinh{\\left(4 \\right)}}$"
      ],
      "text/plain": [
       "Eq(u2(y), (-20*y*sin(2*y) - 10*y*cos(2*y) + sin(2*y) - 7*cos(2*y))*exp(2*y)/200 + (-200*u_2^0*exp(4) + 200*u_2^0 - 19*exp(6)*sin(2) + 7 - 17*exp(6)*cos(2))*exp(4*y)/(200*(1 - exp(8))) - (-200*u_2^0*exp(4) + 200*u_2^0 - 7*exp(4) + 17*exp(2)*cos(2) + 19*exp(2)*sin(2))*exp(-4*y)/(400*sinh(4)))"
      ]
     },
     "execution_count": 117,
     "metadata": {},
     "output_type": "execute_result"
    }
   ],
   "source": [
    "res2_mu_16 = dsolve(deq2.subs(mu, 16), ics={u2.subs(y, 0): u20, u2.subs(y, 1): u20})\n",
    "res2_mu_16"
   ]
  },
  {
   "cell_type": "code",
   "execution_count": 119,
   "metadata": {},
   "outputs": [],
   "source": [
    "[(name, code)] = codegen(('func2', res2_mu_16.rhs), 'octave')"
   ]
  },
  {
   "cell_type": "code",
   "execution_count": 120,
   "metadata": {},
   "outputs": [
    {
     "data": {
      "text/plain": [
       "\"function out1 = func2(u_2^0, y)\\n  %FUNC2  Autogenerated by sympy\\n  %   Code generated with sympy 1.4\\n  %\\n  %   See http://www.sympy.org/ for more information.\\n  %\\n  %   This file is part of 'project'\\n\\n  out1 = (-20*y.*sin(2*y) - 10*y.*cos(2*y) + sin(2*y) - 7*cos(2*y)).*exp(2*y)/200 + (-200*u_2^0.*exp(4) + 200*u_2^0 - 19*exp(6)*sin(2) + 7 - 17*exp(6)*cos(2)).*exp(4*y)/(200*(1 - exp(8))) - (-200*u_2^0.*exp(4) + 200*u_2^0 - 7*exp(4) + 17*exp(2)*cos(2) + 19*exp(2)*sin(2)).*exp(-4*y)/(400*sinh(4));\\n\\nend\\n\""
      ]
     },
     "execution_count": 120,
     "metadata": {},
     "output_type": "execute_result"
    }
   ],
   "source": [
    "code"
   ]
  },
  {
   "cell_type": "code",
   "execution_count": null,
   "metadata": {},
   "outputs": [],
   "source": []
  },
  {
   "cell_type": "code",
   "execution_count": null,
   "metadata": {},
   "outputs": [],
   "source": []
  },
  {
   "cell_type": "code",
   "execution_count": 79,
   "metadata": {},
   "outputs": [
    {
     "data": {
      "text/latex": [
       "$\\displaystyle 2 y e^{2 y} \\sin{\\left(2 y \\right)}$"
      ],
      "text/plain": [
       "2*y*exp(2*y)*sin(2*y)"
      ]
     },
     "execution_count": 79,
     "metadata": {},
     "output_type": "execute_result"
    }
   ],
   "source": [
    "simplify(res2_mu_neg1.rhs.diff(y, y) + res2_mu_neg1.rhs)"
   ]
  },
  {
   "cell_type": "code",
   "execution_count": 89,
   "metadata": {},
   "outputs": [
    {
     "data": {
      "text/latex": [
       "$\\displaystyle - \\frac{u^{0}_{1} \\sin{\\left(x \\right)}}{\\tan{\\left(1 \\right)}} + \\frac{u^{0}_{1} \\sin{\\left(x \\right)}}{\\sin{\\left(1 \\right)}} + u^{0}_{1} \\cos{\\left(x \\right)} + \\frac{x \\sin{\\left(x \\right)}}{2} + \\frac{x e^{- 4 x}}{17} + \\frac{\\left(4225 u^{0}_{2} + \\left(632 - 4225 u^{0}_{2}\\right) \\cos{\\left(1 \\right)} - 506 e^{2} \\sin{\\left(2 \\right)} + 408 e^{2} \\cos{\\left(2 \\right)}\\right) \\sin{\\left(y \\right)} + \\left(130 y e^{2 y} \\sin{\\left(2 y \\right)} - 1040 y e^{2 y} \\cos{\\left(2 y \\right)} + \\left(4225 u^{0}_{2} - 632\\right) \\cos{\\left(y \\right)} + 376 e^{2 y} \\sin{\\left(2 y \\right)} + 632 e^{2 y} \\cos{\\left(2 y \\right)}\\right) \\sin{\\left(1 \\right)}}{4225 \\sin{\\left(1 \\right)}} - \\frac{\\sin{\\left(x \\right)}}{2} - \\frac{25 \\sin{\\left(x \\right)}}{289 e^{4} \\sin{\\left(1 \\right)}} + \\frac{8 \\sin{\\left(x \\right)}}{289 \\tan{\\left(1 \\right)}} - \\frac{8 \\cos{\\left(x \\right)}}{289} + \\frac{8 e^{- 4 x}}{289}$"
      ],
      "text/plain": [
       "-u_1^0*sin(x)/tan(1) + u_1^0*sin(x)/sin(1) + u_1^0*cos(x) + x*sin(x)/2 + x*exp(-4*x)/17 + ((4225*u_2^0 + (632 - 4225*u_2^0)*cos(1) - 506*exp(2)*sin(2) + 408*exp(2)*cos(2))*sin(y) + (130*y*exp(2*y)*sin(2*y) - 1040*y*exp(2*y)*cos(2*y) + (4225*u_2^0 - 632)*cos(y) + 376*exp(2*y)*sin(2*y) + 632*exp(2*y)*cos(2*y))*sin(1))/(4225*sin(1)) - sin(x)/2 - 25*exp(-4)*sin(x)/(289*sin(1)) + 8*sin(x)/(289*tan(1)) - 8*cos(x)/289 + 8*exp(-4*x)/289"
      ]
     },
     "execution_count": 89,
     "metadata": {},
     "output_type": "execute_result"
    }
   ],
   "source": [
    "res_mu_neg1 = res1_mu_neg1.rhs + res2_mu_neg1.rhs\n",
    "res_mu_neg1"
   ]
  },
  {
   "cell_type": "code",
   "execution_count": 90,
   "metadata": {},
   "outputs": [
    {
     "data": {
      "text/latex": [
       "$\\displaystyle x e^{- 4 x} + 2 y e^{2 y} \\sin{\\left(2 y \\right)} + \\cos{\\left(x \\right)}$"
      ],
      "text/plain": [
       "x*exp(-4*x) + 2*y*exp(2*y)*sin(2*y) + cos(x)"
      ]
     },
     "execution_count": 90,
     "metadata": {},
     "output_type": "execute_result"
    }
   ],
   "source": [
    "simplify(res_mu_neg1.diff(x, x) + res_mu_neg1.diff(y, y) + res_mu_neg1)"
   ]
  },
  {
   "cell_type": "code",
   "execution_count": 91,
   "metadata": {},
   "outputs": [
    {
     "data": {
      "text/latex": [
       "$\\displaystyle u^{0}_{1} + u^{0}_{2}$"
      ],
      "text/plain": [
       "u_1^0 + u_2^0"
      ]
     },
     "execution_count": 91,
     "metadata": {},
     "output_type": "execute_result"
    }
   ],
   "source": [
    "simplify(res_mu_neg1.subs({x: 1, y: 0}))"
   ]
  },
  {
   "cell_type": "code",
   "execution_count": null,
   "metadata": {},
   "outputs": [],
   "source": []
  },
  {
   "cell_type": "code",
   "execution_count": null,
   "metadata": {},
   "outputs": [],
   "source": []
  },
  {
   "cell_type": "code",
   "execution_count": 96,
   "metadata": {},
   "outputs": [
    {
     "data": {
      "text/latex": [
       "$\\displaystyle - \\mu \\operatorname{u_{2}}{\\left(y \\right)} + \\frac{d^{2}}{d y^{2}} \\operatorname{u_{2}}{\\left(y \\right)} = 2 y e^{2 y} \\sin{\\left(2 y \\right)}$"
      ],
      "text/plain": [
       "Eq(-mu*u2(y) + Derivative(u2(y), (y, 2)), 2*y*exp(2*y)*sin(2*y))"
      ]
     },
     "execution_count": 96,
     "metadata": {},
     "output_type": "execute_result"
    }
   ],
   "source": [
    "deq2"
   ]
  },
  {
   "cell_type": "code",
   "execution_count": 97,
   "metadata": {},
   "outputs": [
    {
     "data": {
      "text/latex": [
       "$\\displaystyle \\operatorname{u_{2}}{\\left(y \\right)} = - \\frac{8 \\mu^{2} e^{2 y} \\sin{\\left(2 y \\right)}}{\\mu^{4} + 128 \\mu^{2} + 4096} - \\frac{8 \\mu^{2} e^{2 y} \\cos{\\left(2 y \\right)}}{\\mu^{4} + 128 \\mu^{2} + 4096} - \\frac{2 \\mu y e^{2 y} \\sin{\\left(2 y \\right)}}{\\mu^{2} + 64} + \\frac{128 \\mu e^{2 y} \\sin{\\left(2 y \\right)}}{\\mu^{4} + 128 \\mu^{2} + 4096} - \\frac{128 \\mu e^{2 y} \\cos{\\left(2 y \\right)}}{\\mu^{4} + 128 \\mu^{2} + 4096} - \\frac{16 y e^{2 y} \\cos{\\left(2 y \\right)}}{\\mu^{2} + 64} + \\frac{\\left(\\mu^{4} u^{0}_{2} e^{\\sqrt{\\mu}} - \\mu^{4} u^{0}_{2} - 2 \\mu^{3} e^{2} \\sin{\\left(2 \\right)} + 128 \\mu^{2} u^{0}_{2} e^{\\sqrt{\\mu}} - 128 \\mu^{2} u^{0}_{2} + 8 \\mu^{2} e^{\\sqrt{\\mu}} - 8 \\mu^{2} e^{2} \\sin{\\left(2 \\right)} - 24 \\mu^{2} e^{2} \\cos{\\left(2 \\right)} + 128 \\mu e^{\\sqrt{\\mu}} - 128 \\mu e^{2} \\cos{\\left(2 \\right)} + 4096 u^{0}_{2} e^{\\sqrt{\\mu}} - 4096 u^{0}_{2} - 512 e^{\\sqrt{\\mu}} - 512 \\sqrt{2} e^{2} \\cos{\\left(\\frac{\\pi}{4} + 2 \\right)}\\right) e^{\\sqrt{\\mu}} e^{- \\sqrt{\\mu} y}}{\\mu^{4} e^{2 \\sqrt{\\mu}} - \\mu^{4} + 128 \\mu^{2} e^{2 \\sqrt{\\mu}} - 128 \\mu^{2} + 4096 e^{2 \\sqrt{\\mu}} - 4096} + \\frac{\\left(\\mu^{4} u^{0}_{2} e^{\\sqrt{\\mu}} - \\mu^{4} u^{0}_{2} + 2 \\mu^{3} e^{\\sqrt{\\mu} + 2} \\sin{\\left(2 \\right)} + 128 \\mu^{2} u^{0}_{2} e^{\\sqrt{\\mu}} - 128 \\mu^{2} u^{0}_{2} + 24 \\mu^{2} e^{\\sqrt{\\mu} + 2} \\cos{\\left(2 \\right)} + 8 \\mu^{2} e^{\\sqrt{\\mu} + 2} \\sin{\\left(2 \\right)} - 8 \\mu^{2} + 128 \\mu e^{\\sqrt{\\mu} + 2} \\cos{\\left(2 \\right)} - 128 \\mu + 4096 u^{0}_{2} e^{\\sqrt{\\mu}} - 4096 u^{0}_{2} + 512 \\sqrt{2} e^{\\sqrt{\\mu} + 2} \\cos{\\left(\\frac{\\pi}{4} + 2 \\right)} + 512\\right) e^{\\sqrt{\\mu} y}}{\\mu^{4} e^{2 \\sqrt{\\mu}} - \\mu^{4} + 128 \\mu^{2} e^{2 \\sqrt{\\mu}} - 128 \\mu^{2} + 4096 e^{2 \\sqrt{\\mu}} - 4096} + \\frac{512 e^{2 y} \\sin{\\left(2 y \\right)}}{\\mu^{4} + 128 \\mu^{2} + 4096} + \\frac{512 e^{2 y} \\cos{\\left(2 y \\right)}}{\\mu^{4} + 128 \\mu^{2} + 4096}$"
      ],
      "text/plain": [
       "Eq(u2(y), -8*mu**2*exp(2*y)*sin(2*y)/(mu**4 + 128*mu**2 + 4096) - 8*mu**2*exp(2*y)*cos(2*y)/(mu**4 + 128*mu**2 + 4096) - 2*mu*y*exp(2*y)*sin(2*y)/(mu**2 + 64) + 128*mu*exp(2*y)*sin(2*y)/(mu**4 + 128*mu**2 + 4096) - 128*mu*exp(2*y)*cos(2*y)/(mu**4 + 128*mu**2 + 4096) - 16*y*exp(2*y)*cos(2*y)/(mu**2 + 64) + (mu**4*u_2^0*exp(sqrt(mu)) - mu**4*u_2^0 - 2*mu**3*exp(2)*sin(2) + 128*mu**2*u_2^0*exp(sqrt(mu)) - 128*mu**2*u_2^0 + 8*mu**2*exp(sqrt(mu)) - 8*mu**2*exp(2)*sin(2) - 24*mu**2*exp(2)*cos(2) + 128*mu*exp(sqrt(mu)) - 128*mu*exp(2)*cos(2) + 4096*u_2^0*exp(sqrt(mu)) - 4096*u_2^0 - 512*exp(sqrt(mu)) - 512*sqrt(2)*exp(2)*cos(pi/4 + 2))*exp(sqrt(mu))*exp(-sqrt(mu)*y)/(mu**4*exp(2*sqrt(mu)) - mu**4 + 128*mu**2*exp(2*sqrt(mu)) - 128*mu**2 + 4096*exp(2*sqrt(mu)) - 4096) + (mu**4*u_2^0*exp(sqrt(mu)) - mu**4*u_2^0 + 2*mu**3*exp(sqrt(mu) + 2)*sin(2) + 128*mu**2*u_2^0*exp(sqrt(mu)) - 128*mu**2*u_2^0 + 24*mu**2*exp(sqrt(mu) + 2)*cos(2) + 8*mu**2*exp(sqrt(mu) + 2)*sin(2) - 8*mu**2 + 128*mu*exp(sqrt(mu) + 2)*cos(2) - 128*mu + 4096*u_2^0*exp(sqrt(mu)) - 4096*u_2^0 + 512*sqrt(2)*exp(sqrt(mu) + 2)*cos(pi/4 + 2) + 512)*exp(sqrt(mu)*y)/(mu**4*exp(2*sqrt(mu)) - mu**4 + 128*mu**2*exp(2*sqrt(mu)) - 128*mu**2 + 4096*exp(2*sqrt(mu)) - 4096) + 512*exp(2*y)*sin(2*y)/(mu**4 + 128*mu**2 + 4096) + 512*exp(2*y)*cos(2*y)/(mu**4 + 128*mu**2 + 4096))"
      ]
     },
     "execution_count": 97,
     "metadata": {},
     "output_type": "execute_result"
    }
   ],
   "source": [
    "res2_ics = dsolve(deq2, ics={u2.subs(y, 0): u20, u2.subs(y, 1): u20})\n",
    "res2_ics"
   ]
  },
  {
   "cell_type": "code",
   "execution_count": 112,
   "metadata": {},
   "outputs": [],
   "source": [
    "[(name, code)] = codegen(('func2', res2_ics.rhs), 'octave')"
   ]
  },
  {
   "cell_type": "code",
   "execution_count": 113,
   "metadata": {},
   "outputs": [
    {
     "data": {
      "text/plain": [
       "\"function out1 = func2(mu, u_2^0, y)\\n  %FUNC2  Autogenerated by sympy\\n  %   Code generated with sympy 1.4\\n  %\\n  %   See http://www.sympy.org/ for more information.\\n  %\\n  %   This file is part of 'project'\\n\\n  out1 = -8*mu.^2.*exp(2*y).*sin(2*y)./(mu.^4 + 128*mu.^2 + 4096) - 8*mu.^2.*exp(2*y).*cos(2*y)./(mu.^4 + 128*mu.^2 + 4096) - 2*mu.*y.*exp(2*y).*sin(2*y)./(mu.^2 + 64) + 128*mu.*exp(2*y).*sin(2*y)./(mu.^4 + 128*mu.^2 + 4096) - 128*mu.*exp(2*y).*cos(2*y)./(mu.^4 + 128*mu.^2 + 4096) - 16*y.*exp(2*y).*cos(2*y)./(mu.^2 + 64) + (mu.^4.*u_2^0.*exp(sqrt(mu)) - mu.^4.*u_2^0 - 2*mu.^3.*exp(2)*sin(2) + 128*mu.^2.*u_2^0.*exp(sqrt(mu)) - 128*mu.^2.*u_2^0 + 8*mu.^2.*exp(sqrt(mu)) - 8*mu.^2.*exp(2)*sin(2) - 24*mu.^2.*exp(2)*cos(2) + 128*mu.*exp(sqrt(mu)) - 128*mu.*exp(2)*cos(2) + 4096*u_2^0.*exp(sqrt(mu)) - 4096*u_2^0 - 512*exp(sqrt(mu)) - 512*sqrt(2)*exp(2)*cos(pi/4 + 2)).*exp(sqrt(mu)).*exp(-sqrt(mu).*y)./(mu.^4.*exp(2*sqrt(mu)) - mu.^4 + 128*mu.^2.*exp(2*sqrt(mu)) - 128*mu.^2 + 4096*exp(2*sqrt(mu)) - 4096) + (mu.^4.*u_2^0.*exp(sqrt(mu)) - mu.^4.*u_2^0 + 2*mu.^3.*exp(sqrt(mu) + 2).*sin(2) + 128*mu.^2.*u_2^0.*exp(sqrt(mu)) - 128*mu.^2.*u_2^0 + 24*mu.^2.*exp(sqrt(mu) + 2).*cos(2) + 8*mu.^2.*exp(sqrt(mu) + 2).*sin(2) - 8*mu.^2 + 128*mu.*exp(sqrt(mu) + 2).*cos(2) - 128*mu + 4096*u_2^0.*exp(sqrt(mu)) - 4096*u_2^0 + 512*sqrt(2)*exp(sqrt(mu) + 2).*cos(pi/4 + 2) + 512).*exp(sqrt(mu).*y)./(mu.^4.*exp(2*sqrt(mu)) - mu.^4 + 128*mu.^2.*exp(2*sqrt(mu)) - 128*mu.^2 + 4096*exp(2*sqrt(mu)) - 4096) + 512*exp(2*y).*sin(2*y)./(mu.^4 + 128*mu.^2 + 4096) + 512*exp(2*y).*cos(2*y)./(mu.^4 + 128*mu.^2 + 4096);\\n\\nend\\n\""
      ]
     },
     "execution_count": 113,
     "metadata": {},
     "output_type": "execute_result"
    }
   ],
   "source": [
    "code"
   ]
  },
  {
   "cell_type": "code",
   "execution_count": 122,
   "metadata": {},
   "outputs": [
    {
     "data": {
      "text/latex": [
       "$\\displaystyle x e^{- 4 x} + \\cos{\\left(x \\right)}$"
      ],
      "text/plain": [
       "x*exp(-4*x) + cos(x)"
      ]
     },
     "execution_count": 122,
     "metadata": {},
     "output_type": "execute_result"
    }
   ],
   "source": [
    "f1"
   ]
  },
  {
   "cell_type": "code",
   "execution_count": 125,
   "metadata": {},
   "outputs": [],
   "source": [
    "p = symbols('p')"
   ]
  },
  {
   "cell_type": "code",
   "execution_count": 127,
   "metadata": {},
   "outputs": [
    {
     "data": {
      "text/latex": [
       "$\\displaystyle \\frac{p^{2} + p \\left(p + 4\\right)^{2} + 1}{\\left(p + 4\\right)^{2} \\left(p^{2} + 1\\right)}$"
      ],
      "text/plain": [
       "(p**2 + p*(p + 4)**2 + 1)/((p + 4)**2*(p**2 + 1))"
      ]
     },
     "execution_count": 127,
     "metadata": {},
     "output_type": "execute_result"
    }
   ],
   "source": [
    "(a, b, c) = laplace_transform(f1, x, p)\n",
    "a"
   ]
  }
 ],
 "metadata": {
  "kernelspec": {
   "display_name": "Python 3",
   "language": "python",
   "name": "python3"
  },
  "language_info": {
   "codemirror_mode": {
    "name": "ipython",
    "version": 3
   },
   "file_extension": ".py",
   "mimetype": "text/x-python",
   "name": "python",
   "nbconvert_exporter": "python",
   "pygments_lexer": "ipython3",
   "version": "3.7.4"
  }
 },
 "nbformat": 4,
 "nbformat_minor": 2
}
