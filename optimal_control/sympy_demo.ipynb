{
 "cells": [
  {
   "cell_type": "code",
   "execution_count": 6,
   "metadata": {},
   "outputs": [],
   "source": [
    "from sympy import *"
   ]
  },
  {
   "cell_type": "markdown",
   "metadata": {},
   "source": [
    "## Defining symbols, rational numbers, matrices & vectors"
   ]
  },
  {
   "cell_type": "code",
   "execution_count": 7,
   "metadata": {},
   "outputs": [
    {
     "name": "stdout",
     "output_type": "stream",
     "text": [
      "t1=log(2)\n",
      "A:\n",
      "\n",
      "⎡0   1  0⎤\n",
      "⎢        ⎥\n",
      "⎢-1  0  1⎥\n",
      "⎢        ⎥\n",
      "⎣0   0  0⎦\n",
      "\n",
      "l:\n",
      "\n",
      "⎡l₁⎤\n",
      "⎢  ⎥\n",
      "⎣l₂⎦\n"
     ]
    }
   ],
   "source": [
    "t = Symbol('t', real=True) # assume that t takes only real values\n",
    "mu = Symbol('mu', positive=True) # assume that mu takes only positive values\n",
    "# you may create several symbols at once\n",
    "l1, l2, lam = symbols('l1 l2 lam') # no assumptions\n",
    "tau, s = symbols('tau s', nonnegative=True) # assume that tau and s take only nonnegative values\n",
    "\n",
    "t0 = Rational(0) # symbolic zero\n",
    "t1 = log(Rational(2)) # symbolic log(2)\n",
    "print('t1={}'.format(t1)) \n",
    "frac12 = Rational(1, 2) # symbolic representation of 1/2\n",
    "\n",
    "A = Matrix([[0, 1, 0],[-1, 0, 1], [0, 0, 0]]) # symbolic matrix 3x3\n",
    "B = Matrix([[0], [0], [1]]) # symbolic column vector 3x1\n",
    "E = eye(3) # idenity matrix 3x3, please do not denote this by I to make I denote complex i\n",
    "print('A:')\n",
    "print() # just empty line\n",
    "pprint(A) # print matrix\n",
    "\n",
    "x0 = Matrix([[0], [0]]) # symbolic column vector 2x1\n",
    "x1 = Matrix([[1], [1]]) # symbolic column vector 2x1\n",
    "\n",
    "print()\n",
    "\n",
    "l = Matrix([[l1], [l2]]) # matrix elements may be also symbols\n",
    "print('l:')\n",
    "print()\n",
    "pprint(l) # print column vector 2x1"
   ]
  },
  {
   "cell_type": "markdown",
   "metadata": {},
   "source": [
    "## Simple operations on matrices and vectors"
   ]
  },
  {
   "cell_type": "code",
   "execution_count": 8,
   "metadata": {},
   "outputs": [
    {
     "name": "stdout",
     "output_type": "stream",
     "text": [
      "R = [B|A*B|A^2*B]:\n",
      "\n",
      "⎡0  0  1⎤\n",
      "⎢       ⎥\n",
      "⎢0  1  0⎥\n",
      "⎢       ⎥\n",
      "⎣1  0  0⎦\n",
      "\n",
      "Scalar square: l1**2 + l2**2\n",
      "\n",
      "Scalar product <l,x1>:\n",
      "l₁ + l₂\n"
     ]
    }
   ],
   "source": [
    "G = Matrix([[1, 1, 0],[-1, 1, 0], [1, 1, 1]]).T # transpose matrix to the given one\n",
    "# another symbolic matrix 3x3 obtained from multiplication of other matrices\n",
    "Q = G * diag(2,2,1) * G.inv() # diag is for diagonal matrix, inv is for inverse matrix\n",
    "                              \n",
    "\n",
    "# building of a matrix from column vectors (by means of concatenation of their transpose row vectors)\n",
    "R = Matrix([B.T, (A @ B).T, (A**2 @ B).T]).T # ** stands for the power (in contrast to ^ in Matlab)\n",
    "                                             # @ (along with *) stands for matrix multiplication\n",
    "print('R = [B|A*B|A^2*B]:')\n",
    "print()\n",
    "pprint(R)\n",
    "\n",
    "print()\n",
    "\n",
    "# scalar product as a product of row vector on column vector,\n",
    "# we obtain a matrix and need to take its element\n",
    "# (indices start in Python from zero in contrast to Matlab, \n",
    "# so in fact we get here the element in the position (1,1))\n",
    "print('Scalar square: {}'.format((l.T * l)[0,0]))\n",
    "# another way to calculate scalar product is to call dot, we obtain here <l,x1>\n",
    "print()\n",
    "print('Scalar product <l,x1>:')\n",
    "pprint(l.dot(x1))"
   ]
  },
  {
   "cell_type": "markdown",
   "metadata": {},
   "source": [
    "## Eigenvalues, eigenvectors, real and imaginary parts of expressions"
   ]
  },
  {
   "cell_type": "code",
   "execution_count": 9,
   "metadata": {},
   "outputs": [
    {
     "name": "stdout",
     "output_type": "stream",
     "text": [
      "eigenvalues of A together with their algebraic multiplicities:\n",
      "{0: 1, -ⅈ: 1, ⅈ: 1}\n",
      "Alebraic multiplicity of -i for A is 1\n",
      "\n",
      "Eigenvalues, their algebraic multiplicities and bases of eigenspaces for A:\n",
      "\n",
      "\n",
      "⎡⎛      ⎡⎡1⎤⎤⎞  ⎛       ⎡⎡ⅈ⎤⎤⎞  ⎛      ⎡⎡-ⅈ⎤⎤⎞⎤\n",
      "⎢⎜      ⎢⎢ ⎥⎥⎟  ⎜       ⎢⎢ ⎥⎥⎟  ⎜      ⎢⎢  ⎥⎥⎟⎥\n",
      "⎢⎜0, 1, ⎢⎢0⎥⎥⎟, ⎜-ⅈ, 1, ⎢⎢1⎥⎥⎟, ⎜ⅈ, 1, ⎢⎢1 ⎥⎥⎟⎥\n",
      "⎢⎜      ⎢⎢ ⎥⎥⎟  ⎜       ⎢⎢ ⎥⎥⎟  ⎜      ⎢⎢  ⎥⎥⎟⎥\n",
      "⎣⎝      ⎣⎣1⎦⎦⎠  ⎝       ⎣⎣0⎦⎦⎠  ⎝      ⎣⎣0 ⎦⎦⎠⎦\n",
      "\n",
      "Eigenvalues, their algebraic multiplicities and bases of eigenspaces for Q:\n",
      "\n",
      "\n",
      "⎡⎛      ⎡⎡1⎤⎤⎞  ⎛      ⎡⎡1⎤  ⎡0⎤⎤⎞⎤\n",
      "⎢⎜      ⎢⎢ ⎥⎥⎟  ⎜      ⎢⎢ ⎥  ⎢ ⎥⎥⎟⎥\n",
      "⎢⎜1, 1, ⎢⎢1⎥⎥⎟, ⎜2, 2, ⎢⎢0⎥, ⎢1⎥⎥⎟⎥\n",
      "⎢⎜      ⎢⎢ ⎥⎥⎟  ⎜      ⎢⎢ ⎥  ⎢ ⎥⎥⎟⎥\n",
      "⎣⎝      ⎣⎣1⎦⎦⎠  ⎝      ⎣⎣0⎦  ⎣0⎦⎦⎠⎦\n",
      "The 3rd eigenvalue of A, its algebraic multiplicity and a basis of its eigenspace:\n",
      "\n",
      "\n",
      "⎛      ⎡⎡-ⅈ⎤⎤⎞\n",
      "⎜      ⎢⎢  ⎥⎥⎟\n",
      "⎜ⅈ, 1, ⎢⎢1 ⎥⎥⎟\n",
      "⎜      ⎢⎢  ⎥⎥⎟\n",
      "⎝      ⎣⎣0 ⎦⎦⎠\n",
      "\n",
      "The basis for the 2nd eigenvalue of Q:\n",
      "\n",
      "\n",
      "⎡⎡1⎤  ⎡0⎤⎤\n",
      "⎢⎢ ⎥  ⎢ ⎥⎥\n",
      "⎢⎢0⎥, ⎢1⎥⎥\n",
      "⎢⎢ ⎥  ⎢ ⎥⎥\n",
      "⎣⎣0⎦  ⎣0⎦⎦\n",
      "\n",
      "The second vector of the basis for the 2nd eigenvalue of Q:\n",
      "\n",
      "\n",
      "⎡0⎤\n",
      "⎢ ⎥\n",
      "⎢1⎥\n",
      "⎢ ⎥\n",
      "⎣0⎦\n",
      "\n",
      "Real and imaginary parts of an expression:\n",
      "\n",
      "\n",
      "⎛⎡sin(t)⎤  ⎡cos(t) ⎤⎞\n",
      "⎜⎢      ⎥  ⎢       ⎥⎟\n",
      "⎜⎢cos(t)⎥, ⎢-sin(t)⎥⎟\n",
      "⎜⎢      ⎥  ⎢       ⎥⎟\n",
      "⎝⎣  0   ⎦  ⎣   0   ⎦⎠\n"
     ]
    }
   ],
   "source": [
    "eig_vals = A.eigenvals()\n",
    "print('eigenvalues of A together with their algebraic multiplicities:')\n",
    "pprint(eig_vals) # print this info\n",
    "print('Alebraic multiplicity of -i for A is {}'.format(eig_vals[-I]))\n",
    "\n",
    "print()\n",
    "\n",
    "eig_info = A.eigenvects()\n",
    "print('Eigenvalues, their algebraic multiplicities and bases of eigenspaces for A:')\n",
    "print()\n",
    "print()\n",
    "pprint(eig_info)\n",
    "\n",
    "print()\n",
    "\n",
    "eig_info2 = Q.eigenvects()\n",
    "print('Eigenvalues, their algebraic multiplicities and bases of eigenspaces for Q:')\n",
    "print()\n",
    "print()\n",
    "pprint(eig_info2)\n",
    "\n",
    "print('The 3rd eigenvalue of A, its algebraic multiplicity and a basis of its eigenspace:')\n",
    "print()\n",
    "print()\n",
    "pprint(eig_info[2])\n",
    "\n",
    "print()\n",
    "\n",
    "\n",
    "print('The basis for the 2nd eigenvalue of Q:')\n",
    "print()\n",
    "print()\n",
    "pprint(eig_info2[1][2])\n",
    "\n",
    "print()\n",
    "\n",
    "print('The second vector of the basis for the 2nd eigenvalue of Q:')\n",
    "print()\n",
    "print()\n",
    "pprint(eig_info2[1][2][1])\n",
    "\n",
    "print()\n",
    "\n",
    "real_imag_parts=(eig_info[1][2][0]*(cos(t)-I*sin(t))).as_real_imag() # take real and imaginary parts of an expression\n",
    "print('Real and imaginary parts of an expression:')\n",
    "print()\n",
    "print()\n",
    "pprint(real_imag_parts)"
   ]
  },
  {
   "cell_type": "markdown",
   "metadata": {},
   "source": [
    "## Substitution, simplifying of expressions, differentiation and integration"
   ]
  },
  {
   "cell_type": "code",
   "execution_count": 5,
   "metadata": {},
   "outputs": [
    {
     "name": "stdout",
     "output_type": "stream",
     "text": [
      "d(expA)/dt-A*expA:\n",
      "\n",
      "⎡0  0  0⎤\n",
      "⎢       ⎥\n",
      "⎢0  0  0⎥\n",
      "⎢       ⎥\n",
      "⎣0  0  0⎦\n",
      "\n",
      "expA(0):\n",
      "\n",
      "⎡1  0  0⎤\n",
      "⎢       ⎥\n",
      "⎢0  1  0⎥\n",
      "⎢       ⎥\n",
      "⎣0  0  1⎦\n",
      "\n",
      "\n",
      "Initial quadratic form:\n",
      "                                       2  3      \n",
      "  2         2          2             l2 *s      2\n",
      "l1 *s + 2*l1  + l1*l2*s  - l1*l2*s + ------ + l2 \n",
      "                                       3         \n",
      "Simplified quadratic form:\n",
      "                                      / 3    \\\n",
      "  2              /    2       \\     2 |s     |\n",
      "l1 *(s + 2) + l1*\\l2*s  - l2*s/ + l2 *|-- + 1|\n",
      "                                      \\3     /\n",
      "Quadratic form after removal of all brackets:\n",
      "                                       2  3      \n",
      "  2         2          2             l2 *s      2\n",
      "l1 *s + 2*l1  + l1*l2*s  - l1*l2*s + ------ + l2 \n",
      "                                       3         \n",
      "Simplified quadratic form as a polynomials over s:\n",
      "                     2  3                        \n",
      "    2          2   l2 *s      2     /  2        \\\n",
      "2*l1  + l1*l2*s  + ------ + l2  + s*\\l1  - l1*l2/\n",
      "                     3                           \n",
      "Coefficients of the polyinomial over s obtained by differentiation:\n",
      "constant term: 2*l1**2 + l2**2,\n",
      "before s: l1**2 - l1*l2,\n",
      "before s^2: l1*l2,\n",
      "before s^3: l2**2/3\n",
      "\n",
      "\n",
      "Integral:\n",
      "\n",
      "⎡√2       3⋅π⎤\n",
      "⎢── + 1 + ───⎥\n",
      "⎢2         4 ⎥\n",
      "⎢            ⎥\n",
      "⎢     √2     ⎥\n",
      "⎢     ──     ⎥\n",
      "⎢     2      ⎥\n",
      "⎢            ⎥\n",
      "⎢    3⋅π     ⎥\n",
      "⎢    ───     ⎥\n",
      "⎣     4      ⎦\n"
     ]
    }
   ],
   "source": [
    "expA = Matrix([\n",
    "    [ cos(t), sin(t), -cos(t) + 1],\n",
    "    [-sin(t), cos(t),      sin(t)],\n",
    "    [      0,      0,           1]])\n",
    "\n",
    "# here we check that expA is actually a matrix exponent from A*t\n",
    "print('d(expA)/dt-A*expA:')\n",
    "print()\n",
    "pprint(expA.diff(t) - A @ expA) # should print zero matrix due to the definition of matrix exponent\n",
    "print()\n",
    "print('expA(0):')\n",
    "print()\n",
    "pprint(simplify(expA.subs(t, 0))) # should print identity matrix due to the definition of matrix exponent\n",
    "\n",
    "print()\n",
    "print()\n",
    "\n",
    "# some quadratic form from l1 and l2 with coefficients being polynomials depending on s\n",
    "quad_form = s * l1**2 + s**2 * l1 * l2 + 2 * l1**2 + s**3 / 3 * l2**2 - s * l2 *l1  + l2**2\n",
    "print('Initial quadratic form:')\n",
    "pprint(quad_form, use_unicode=False)\n",
    "print('Simplified quadratic form:')\n",
    "quad_form = collect(quad_form, (l1,l2)) # collect terms by l1 and l2\n",
    "pprint(quad_form, use_unicode=False)\n",
    "print('Quadratic form after removal of all brackets:')\n",
    "quad_form = expand(quad_form) # remove all brackets\n",
    "pprint(quad_form, use_unicode=False)\n",
    "print('Simplified quadratic form as a polynomials over s:')\n",
    "quad_form = collect(quad_form, s) # collect terms by s (i.e. by powers of s)\n",
    "pprint(quad_form, use_unicode=False)\n",
    "print('Coefficients of the polyinomial over s obtained by differentiation:')\n",
    "print('constant term: {},\\nbefore s: {},\\nbefore s^2: {},\\nbefore s^3: {}'.format(\n",
    "    quad_form.subs(s, 0), quad_form.diff(s).subs(s, 0),\n",
    "    # possible to point the list of variables with respect to which differentiation is performed\n",
    "    quad_form.diff(s, s).subs(s, 0) / 2, \n",
    "    # possible to point just the order of differentiation\n",
    "    quad_form.diff(s, 3).subs(s, 0) / 6\n",
    "))\n",
    "\n",
    "\n",
    "print()\n",
    "print()\n",
    "\n",
    "# integrate an expression over tau from 0 to 3*pi/4\n",
    "print('Integral:')\n",
    "print()\n",
    "pprint(integrate(expA.subs(t,pi/2+tau)*B, (tau, 0, 3*pi/4)))"
   ]
  },
  {
   "cell_type": "markdown",
   "metadata": {},
   "source": [
    "## Solving of linear and nonlinear equations"
   ]
  },
  {
   "cell_type": "code",
   "execution_count": 6,
   "metadata": {},
   "outputs": [
    {
     "name": "stdout",
     "output_type": "stream",
     "text": [
      "\n",
      "⎡                              ⎧           -√2 ⎫  ⎧          √2⎫⎤\n",
      "⎢{x: -1, y: -1}, {x: 1, y: 1}, ⎨x: -√2, y: ────⎬, ⎨x: √2, y: ──⎬⎥\n",
      "⎣                              ⎩            2  ⎭  ⎩          2 ⎭⎦\n",
      "\n",
      "{x: 1, y: 1}\n",
      "x of the 3rd solution: -sqrt(2)\n",
      "\n",
      "\n",
      "We solve the system of equations that is rows of the following matrix equal to zero:\n",
      "\n",
      "⎡           2                       ⎤\n",
      "⎢4⋅l₁ + l₂⋅s  + lam + s⋅(2⋅l₁ - l₂) ⎥\n",
      "⎢                                   ⎥\n",
      "⎢                     3             ⎥\n",
      "⎢    2          2⋅l₂⋅s              ⎥\n",
      "⎢l₁⋅s  - l₁⋅s + ─────── + 2⋅l₂ - lam⎥\n",
      "⎢                  3                ⎥\n",
      "⎢                                   ⎥\n",
      "⎣            l₁ - l₂ - 1            ⎦\n",
      "\n",
      "The solution is:\n",
      "\n",
      "        3      2                 /   2           \\           2        2       \n",
      "     2*s  + 3*s  - 3*s + 6      -\\3*s  + 3*s + 12/        3*s *(s - 1)  - 4*(s\n",
      "{l1: ---------------------, l2: -------------------, lam: --------------------\n",
      "         / 3      2    \\             3      2                       / 3      2\n",
      "       2*\\s  + 3*s  + 9/          2*s  + 6*s  + 18                2*\\s  + 3*s \n",
      "\n",
      "      / 3    \\ \n",
      " + 2)*\\s  + 3/ \n",
      "--------------}\n",
      "    \\          \n",
      " + 9/          \n",
      "\n",
      "\n",
      "The value of lam:\n",
      "   2        2             / 3    \\\n",
      "3*s *(s - 1)  - 4*(s + 2)*\\s  + 3/\n",
      "----------------------------------\n",
      "          / 3      2    \\         \n",
      "        2*\\s  + 3*s  + 9/         \n"
     ]
    }
   ],
   "source": [
    "x, y = symbols('x y', real=True)\n",
    "sol = solve([x**2+2*y**2-3, x * y-1]) # find all the intersection points of an ellipse with a hyperbola\n",
    "print()\n",
    "pprint(sol) # print all the solutions found\n",
    "\n",
    "print()\n",
    "\n",
    "pprint(sol[1]) # print the 2nd solution\n",
    "\n",
    "print('x of the 3rd solution: {}'.format(sol[2][x]))\n",
    "\n",
    "print()\n",
    "print()\n",
    "\n",
    "# solve equation with respect to a part of variables\n",
    "L = quad_form + lam*(l1-l2-1)\n",
    "print('We solve the system of equations that is rows of the following matrix equal to zero:')\n",
    "print()\n",
    "pprint(Matrix([[L.diff(l1)], [L.diff(l2)], [L.diff(lam)]]))\n",
    "print()\n",
    "sol2 = solve([L.diff(l1), L.diff(l2), L.diff(lam)], (l1, l2, lam))\n",
    "print('The solution is:')\n",
    "print()\n",
    "pprint(sol2, use_unicode=False)\n",
    "print()\n",
    "print()\n",
    "print('The value of lam:')\n",
    "pprint(sol2[lam], use_unicode=False)"
   ]
  },
  {
   "cell_type": "markdown",
   "metadata": {},
   "source": [
    "## Simple plotting"
   ]
  },
  {
   "cell_type": "code",
   "execution_count": 7,
   "metadata": {},
   "outputs": [
    {
     "data": {
      "image/png": "[encoded data removed]",
      "text/plain": [
       "<Figure size 432x288 with 1 Axes>"
      ]
     },
     "metadata": {},
     "output_type": "display_data"
    },
    {
     "data": {
      "text/plain": [
       "<sympy.plotting.plot.Plot at 0x161d03750f0>"
      ]
     },
     "execution_count": 7,
     "metadata": {},
     "output_type": "execute_result"
    }
   ],
   "source": [
    "plot(1/sqrt(s**3/(s**4*9.8**2+24)),(s,0.25,10))"
   ]
  },
  {
   "cell_type": "code",
   "execution_count": 8,
   "metadata": {},
   "outputs": [
    {
     "data": {
      "image/png": "[encoded data removed]",
      "text/plain": [
       "<Figure size 432x288 with 1 Axes>"
      ]
     },
     "metadata": {},
     "output_type": "display_data"
    },
    {
     "data": {
      "text/plain": [
       "<sympy.plotting.plot.Plot at 0x161d1afcb00>"
      ]
     },
     "execution_count": 8,
     "metadata": {},
     "output_type": "execute_result"
    }
   ],
   "source": [
    "plot((sqrt(s**3/(s**4*10**2+24)),(s,0.1,4)), (sqrt(s**3/(s**4*9**2+24)),(s,0.25,3)))"
   ]
  },
  {
   "cell_type": "code",
   "execution_count": 9,
   "metadata": {},
   "outputs": [
    {
     "data": {
      "image/png": "[encoded data removed]",
      "text/plain": [
       "<Figure size 432x288 with 1 Axes>"
      ]
     },
     "metadata": {},
     "output_type": "display_data"
    },
    {
     "data": {
      "text/plain": [
       "<sympy.plotting.plot.Plot at 0x161d1b38d30>"
      ]
     },
     "execution_count": 9,
     "metadata": {},
     "output_type": "execute_result"
    }
   ],
   "source": [
    "from sympy.plotting import plot_parametric\n",
    "\n",
    "plot_parametric((2*sin(t)+cos(t),sin(t)-3*cos(t), (t,0,2*pi)),(sin(t)+3*cos(t),sin(t)+2*cos(t), (t,0,2*pi)))"
   ]
  },
  {
   "cell_type": "code",
   "execution_count": 10,
   "metadata": {},
   "outputs": [
    {
     "data": {
      "image/png": "[encoded data removed]",
      "text/plain": [
       "<Figure size 432x288 with 1 Axes>"
      ]
     },
     "metadata": {},
     "output_type": "display_data"
    },
    {
     "data": {
      "text/plain": [
       "<sympy.plotting.plot.Plot at 0x161d1b71c50>"
      ]
     },
     "execution_count": 10,
     "metadata": {},
     "output_type": "execute_result"
    }
   ],
   "source": [
    "plot_implicit((x+y+1)**2-(y-2*x-3)**2-1)"
   ]
  },
  {
   "cell_type": "code",
   "execution_count": 11,
   "metadata": {},
   "outputs": [
    {
     "data": {
      "image/png": "[encoded data removed]",
      "text/plain": [
       "<Figure size 432x288 with 1 Axes>"
      ]
     },
     "metadata": {},
     "output_type": "display_data"
    },
    {
     "data": {
      "text/plain": [
       "<sympy.plotting.plot.Plot at 0x161d0203320>"
      ]
     },
     "execution_count": 11,
     "metadata": {},
     "output_type": "execute_result"
    }
   ],
   "source": [
    "plot_implicit((x+1)**2/4+y**2<=1)"
   ]
  }
 ],
 "metadata": {
  "kernelspec": {
   "display_name": "Python 3",
   "language": "python",
   "name": "python3"
  },
  "language_info": {
   "codemirror_mode": {
    "name": "ipython",
    "version": 3
   },
   "file_extension": ".py",
   "mimetype": "text/x-python",
   "name": "python",
   "nbconvert_exporter": "python",
   "pygments_lexer": "ipython3",
   "version": "3.7.3"
  }
 },
 "nbformat": 4,
 "nbformat_minor": 2
}
