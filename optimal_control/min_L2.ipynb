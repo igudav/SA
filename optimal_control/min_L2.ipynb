{
 "cells": [
  {
   "cell_type": "code",
   "execution_count": 108,
   "metadata": {},
   "outputs": [],
   "source": [
    "from sympy import *\n",
    "from sympy.plotting import plot_parametric"
   ]
  },
  {
   "cell_type": "code",
   "execution_count": 4,
   "metadata": {},
   "outputs": [
    {
     "data": {
      "text/latex": [
       "$\\displaystyle \\left[\\begin{matrix}5 & -3\\\\6 & -4\\end{matrix}\\right]$"
      ],
      "text/plain": [
       "Matrix([\n",
       "[5, -3],\n",
       "[6, -4]])"
      ]
     },
     "execution_count": 4,
     "metadata": {},
     "output_type": "execute_result"
    }
   ],
   "source": [
    "A = Matrix([[5, -3],\n",
    "            [6, -4]])\n",
    "A"
   ]
  },
  {
   "cell_type": "code",
   "execution_count": 5,
   "metadata": {},
   "outputs": [
    {
     "data": {
      "text/latex": [
       "$\\displaystyle \\left[\\begin{matrix}0\\\\1\\end{matrix}\\right]$"
      ],
      "text/plain": [
       "Matrix([\n",
       "[0],\n",
       "[1]])"
      ]
     },
     "execution_count": 5,
     "metadata": {},
     "output_type": "execute_result"
    }
   ],
   "source": [
    "B = Matrix([[0],\n",
    "            [1]])\n",
    "B"
   ]
  },
  {
   "cell_type": "code",
   "execution_count": 6,
   "metadata": {},
   "outputs": [
    {
     "data": {
      "text/latex": [
       "$\\displaystyle \\left[\\begin{matrix}0\\\\2\\end{matrix}\\right]$"
      ],
      "text/plain": [
       "Matrix([\n",
       "[0],\n",
       "[2]])"
      ]
     },
     "execution_count": 6,
     "metadata": {},
     "output_type": "execute_result"
    }
   ],
   "source": [
    "x0 = Matrix([[0],\n",
    "             [2]])\n",
    "x0"
   ]
  },
  {
   "cell_type": "code",
   "execution_count": 7,
   "metadata": {},
   "outputs": [
    {
     "data": {
      "text/latex": [
       "$\\displaystyle \\left[\\begin{matrix}-3\\\\-1\\end{matrix}\\right]$"
      ],
      "text/plain": [
       "Matrix([\n",
       "[-3],\n",
       "[-1]])"
      ]
     },
     "execution_count": 7,
     "metadata": {},
     "output_type": "execute_result"
    }
   ],
   "source": [
    "p = Matrix([[-3],\n",
    "            [-1]])\n",
    "p"
   ]
  },
  {
   "cell_type": "code",
   "execution_count": 8,
   "metadata": {},
   "outputs": [
    {
     "data": {
      "text/latex": [
       "$\\displaystyle \\left[\\begin{matrix}17 & 12\\\\12 & 10\\end{matrix}\\right]$"
      ],
      "text/plain": [
       "Matrix([\n",
       "[17, 12],\n",
       "[12, 10]])"
      ]
     },
     "execution_count": 8,
     "metadata": {},
     "output_type": "execute_result"
    }
   ],
   "source": [
    "P = Matrix([[17, 12],\n",
    "            [12, 10]])\n",
    "P"
   ]
  },
  {
   "cell_type": "code",
   "execution_count": 11,
   "metadata": {},
   "outputs": [
    {
     "name": "stdout",
     "output_type": "stream",
     "text": [
      "⎡⎛       ⎡⎡1/2⎤⎤⎞  ⎛      ⎡⎡1⎤⎤⎞⎤\n",
      "⎢⎜-1, 1, ⎢⎢   ⎥⎥⎟, ⎜2, 1, ⎢⎢ ⎥⎥⎟⎥\n",
      "⎣⎝       ⎣⎣ 1 ⎦⎦⎠  ⎝      ⎣⎣1⎦⎦⎠⎦\n"
     ]
    }
   ],
   "source": [
    "eigs = A.eigenvects()\n",
    "pprint(eigs)"
   ]
  },
  {
   "cell_type": "code",
   "execution_count": 25,
   "metadata": {},
   "outputs": [],
   "source": [
    "t, tau = symbols('t tau', real=True)\n",
    "t0 = 0\n",
    "t1 = log(2)"
   ]
  },
  {
   "cell_type": "code",
   "execution_count": 26,
   "metadata": {},
   "outputs": [
    {
     "data": {
      "text/latex": [
       "$\\displaystyle \\left[\\begin{matrix}\\frac{e^{- t}}{2} & e^{2 t}\\\\e^{- t} & e^{2 t}\\end{matrix}\\right]$"
      ],
      "text/plain": [
       "Matrix([\n",
       "[exp(-t)/2, exp(2*t)],\n",
       "[  exp(-t), exp(2*t)]])"
      ]
     },
     "execution_count": 26,
     "metadata": {},
     "output_type": "execute_result"
    }
   ],
   "source": [
    "Phi = (eigs[0][2][0] * exp(eigs[0][0] * t)).col_insert(1, eigs[1][2][0] * exp(eigs[1][0] * t))\n",
    "Phi"
   ]
  },
  {
   "cell_type": "code",
   "execution_count": 27,
   "metadata": {},
   "outputs": [
    {
     "data": {
      "text/latex": [
       "$\\displaystyle \\left[\\begin{matrix}2 e^{2 t} - e^{- t} & - e^{2 t} + e^{- t}\\\\2 e^{2 t} - 2 e^{- t} & - e^{2 t} + 2 e^{- t}\\end{matrix}\\right]$"
      ],
      "text/plain": [
       "Matrix([\n",
       "[  2*exp(2*t) - exp(-t),   -exp(2*t) + exp(-t)],\n",
       "[2*exp(2*t) - 2*exp(-t), -exp(2*t) + 2*exp(-t)]])"
      ]
     },
     "execution_count": 27,
     "metadata": {},
     "output_type": "execute_result"
    }
   ],
   "source": [
    "expA = Phi @ Phi.subs({t: 0}).inv()\n",
    "expA"
   ]
  },
  {
   "cell_type": "code",
   "execution_count": 24,
   "metadata": {},
   "outputs": [
    {
     "data": {
      "text/latex": [
       "$\\displaystyle \\left[\\begin{matrix}l_{1}\\\\l_{2}\\end{matrix}\\right]$"
      ],
      "text/plain": [
       "Matrix([\n",
       "[l1],\n",
       "[l2]])"
      ]
     },
     "execution_count": 24,
     "metadata": {},
     "output_type": "execute_result"
    }
   ],
   "source": [
    "l1, l2 = symbols('l1 l2', real=True)\n",
    "l = Matrix([[l1],\n",
    "             [l2]])\n",
    "l"
   ]
  },
  {
   "cell_type": "code",
   "execution_count": 28,
   "metadata": {},
   "outputs": [
    {
     "data": {
      "text/latex": [
       "$\\displaystyle \\left[\\begin{matrix}\\frac{e^{\\tau}}{2} - 4 e^{- 2 \\tau}\\\\e^{\\tau} - 4 e^{- 2 \\tau}\\end{matrix}\\right]$"
      ],
      "text/plain": [
       "Matrix([\n",
       "[exp(tau)/2 - 4*exp(-2*tau)],\n",
       "[  exp(tau) - 4*exp(-2*tau)]])"
      ]
     },
     "execution_count": 28,
     "metadata": {},
     "output_type": "execute_result"
    }
   ],
   "source": [
    "H = expA.subs({t: t1 - tau}) @ B\n",
    "H"
   ]
  },
  {
   "cell_type": "code",
   "execution_count": 73,
   "metadata": {},
   "outputs": [
    {
     "data": {
      "text/latex": [
       "$\\displaystyle \\sqrt{\\frac{17 l_{1}^{2}}{8} + 3 l_{1} l_{2} + \\frac{5 l_{2}^{2}}{4}}$"
      ],
      "text/plain": [
       "sqrt(17*l1**2/8 + 3*l1*l2 + 5*l2**2/4)"
      ]
     },
     "execution_count": 73,
     "metadata": {},
     "output_type": "execute_result"
    }
   ],
   "source": [
    "norm_Hl = sqrt(integrate((H.T @ l) ** 2, (tau, t0, t1))[0])\n",
    "norm_Hl"
   ]
  },
  {
   "cell_type": "code",
   "execution_count": 75,
   "metadata": {},
   "outputs": [
    {
     "data": {
      "text/latex": [
       "$\\displaystyle \\sqrt{17 l_{1}^{2} + 24 l_{1} l_{2} + 10 l_{2}^{2}}$"
      ],
      "text/plain": [
       "sqrt(17*l1**2 + 24*l1*l2 + 10*l2**2)"
      ]
     },
     "execution_count": 75,
     "metadata": {},
     "output_type": "execute_result"
    }
   ],
   "source": [
    "simplify(norm_Hl * sqrt(8))"
   ]
  },
  {
   "cell_type": "code",
   "execution_count": 53,
   "metadata": {},
   "outputs": [
    {
     "data": {
      "text/latex": [
       "$\\displaystyle 17 l_{1}^{2} + 24 l_{1} l_{2} + 10 l_{2}^{2}$"
      ],
      "text/plain": [
       "17*l1**2 + 24*l1*l2 + 10*l2**2"
      ]
     },
     "execution_count": 53,
     "metadata": {},
     "output_type": "execute_result"
    }
   ],
   "source": [
    "simplify(l.dot(P @ l))"
   ]
  },
  {
   "cell_type": "code",
   "execution_count": 76,
   "metadata": {},
   "outputs": [
    {
     "data": {
      "text/latex": [
       "$\\displaystyle 4 l_{1} + 5 l_{2} - 2 \\sqrt{2}$"
      ],
      "text/plain": [
       "4*l1 + 5*l2 - 2*sqrt(2)"
      ]
     },
     "execution_count": 76,
     "metadata": {},
     "output_type": "execute_result"
    }
   ],
   "source": [
    "bnd = simplify(l.dot(p - expA.subs({t: t1 - t0}) @ x0) - sqrt(8))\n",
    "bnd"
   ]
  },
  {
   "cell_type": "code",
   "execution_count": 77,
   "metadata": {},
   "outputs": [
    {
     "data": {
      "text/latex": [
       "$\\displaystyle \\frac{17 l_{1}^{2}}{8} + 3 l_{1} l_{2} + \\frac{5 l_{2}^{2}}{4} - 1$"
      ],
      "text/plain": [
       "17*l1**2/8 + 3*l1*l2 + 5*l2**2/4 - 1"
      ]
     },
     "execution_count": 77,
     "metadata": {},
     "output_type": "execute_result"
    }
   ],
   "source": [
    "constr = norm_Hl ** 2 - 1\n",
    "constr"
   ]
  },
  {
   "cell_type": "code",
   "execution_count": 78,
   "metadata": {},
   "outputs": [
    {
     "data": {
      "text/latex": [
       "$\\displaystyle \\lambda$"
      ],
      "text/plain": [
       "lambda"
      ]
     },
     "execution_count": 78,
     "metadata": {},
     "output_type": "execute_result"
    }
   ],
   "source": [
    "lam = symbols('lambda', real=True)\n",
    "lam"
   ]
  },
  {
   "cell_type": "code",
   "execution_count": 79,
   "metadata": {},
   "outputs": [
    {
     "data": {
      "text/latex": [
       "$\\displaystyle 4 l_{1} + 5 l_{2} + \\lambda \\left(\\frac{17 l_{1}^{2}}{8} + 3 l_{1} l_{2} + \\frac{5 l_{2}^{2}}{4} - 1\\right) - 2 \\sqrt{2}$"
      ],
      "text/plain": [
       "4*l1 + 5*l2 + lambda*(17*l1**2/8 + 3*l1*l2 + 5*l2**2/4 - 1) - 2*sqrt(2)"
      ]
     },
     "execution_count": 79,
     "metadata": {},
     "output_type": "execute_result"
    }
   ],
   "source": [
    "L = bnd + lam * constr\n",
    "L"
   ]
  },
  {
   "cell_type": "code",
   "execution_count": 82,
   "metadata": {},
   "outputs": [
    {
     "data": {
      "text/plain": [
       "[(-8*sqrt(1365)/273, 74*sqrt(1365)/1365, -sqrt(1365)/13),\n",
       " (8*sqrt(1365)/273, -74*sqrt(1365)/1365, sqrt(1365)/13)]"
      ]
     },
     "execution_count": 82,
     "metadata": {},
     "output_type": "execute_result"
    }
   ],
   "source": [
    "sol = solve([L.diff(l1), L.diff(l2), L.diff(lam)], (l1, l2, lam))\n",
    "sol"
   ]
  },
  {
   "cell_type": "code",
   "execution_count": 85,
   "metadata": {},
   "outputs": [],
   "source": [
    "l1_opt0, l2_opt0, lam_opt0 = sol[0]\n",
    "l1_opt1, l2_opt1, lam_opt1 = sol[1]"
   ]
  },
  {
   "cell_type": "code",
   "execution_count": 87,
   "metadata": {},
   "outputs": [
    {
     "data": {
      "text/latex": [
       "$\\displaystyle - 2 \\sqrt{2} + \\frac{2 \\sqrt{1365}}{13}$"
      ],
      "text/plain": [
       "-2*sqrt(2) + 2*sqrt(1365)/13"
      ]
     },
     "execution_count": 87,
     "metadata": {},
     "output_type": "execute_result"
    }
   ],
   "source": [
    "bnd.subs({l1: l1_opt0, l2: l2_opt0})"
   ]
  },
  {
   "cell_type": "code",
   "execution_count": 88,
   "metadata": {},
   "outputs": [
    {
     "data": {
      "text/latex": [
       "$\\displaystyle - \\frac{2 \\sqrt{1365}}{13} - 2 \\sqrt{2}$"
      ],
      "text/plain": [
       "-2*sqrt(1365)/13 - 2*sqrt(2)"
      ]
     },
     "execution_count": 88,
     "metadata": {},
     "output_type": "execute_result"
    }
   ],
   "source": [
    "bnd.subs({l1: l1_opt1, l2: l2_opt1})"
   ]
  },
  {
   "cell_type": "code",
   "execution_count": 89,
   "metadata": {},
   "outputs": [],
   "source": [
    "l1_max, l2_max = l1_opt0, l2_opt0"
   ]
  },
  {
   "cell_type": "code",
   "execution_count": 90,
   "metadata": {},
   "outputs": [
    {
     "data": {
      "text/latex": [
       "$\\displaystyle - 2 \\sqrt{2} + \\frac{2 \\sqrt{1365}}{13}$"
      ],
      "text/plain": [
       "-2*sqrt(2) + 2*sqrt(1365)/13"
      ]
     },
     "execution_count": 90,
     "metadata": {},
     "output_type": "execute_result"
    }
   ],
   "source": [
    "mu = bnd.subs({l1: l1_opt0, l2: l2_opt0})\n",
    "mu"
   ]
  },
  {
   "cell_type": "code",
   "execution_count": 93,
   "metadata": {},
   "outputs": [
    {
     "data": {
      "text/latex": [
       "$\\displaystyle 2.85555847584186$"
      ],
      "text/plain": [
       "2.85555847584186"
      ]
     },
     "execution_count": 93,
     "metadata": {},
     "output_type": "execute_result"
    }
   ],
   "source": [
    "mu.evalf()"
   ]
  },
  {
   "cell_type": "code",
   "execution_count": 99,
   "metadata": {},
   "outputs": [
    {
     "data": {
      "text/latex": [
       "$\\displaystyle \\left[\\begin{matrix}\\frac{4 \\sqrt{1365} \\left(- 13 \\sqrt{2} + \\sqrt{1365}\\right) \\left(27 e^{3 \\tau} - 68\\right) e^{- 2 \\tau}}{17745}\\end{matrix}\\right]$"
      ],
      "text/plain": [
       "Matrix([[4*sqrt(1365)*(-13*sqrt(2) + sqrt(1365))*(27*exp(3*tau) - 68)*exp(-2*tau)/17745]])"
      ]
     },
     "execution_count": 99,
     "metadata": {},
     "output_type": "execute_result"
    }
   ],
   "source": [
    "u_opt = simplify(mu * H.T @ l.subs({l1: l1_max, l2: l2_max}) / norm_Hl.subs({l1: l1_max, l2: l2_max}))\n",
    "u_opt"
   ]
  },
  {
   "cell_type": "code",
   "execution_count": 104,
   "metadata": {},
   "outputs": [
    {
     "data": {
      "text/latex": [
       "$\\displaystyle 2.85555847584186$"
      ],
      "text/plain": [
       "2.85555847584186"
      ]
     },
     "execution_count": 104,
     "metadata": {},
     "output_type": "execute_result"
    }
   ],
   "source": [
    "sqrt(integrate(u_opt ** 2, (tau, t0, t1))[0]).evalf()"
   ]
  },
  {
   "cell_type": "code",
   "execution_count": 106,
   "metadata": {},
   "outputs": [
    {
     "data": {
      "text/latex": [
       "$\\displaystyle \\left[\\begin{matrix}\\frac{2 \\left(- 3465 e^{4 t} + 20 \\sqrt{2730} e^{4 t} - 81 \\sqrt{2730} e^{3 t} + 8505 e^{3 t} - 15750 e^{t} + 163 \\sqrt{2730} e^{t} - 102 \\sqrt{2730} + 10710\\right) e^{- 2 t}}{1365}\\\\\\frac{2 \\left(- 3465 e^{4 t} + 20 \\sqrt{2730} e^{4 t} - 108 \\sqrt{2730} e^{3 t} + 11340 e^{3 t} - 31500 e^{t} + 326 \\sqrt{2730} e^{t} - 238 \\sqrt{2730} + 24990\\right) e^{- 2 t}}{1365}\\end{matrix}\\right]$"
      ],
      "text/plain": [
       "Matrix([\n",
       "[  2*(-3465*exp(4*t) + 20*sqrt(2730)*exp(4*t) - 81*sqrt(2730)*exp(3*t) + 8505*exp(3*t) - 15750*exp(t) + 163*sqrt(2730)*exp(t) - 102*sqrt(2730) + 10710)*exp(-2*t)/1365],\n",
       "[2*(-3465*exp(4*t) + 20*sqrt(2730)*exp(4*t) - 108*sqrt(2730)*exp(3*t) + 11340*exp(3*t) - 31500*exp(t) + 326*sqrt(2730)*exp(t) - 238*sqrt(2730) + 24990)*exp(-2*t)/1365]])"
      ]
     },
     "execution_count": 106,
     "metadata": {},
     "output_type": "execute_result"
    }
   ],
   "source": [
    "x_opt = simplify(expA.subs({t: t - t0}) @ x0 + integrate(expA.subs({t: t - tau}) @ B @ u_opt, (tau, t0, t)))\n",
    "x_opt"
   ]
  },
  {
   "cell_type": "code",
   "execution_count": 115,
   "metadata": {},
   "outputs": [],
   "source": [
    "z1, z2 = symbols('z1 z2', real=True)\n",
    "z = Matrix([[z1],\n",
    "            [z2]])"
   ]
  },
  {
   "cell_type": "code",
   "execution_count": 119,
   "metadata": {},
   "outputs": [
    {
     "data": {
      "text/latex": [
       "$\\displaystyle \\frac{5 z_{1}^{2}}{13} - \\frac{12 z_{1} z_{2}}{13} + \\frac{18 z_{1}}{13} + \\frac{17 z_{2}^{2}}{26} - \\frac{19 z_{2}}{13} + \\frac{9}{26}$"
      ],
      "text/plain": [
       "5*z1**2/13 - 12*z1*z2/13 + 18*z1/13 + 17*z2**2/26 - 19*z2/13 + 9/26"
      ]
     },
     "execution_count": 119,
     "metadata": {},
     "output_type": "execute_result"
    }
   ],
   "source": [
    "X1 = (z - p).dot(P.inv() @ (z - p)) - 1\n",
    "simplify(X1)"
   ]
  },
  {
   "cell_type": "code",
   "execution_count": 135,
   "metadata": {},
   "outputs": [
    {
     "name": "stdout",
     "output_type": "stream",
     "text": [
      "⎡⎛         ⎡⎡4/3⎤⎤⎞  ⎛      ⎡⎡-3/4⎤⎤⎞⎤\n",
      "⎢⎜1/26, 1, ⎢⎢   ⎥⎥⎟, ⎜1, 1, ⎢⎢    ⎥⎥⎟⎥\n",
      "⎣⎝         ⎣⎣ 1 ⎦⎦⎠  ⎝      ⎣⎣ 1  ⎦⎦⎠⎦\n"
     ]
    }
   ],
   "source": [
    "pprint(P.inv().eigenvects())"
   ]
  },
  {
   "cell_type": "code",
   "execution_count": 141,
   "metadata": {},
   "outputs": [
    {
     "data": {
      "text/latex": [
       "$\\displaystyle \\left[\\begin{matrix}- 2 e^{2 t} + 2 e^{- t}\\\\- 2 e^{2 t} + 4 e^{- t}\\end{matrix}\\right]$"
      ],
      "text/plain": [
       "Matrix([\n",
       "[-2*exp(2*t) + 2*exp(-t)],\n",
       "[-2*exp(2*t) + 4*exp(-t)]])"
      ]
     },
     "execution_count": 141,
     "metadata": {},
     "output_type": "execute_result"
    }
   ],
   "source": [
    "no_control = expA.subs({t: t - t0}) @ x0\n",
    "no_control"
   ]
  },
  {
   "cell_type": "code",
   "execution_count": 145,
   "metadata": {
    "scrolled": true
   },
   "outputs": [
    {
     "data": {
      "image/png": "[encoded data removed]",
      "text/plain": [
       "<Figure size 432x288 with 1 Axes>"
      ]
     },
     "metadata": {
      "needs_background": "light"
     },
     "output_type": "display_data"
    }
   ],
   "source": [
    "p1 = plot_parametric((x_opt[0], x_opt[1], (t, t0, t1)), (no_control[0], no_control[1], (t, t0, t1)))"
   ]
  },
  {
   "cell_type": "code",
   "execution_count": 120,
   "metadata": {},
   "outputs": [
    {
     "data": {
      "image/png": "[encoded data removed]",
      "text/plain": [
       "<Figure size 432x288 with 1 Axes>"
      ]
     },
     "metadata": {
      "needs_background": "light"
     },
     "output_type": "display_data"
    },
    {
     "data": {
      "text/plain": [
       "<sympy.plotting.plot.Plot at 0x7fe5b2cafa10>"
      ]
     },
     "execution_count": 120,
     "metadata": {},
     "output_type": "execute_result"
    }
   ],
   "source": [
    "plot_implicit(X1)"
   ]
  },
  {
   "cell_type": "code",
   "execution_count": 122,
   "metadata": {},
   "outputs": [
    {
     "data": {
      "text/latex": [
       "$\\displaystyle 2.22044604925031 \\cdot 10^{-16}$"
      ],
      "text/plain": [
       "2.22044604925031e-16"
      ]
     },
     "execution_count": 122,
     "metadata": {},
     "output_type": "execute_result"
    }
   ],
   "source": [
    "x1 = x_opt.subs(t, t1).evalf()\n",
    "X1.subs({z1: x1[0], z2: x1[1]})"
   ]
  }
 ],
 "metadata": {
  "kernelspec": {
   "display_name": "Python 3",
   "language": "python",
   "name": "python3"
  },
  "language_info": {
   "codemirror_mode": {
    "name": "ipython",
    "version": 3
   },
   "file_extension": ".py",
   "mimetype": "text/x-python",
   "name": "python",
   "nbconvert_exporter": "python",
   "pygments_lexer": "ipython3",
   "version": "3.7.4"
  }
 },
 "nbformat": 4,
 "nbformat_minor": 2
}
