{
 "cells": [
  {
   "cell_type": "code",
   "execution_count": 1,
   "metadata": {},
   "outputs": [],
   "source": [
    "from sympy import *\n",
    "from sympy.plotting import plot_parametric"
   ]
  },
  {
   "cell_type": "code",
   "execution_count": 2,
   "metadata": {},
   "outputs": [
    {
     "data": {
      "text/latex": [
       "$\\displaystyle \\left[\\begin{matrix}-7 & 5\\\\-6 & 4\\end{matrix}\\right]$"
      ],
      "text/plain": [
       "Matrix([\n",
       "[-7, 5],\n",
       "[-6, 4]])"
      ]
     },
     "execution_count": 2,
     "metadata": {},
     "output_type": "execute_result"
    }
   ],
   "source": [
    "A = Matrix([[-7, 5],\n",
    "            [-6, 4]])\n",
    "A"
   ]
  },
  {
   "cell_type": "code",
   "execution_count": 3,
   "metadata": {},
   "outputs": [
    {
     "data": {
      "text/latex": [
       "$\\displaystyle \\left[\\begin{matrix}-2\\\\3\\end{matrix}\\right]$"
      ],
      "text/plain": [
       "Matrix([\n",
       "[-2],\n",
       "[ 3]])"
      ]
     },
     "execution_count": 3,
     "metadata": {},
     "output_type": "execute_result"
    }
   ],
   "source": [
    "B = Matrix([[-2],\n",
    "            [3]])\n",
    "B"
   ]
  },
  {
   "cell_type": "code",
   "execution_count": 4,
   "metadata": {},
   "outputs": [
    {
     "data": {
      "text/latex": [
       "$\\displaystyle \\left[\\begin{matrix}3\\\\2\\end{matrix}\\right]$"
      ],
      "text/plain": [
       "Matrix([\n",
       "[3],\n",
       "[2]])"
      ]
     },
     "execution_count": 4,
     "metadata": {},
     "output_type": "execute_result"
    }
   ],
   "source": [
    "x0 = Matrix([[3],\n",
    "             [2]])\n",
    "x0"
   ]
  },
  {
   "cell_type": "code",
   "execution_count": 5,
   "metadata": {},
   "outputs": [
    {
     "data": {
      "text/latex": [
       "$\\displaystyle \\left[\\begin{matrix}2\\\\2\\end{matrix}\\right]$"
      ],
      "text/plain": [
       "Matrix([\n",
       "[2],\n",
       "[2]])"
      ]
     },
     "execution_count": 5,
     "metadata": {},
     "output_type": "execute_result"
    }
   ],
   "source": [
    "x1 = Matrix([[2],\n",
    "             [2]])\n",
    "x1"
   ]
  },
  {
   "cell_type": "code",
   "execution_count": 6,
   "metadata": {},
   "outputs": [],
   "source": [
    "t0 = 0\n",
    "t1 = log(2)"
   ]
  },
  {
   "cell_type": "code",
   "execution_count": 8,
   "metadata": {},
   "outputs": [
    {
     "name": "stdout",
     "output_type": "stream",
     "text": [
      "⎡⎛       ⎡⎡1⎤⎤⎞  ⎛       ⎡⎡5/6⎤⎤⎞⎤\n",
      "⎢⎜-2, 1, ⎢⎢ ⎥⎥⎟, ⎜-1, 1, ⎢⎢   ⎥⎥⎟⎥\n",
      "⎣⎝       ⎣⎣1⎦⎦⎠  ⎝       ⎣⎣ 1 ⎦⎦⎠⎦\n"
     ]
    }
   ],
   "source": [
    "eigs = A.eigenvects()\n",
    "pprint(eigs)"
   ]
  },
  {
   "cell_type": "code",
   "execution_count": 48,
   "metadata": {},
   "outputs": [],
   "source": [
    "t, tau = symbols('t tau', real=True, nonnegative=True)"
   ]
  },
  {
   "cell_type": "code",
   "execution_count": 49,
   "metadata": {},
   "outputs": [],
   "source": [
    "Phi = (exp(eigs[0][0] * t) * eigs[0][2][0]).col_insert(1, exp(eigs[1][0] * t) * eigs[1][2][0])\n",
    "expA = Phi @ Phi.subs(t, 0).inv()"
   ]
  },
  {
   "cell_type": "code",
   "execution_count": 50,
   "metadata": {},
   "outputs": [
    {
     "data": {
      "text/latex": [
       "$\\displaystyle \\left[\\begin{matrix}- 5 e^{- t} + 6 e^{- 2 t} & 5 e^{- t} - 5 e^{- 2 t}\\\\- 6 e^{- t} + 6 e^{- 2 t} & 6 e^{- t} - 5 e^{- 2 t}\\end{matrix}\\right]$"
      ],
      "text/plain": [
       "Matrix([\n",
       "[-5*exp(-t) + 6*exp(-2*t), 5*exp(-t) - 5*exp(-2*t)],\n",
       "[-6*exp(-t) + 6*exp(-2*t), 6*exp(-t) - 5*exp(-2*t)]])"
      ]
     },
     "execution_count": 50,
     "metadata": {},
     "output_type": "execute_result"
    }
   ],
   "source": [
    "expA"
   ]
  },
  {
   "cell_type": "code",
   "execution_count": 51,
   "metadata": {},
   "outputs": [
    {
     "data": {
      "text/latex": [
       "$\\displaystyle \\left[\\begin{matrix}\\frac{5}{2}\\\\3\\end{matrix}\\right]$"
      ],
      "text/plain": [
       "Matrix([\n",
       "[5/2],\n",
       "[  3]])"
      ]
     },
     "execution_count": 51,
     "metadata": {},
     "output_type": "execute_result"
    }
   ],
   "source": [
    "c = x1 - expA.subs(t, t1 - t0) @ x0\n",
    "c"
   ]
  },
  {
   "cell_type": "code",
   "execution_count": 52,
   "metadata": {},
   "outputs": [
    {
     "data": {
      "text/latex": [
       "$\\displaystyle \\left[\\begin{matrix}- \\frac{27 e^{2 \\tau}}{4} + \\frac{25 e^{\\tau}}{2}\\\\- \\frac{27 e^{2 \\tau}}{4} + 15 e^{\\tau}\\end{matrix}\\right]$"
      ],
      "text/plain": [
       "Matrix([\n",
       "[-27*exp(2*tau)/4 + 25*exp(tau)/2],\n",
       "[  -27*exp(2*tau)/4 + 15*exp(tau)]])"
      ]
     },
     "execution_count": 52,
     "metadata": {},
     "output_type": "execute_result"
    }
   ],
   "source": [
    "H = expA.subs(t, t1 - tau) @ B\n",
    "H"
   ]
  },
  {
   "cell_type": "code",
   "execution_count": 53,
   "metadata": {},
   "outputs": [
    {
     "data": {
      "text/latex": [
       "$\\displaystyle \\left[\\begin{matrix}-2 & 29\\\\3 & 24\\end{matrix}\\right]$"
      ],
      "text/plain": [
       "Matrix([\n",
       "[-2, 29],\n",
       "[ 3, 24]])"
      ]
     },
     "execution_count": 53,
     "metadata": {},
     "output_type": "execute_result"
    }
   ],
   "source": [
    "B.col_insert(1, A @ B)"
   ]
  },
  {
   "cell_type": "code",
   "execution_count": 54,
   "metadata": {},
   "outputs": [
    {
     "data": {
      "text/latex": [
       "$\\displaystyle \\left[\\begin{matrix}l_{1}\\\\l_{2}\\end{matrix}\\right]$"
      ],
      "text/plain": [
       "Matrix([\n",
       "[l1],\n",
       "[l2]])"
      ]
     },
     "execution_count": 54,
     "metadata": {},
     "output_type": "execute_result"
    }
   ],
   "source": [
    "l1, l2 = symbols('l1 l2', real=True)\n",
    "l = Matrix([[l1],\n",
    "            [l2]])\n",
    "l"
   ]
  },
  {
   "cell_type": "code",
   "execution_count": 55,
   "metadata": {},
   "outputs": [
    {
     "data": {
      "text/latex": [
       "$\\displaystyle \\frac{\\int\\limits_{0}^{\\log{\\left(2 \\right)}} e^{\\tau} \\left|{27 l_{1} e^{\\tau} - 50 l_{1} + 27 l_{2} e^{\\tau} - 60 l_{2}}\\right|\\, d\\tau}{4}$"
      ],
      "text/plain": [
       "Integral(exp(tau)*Abs(27*l1*exp(tau) - 50*l1 + 27*l2*exp(tau) - 60*l2), (tau, 0, log(2)))/4"
      ]
     },
     "execution_count": 55,
     "metadata": {},
     "output_type": "execute_result"
    }
   ],
   "source": [
    "integrate(abs(H.T @ l), (tau, t0, t1))[0]"
   ]
  },
  {
   "cell_type": "code",
   "execution_count": 56,
   "metadata": {},
   "outputs": [
    {
     "data": {
      "text/latex": [
       "$\\displaystyle \\left[\\begin{matrix}\\frac{5}{2}\\\\3\\end{matrix}\\right]$"
      ],
      "text/plain": [
       "Matrix([\n",
       "[5/2],\n",
       "[  3]])"
      ]
     },
     "execution_count": 56,
     "metadata": {},
     "output_type": "execute_result"
    }
   ],
   "source": [
    "c"
   ]
  },
  {
   "cell_type": "code",
   "execution_count": 57,
   "metadata": {},
   "outputs": [
    {
     "data": {
      "text/latex": [
       "$\\displaystyle \\left[\\begin{matrix}l_{1}\\\\l_{2}\\end{matrix}\\right]$"
      ],
      "text/plain": [
       "Matrix([\n",
       "[l1],\n",
       "[l2]])"
      ]
     },
     "execution_count": 57,
     "metadata": {},
     "output_type": "execute_result"
    }
   ],
   "source": [
    "l"
   ]
  },
  {
   "cell_type": "code",
   "execution_count": 58,
   "metadata": {},
   "outputs": [],
   "source": [
    "sol = solve(l.dot(c) - 1, l2)"
   ]
  },
  {
   "cell_type": "code",
   "execution_count": 59,
   "metadata": {},
   "outputs": [
    {
     "data": {
      "text/plain": [
       "[1/3 - 5*l1/6]"
      ]
     },
     "execution_count": 59,
     "metadata": {},
     "output_type": "execute_result"
    }
   ],
   "source": [
    "sol"
   ]
  },
  {
   "cell_type": "code",
   "execution_count": 60,
   "metadata": {},
   "outputs": [
    {
     "data": {
      "text/latex": [
       "$\\displaystyle \\frac{\\left(- 9 l_{1} e^{\\tau} - 18 e^{\\tau} + 40\\right) e^{\\tau}}{8}$"
      ],
      "text/plain": [
       "(-9*l1*exp(tau) - 18*exp(tau) + 40)*exp(tau)/8"
      ]
     },
     "execution_count": 60,
     "metadata": {},
     "output_type": "execute_result"
    }
   ],
   "source": [
    "tmp = simplify((H.T @ l).subs(l2, sol[0])[0])\n",
    "tmp"
   ]
  },
  {
   "cell_type": "code",
   "execution_count": 61,
   "metadata": {},
   "outputs": [
    {
     "data": {
      "text/latex": [
       "$\\displaystyle \\left[\\begin{matrix}\\frac{19}{8}\\\\\\frac{39}{8}\\end{matrix}\\right]$"
      ],
      "text/plain": [
       "Matrix([\n",
       "[19/8],\n",
       "[39/8]])"
      ]
     },
     "execution_count": 61,
     "metadata": {},
     "output_type": "execute_result"
    }
   ],
   "source": [
    "integrate(H, (tau, t0, t1))"
   ]
  },
  {
   "cell_type": "code",
   "execution_count": 62,
   "metadata": {},
   "outputs": [
    {
     "data": {
      "text/latex": [
       "$\\displaystyle \\tau_{s}$"
      ],
      "text/plain": [
       "tau_s"
      ]
     },
     "execution_count": 62,
     "metadata": {},
     "output_type": "execute_result"
    }
   ],
   "source": [
    "taus = symbols('tau_s', real=True)\n",
    "taus"
   ]
  },
  {
   "cell_type": "code",
   "execution_count": 63,
   "metadata": {},
   "outputs": [],
   "source": [
    "mu, sig = symbols('mu sigma', real=True)"
   ]
  },
  {
   "cell_type": "code",
   "execution_count": 64,
   "metadata": {},
   "outputs": [
    {
     "data": {
      "text/latex": [
       "$\\displaystyle \\left[\\begin{matrix}\\frac{23 \\mu \\sigma}{2} - 50 \\mu \\sigma e^{- \\tau_{s}} + 54 \\mu \\sigma e^{- 2 \\tau_{s}} + 5 e^{- \\tau_{s}}\\\\\\frac{33 \\mu \\sigma}{2} - 60 \\mu \\sigma e^{- \\tau_{s}} + 54 \\mu \\sigma e^{- 2 \\tau_{s}} + 6 e^{- \\tau_{s}}\\end{matrix}\\right]$"
      ],
      "text/plain": [
       "Matrix([\n",
       "[23*mu*sigma/2 - 50*mu*sigma*exp(-tau_s) + 54*mu*sigma*exp(-2*tau_s) + 5*exp(-tau_s)],\n",
       "[33*mu*sigma/2 - 60*mu*sigma*exp(-tau_s) + 54*mu*sigma*exp(-2*tau_s) + 6*exp(-tau_s)]])"
      ]
     },
     "execution_count": 64,
     "metadata": {},
     "output_type": "execute_result"
    }
   ],
   "source": [
    "expr_l = expA.subs(t, taus - t1) @ c + integrate(expA.subs(t, taus - tau) @ B * mu * sig, (tau, t1, taus))\n",
    "expr_l"
   ]
  },
  {
   "cell_type": "code",
   "execution_count": 65,
   "metadata": {},
   "outputs": [
    {
     "data": {
      "text/latex": [
       "$\\displaystyle \\left[\\begin{matrix}- \\frac{23 \\mu \\sigma}{2} + 25 \\mu \\sigma e^{- \\tau_{s}} - \\frac{27 \\mu \\sigma e^{- 2 \\tau_{s}}}{2}\\\\- \\frac{33 \\mu \\sigma}{2} + 30 \\mu \\sigma e^{- \\tau_{s}} - \\frac{27 \\mu \\sigma e^{- 2 \\tau_{s}}}{2}\\end{matrix}\\right]$"
      ],
      "text/plain": [
       "Matrix([\n",
       "[-23*mu*sigma/2 + 25*mu*sigma*exp(-tau_s) - 27*mu*sigma*exp(-2*tau_s)/2],\n",
       "[-33*mu*sigma/2 + 30*mu*sigma*exp(-tau_s) - 27*mu*sigma*exp(-2*tau_s)/2]])"
      ]
     },
     "execution_count": 65,
     "metadata": {},
     "output_type": "execute_result"
    }
   ],
   "source": [
    "expr_r = -integrate(expA.subs(t, taus - tau) @ B * mu * sig, (tau, t0, taus))\n",
    "expr_r"
   ]
  },
  {
   "cell_type": "code",
   "execution_count": 66,
   "metadata": {},
   "outputs": [
    {
     "name": "stdout",
     "output_type": "stream",
     "text": [
      "⎡⎛  √10   3            log(10)⎞⎤\n",
      "⎢⎜- ─── - ─, -log(2) + ───────⎟⎥\n",
      "⎣⎝   5    5               2   ⎠⎦\n"
     ]
    }
   ],
   "source": [
    "sol_1 = solve((expr_l - expr_r).subs(sig, 1), (mu, taus))\n",
    "pprint(sol_1)"
   ]
  },
  {
   "cell_type": "code",
   "execution_count": 67,
   "metadata": {},
   "outputs": [
    {
     "name": "stdout",
     "output_type": "stream",
     "text": [
      "⎡⎛3   √10            log(10)⎞⎤\n",
      "⎢⎜─ + ───, -log(2) + ───────⎟⎥\n",
      "⎣⎝5    5                2   ⎠⎦\n"
     ]
    }
   ],
   "source": [
    "sol_2 = solve((expr_l - expr_r).subs(sig, -1), (mu, taus))\n",
    "pprint(sol_2)"
   ]
  },
  {
   "cell_type": "code",
   "execution_count": 68,
   "metadata": {},
   "outputs": [
    {
     "data": {
      "text/latex": [
       "$\\displaystyle - \\frac{\\sqrt{10}}{5} - \\frac{3}{5}$"
      ],
      "text/plain": [
       "-sqrt(10)/5 - 3/5"
      ]
     },
     "execution_count": 68,
     "metadata": {},
     "output_type": "execute_result"
    }
   ],
   "source": [
    "mu_opt = -sol_2[0][0]\n",
    "mu_opt"
   ]
  },
  {
   "cell_type": "code",
   "execution_count": 69,
   "metadata": {},
   "outputs": [
    {
     "data": {
      "text/latex": [
       "$\\displaystyle \\left(- \\frac{\\sqrt{10}}{5} - \\frac{3}{5}\\right) \\operatorname{sign}{\\left(\\tau - \\frac{\\log{\\left(10 \\right)}}{2} + \\log{\\left(2 \\right)} \\right)}$"
      ],
      "text/plain": [
       "(-sqrt(10)/5 - 3/5)*sign(tau - log(10)/2 + log(2))"
      ]
     },
     "execution_count": 69,
     "metadata": {},
     "output_type": "execute_result"
    }
   ],
   "source": [
    "u_opt = mu_opt * sign(tau - sol_2[0][1])\n",
    "u_opt"
   ]
  },
  {
   "cell_type": "code",
   "execution_count": 70,
   "metadata": {},
   "outputs": [
    {
     "data": {
      "text/latex": [
       "$\\displaystyle - \\frac{\\left(3 + \\sqrt{10}\\right) \\operatorname{sign}{\\left(2 \\tau + \\log{\\left(\\frac{2}{5} \\right)} \\right)}}{5}$"
      ],
      "text/plain": [
       "-(3 + sqrt(10))*sign(2*tau + log(2/5))/5"
      ]
     },
     "execution_count": 70,
     "metadata": {},
     "output_type": "execute_result"
    }
   ],
   "source": [
    "simplify(u_opt)"
   ]
  },
  {
   "cell_type": "code",
   "execution_count": 72,
   "metadata": {},
   "outputs": [
    {
     "data": {
      "text/latex": [
       "$\\displaystyle \\left[\\begin{matrix}\\frac{\\left(\\left(- 54 \\left(3 + \\sqrt{10}\\right) e^{- 2 t + 2 \\min\\left(t, - \\log{\\left(2 \\right)} + \\frac{\\log{\\left(10 \\right)}}{2}\\right)} + 100 \\left(3 + \\sqrt{10}\\right) e^{- t + \\min\\left(t, - \\log{\\left(2 \\right)} + \\frac{\\log{\\left(10 \\right)}}{2}\\right)} - 23 \\sqrt{10} - 69\\right) e^{2 t} - 50 \\left(\\sqrt{10} + 4\\right) e^{t} + 27 \\sqrt{10} + 161\\right) e^{- 2 t}}{10}\\\\\\frac{\\left(3 \\left(- 18 \\left(3 + \\sqrt{10}\\right) e^{- 2 t + 2 \\min\\left(t, - \\log{\\left(2 \\right)} + \\frac{\\log{\\left(10 \\right)}}{2}\\right)} + 40 \\left(3 + \\sqrt{10}\\right) e^{- t + \\min\\left(t, - \\log{\\left(2 \\right)} + \\frac{\\log{\\left(10 \\right)}}{2}\\right)} - 11 \\sqrt{10} - 33\\right) e^{2 t} - 60 \\left(\\sqrt{10} + 4\\right) e^{t} + 27 \\sqrt{10} + 161\\right) e^{- 2 t}}{10}\\end{matrix}\\right]$"
      ],
      "text/plain": [
       "Matrix([\n",
       "[ ((-54*(3 + sqrt(10))*exp(-2*t + 2*Min(t, -log(2) + log(10)/2)) + 100*(3 + sqrt(10))*exp(-t + Min(t, -log(2) + log(10)/2)) - 23*sqrt(10) - 69)*exp(2*t) - 50*(sqrt(10) + 4)*exp(t) + 27*sqrt(10) + 161)*exp(-2*t)/10],\n",
       "[(3*(-18*(3 + sqrt(10))*exp(-2*t + 2*Min(t, -log(2) + log(10)/2)) + 40*(3 + sqrt(10))*exp(-t + Min(t, -log(2) + log(10)/2)) - 11*sqrt(10) - 33)*exp(2*t) - 60*(sqrt(10) + 4)*exp(t) + 27*sqrt(10) + 161)*exp(-2*t)/10]])"
      ]
     },
     "execution_count": 72,
     "metadata": {},
     "output_type": "execute_result"
    }
   ],
   "source": [
    "x_opt = simplify(expA.subs(t, t - t0) @ x0 + integrate(expA.subs(t, t - tau) @ B * u_opt, (tau, t0, t)))\n",
    "x_opt"
   ]
  },
  {
   "cell_type": "code",
   "execution_count": 79,
   "metadata": {},
   "outputs": [
    {
     "data": {
      "text/latex": [
       "$\\displaystyle - \\frac{\\sqrt{10}}{5} - \\frac{3}{5}$"
      ],
      "text/plain": [
       "-sqrt(10)/5 - 3/5"
      ]
     },
     "execution_count": 79,
     "metadata": {},
     "output_type": "execute_result"
    }
   ],
   "source": [
    "mu_opt"
   ]
  },
  {
   "cell_type": "code",
   "execution_count": 80,
   "metadata": {},
   "outputs": [
    {
     "data": {
      "text/latex": [
       "$\\displaystyle - \\log{\\left(2 \\right)} + \\frac{\\log{\\left(10 \\right)}}{2}$"
      ],
      "text/plain": [
       "-log(2) + log(10)/2"
      ]
     },
     "execution_count": 80,
     "metadata": {},
     "output_type": "execute_result"
    }
   ],
   "source": [
    "ts = sol_2[0][1]\n",
    "ts"
   ]
  },
  {
   "cell_type": "code",
   "execution_count": 90,
   "metadata": {},
   "outputs": [
    {
     "data": {
      "image/png": "[encoded data removed]",
      "text/plain": [
       "<Figure size 432x288 with 1 Axes>"
      ]
     },
     "metadata": {
      "needs_background": "light"
     },
     "output_type": "display_data"
    },
    {
     "data": {
      "text/plain": [
       "<sympy.plotting.plot.Plot at 0x7f2924a1cbd0>"
      ]
     },
     "execution_count": 90,
     "metadata": {},
     "output_type": "execute_result"
    }
   ],
   "source": [
    "plot_parametric(x_opt[0], x_opt[1], (t, t0, t1))"
   ]
  },
  {
   "cell_type": "code",
   "execution_count": null,
   "metadata": {},
   "outputs": [],
   "source": []
  }
 ],
 "metadata": {
  "kernelspec": {
   "display_name": "Python 3",
   "language": "python",
   "name": "python3"
  },
  "language_info": {
   "codemirror_mode": {
    "name": "ipython",
    "version": 3
   },
   "file_extension": ".py",
   "mimetype": "text/x-python",
   "name": "python",
   "nbconvert_exporter": "python",
   "pygments_lexer": "ipython3",
   "version": "3.7.4"
  }
 },
 "nbformat": 4,
 "nbformat_minor": 2
}
