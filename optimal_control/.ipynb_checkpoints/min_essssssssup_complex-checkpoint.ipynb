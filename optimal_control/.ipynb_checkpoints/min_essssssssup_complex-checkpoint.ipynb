{
 "cells": [
  {
   "cell_type": "code",
   "execution_count": 62,
   "metadata": {},
   "outputs": [],
   "source": [
    "from sympy import *\n",
    "from sympy.plotting import plot_parametric"
   ]
  },
  {
   "cell_type": "code",
   "execution_count": 63,
   "metadata": {},
   "outputs": [
    {
     "data": {
      "text/latex": [
       "$\\displaystyle \\left[\\begin{matrix}-1 & -5\\\\10 & 1\\end{matrix}\\right]$"
      ],
      "text/plain": [
       "Matrix([\n",
       "[-1, -5],\n",
       "[10,  1]])"
      ]
     },
     "execution_count": 63,
     "metadata": {},
     "output_type": "execute_result"
    }
   ],
   "source": [
    "A = Matrix([[-1, -5],\n",
    "            [10, 1]])\n",
    "A"
   ]
  },
  {
   "cell_type": "code",
   "execution_count": 64,
   "metadata": {},
   "outputs": [
    {
     "data": {
      "text/latex": [
       "$\\displaystyle \\left[\\begin{matrix}0\\\\3\\end{matrix}\\right]$"
      ],
      "text/plain": [
       "Matrix([\n",
       "[0],\n",
       "[3]])"
      ]
     },
     "execution_count": 64,
     "metadata": {},
     "output_type": "execute_result"
    }
   ],
   "source": [
    "B = Matrix([[0],\n",
    "            [3]])\n",
    "B"
   ]
  },
  {
   "cell_type": "code",
   "execution_count": 65,
   "metadata": {},
   "outputs": [
    {
     "data": {
      "text/latex": [
       "$\\displaystyle \\left[\\begin{matrix}2\\\\0\\end{matrix}\\right]$"
      ],
      "text/plain": [
       "Matrix([\n",
       "[2],\n",
       "[0]])"
      ]
     },
     "execution_count": 65,
     "metadata": {},
     "output_type": "execute_result"
    }
   ],
   "source": [
    "x0 = Matrix([[2],\n",
    "             [0]])\n",
    "x0"
   ]
  },
  {
   "cell_type": "code",
   "execution_count": 66,
   "metadata": {},
   "outputs": [
    {
     "data": {
      "text/latex": [
       "$\\displaystyle \\left[\\begin{matrix}-1\\\\3\\end{matrix}\\right]$"
      ],
      "text/plain": [
       "Matrix([\n",
       "[-1],\n",
       "[ 3]])"
      ]
     },
     "execution_count": 66,
     "metadata": {},
     "output_type": "execute_result"
    }
   ],
   "source": [
    "x1 = Matrix([[-1],\n",
    "             [3]])\n",
    "x1"
   ]
  },
  {
   "cell_type": "code",
   "execution_count": 67,
   "metadata": {},
   "outputs": [
    {
     "data": {
      "text/latex": [
       "$\\displaystyle \\frac{4 \\pi}{7}$"
      ],
      "text/plain": [
       "4*pi/7"
      ]
     },
     "execution_count": 67,
     "metadata": {},
     "output_type": "execute_result"
    }
   ],
   "source": [
    "t0 = 0\n",
    "t1 = 4 * S.Pi / 7\n",
    "t1"
   ]
  },
  {
   "cell_type": "code",
   "execution_count": 68,
   "metadata": {},
   "outputs": [],
   "source": [
    "t, tau, taus = symbols('t tau tau_s', real=True)"
   ]
  },
  {
   "cell_type": "code",
   "execution_count": 69,
   "metadata": {},
   "outputs": [
    {
     "name": "stdout",
     "output_type": "stream",
     "text": [
      "⎡⎛         ⎡⎡-1 - 7⋅ⅈ⎤⎤⎞  ⎛        ⎡⎡-1 + 7⋅ⅈ⎤⎤⎞⎤\n",
      "⎢⎜         ⎢⎢────────⎥⎥⎟  ⎜        ⎢⎢────────⎥⎥⎟⎥\n",
      "⎢⎜-7⋅ⅈ, 1, ⎢⎢   10   ⎥⎥⎟, ⎜7⋅ⅈ, 1, ⎢⎢   10   ⎥⎥⎟⎥\n",
      "⎢⎜         ⎢⎢        ⎥⎥⎟  ⎜        ⎢⎢        ⎥⎥⎟⎥\n",
      "⎣⎝         ⎣⎣   1    ⎦⎦⎠  ⎝        ⎣⎣   1    ⎦⎦⎠⎦\n"
     ]
    }
   ],
   "source": [
    "eigs = A.eigenvects()\n",
    "pprint(eigs)"
   ]
  },
  {
   "cell_type": "code",
   "execution_count": 70,
   "metadata": {},
   "outputs": [
    {
     "name": "stdout",
     "output_type": "stream",
     "text": [
      "⎛⎡-1/10⎤  ⎡-7/10⎤⎞\n",
      "⎜⎢     ⎥, ⎢     ⎥⎟\n",
      "⎝⎣  1  ⎦  ⎣  0  ⎦⎠\n"
     ]
    }
   ],
   "source": [
    "pprint(eigs[0][2][0].as_real_imag())"
   ]
  },
  {
   "cell_type": "code",
   "execution_count": 71,
   "metadata": {},
   "outputs": [
    {
     "data": {
      "text/latex": [
       "$\\displaystyle \\left[\\begin{matrix}- \\frac{7 \\sin{\\left(7 t \\right)}}{10} - \\frac{\\cos{\\left(7 t \\right)}}{10} & \\frac{\\sin{\\left(7 t \\right)}}{10} - \\frac{7 \\cos{\\left(7 t \\right)}}{10}\\\\\\cos{\\left(7 t \\right)} & - \\sin{\\left(7 t \\right)}\\end{matrix}\\right]$"
      ],
      "text/plain": [
       "Matrix([\n",
       "[-7*sin(7*t)/10 - cos(7*t)/10, sin(7*t)/10 - 7*cos(7*t)/10],\n",
       "[                    cos(7*t),                   -sin(7*t)]])"
      ]
     },
     "execution_count": 71,
     "metadata": {},
     "output_type": "execute_result"
    }
   ],
   "source": [
    "u, v = (eigs[0][2][0] * exp(eigs[0][0] * t)).as_real_imag()\n",
    "Phi = u.col_insert(1, v)\n",
    "Phi"
   ]
  },
  {
   "cell_type": "code",
   "execution_count": 72,
   "metadata": {},
   "outputs": [
    {
     "data": {
      "text/latex": [
       "$\\displaystyle \\left[\\begin{matrix}- \\frac{\\sin{\\left(7 t \\right)}}{7} + \\cos{\\left(7 t \\right)} & - \\frac{5 \\sin{\\left(7 t \\right)}}{7}\\\\\\frac{10 \\sin{\\left(7 t \\right)}}{7} & \\frac{\\sin{\\left(7 t \\right)}}{7} + \\cos{\\left(7 t \\right)}\\end{matrix}\\right]$"
      ],
      "text/plain": [
       "Matrix([\n",
       "[-sin(7*t)/7 + cos(7*t),         -5*sin(7*t)/7],\n",
       "[         10*sin(7*t)/7, sin(7*t)/7 + cos(7*t)]])"
      ]
     },
     "execution_count": 72,
     "metadata": {},
     "output_type": "execute_result"
    }
   ],
   "source": [
    "expA = Phi @ Phi.subs(t, 0).inv()\n",
    "expA"
   ]
  },
  {
   "cell_type": "code",
   "execution_count": 73,
   "metadata": {},
   "outputs": [
    {
     "data": {
      "text/latex": [
       "$\\displaystyle \\left[\\begin{matrix}\\frac{15 \\sin{\\left(7 \\tau \\right)}}{7}\\\\- \\frac{3 \\sin{\\left(7 \\tau \\right)}}{7} + 3 \\cos{\\left(7 \\tau \\right)}\\end{matrix}\\right]$"
      ],
      "text/plain": [
       "Matrix([\n",
       "[               15*sin(7*tau)/7],\n",
       "[-3*sin(7*tau)/7 + 3*cos(7*tau)]])"
      ]
     },
     "execution_count": 73,
     "metadata": {},
     "output_type": "execute_result"
    }
   ],
   "source": [
    "H = expA.subs(t, t1 - tau) @ B\n",
    "H"
   ]
  },
  {
   "cell_type": "code",
   "execution_count": 74,
   "metadata": {},
   "outputs": [
    {
     "data": {
      "text/latex": [
       "$\\displaystyle \\left[\\begin{matrix}l_{1}\\\\l_{2}\\end{matrix}\\right]$"
      ],
      "text/plain": [
       "Matrix([\n",
       "[l1],\n",
       "[l2]])"
      ]
     },
     "execution_count": 74,
     "metadata": {},
     "output_type": "execute_result"
    }
   ],
   "source": [
    "l1, l2 = symbols('l1 l2', real=True)\n",
    "l = Matrix([[l1],\n",
    "            [l2]])\n",
    "l"
   ]
  },
  {
   "cell_type": "code",
   "execution_count": 75,
   "metadata": {},
   "outputs": [
    {
     "data": {
      "text/latex": [
       "$\\displaystyle \\int\\limits_{0}^{\\frac{4 \\pi}{7}} \\begin{cases} \\frac{15 l_{1} \\sin{\\left(7 \\tau \\right)}}{7} + l_{2} \\left(- \\frac{3 \\sin{\\left(7 \\tau \\right)}}{7} + 3 \\cos{\\left(7 \\tau \\right)}\\right) & \\text{for}\\: \\frac{15 l_{1} \\sin{\\left(7 \\tau \\right)}}{7} + l_{2} \\left(- \\frac{3 \\sin{\\left(7 \\tau \\right)}}{7} + 3 \\cos{\\left(7 \\tau \\right)}\\right) \\geq 0 \\\\- \\frac{15 l_{1} \\sin{\\left(7 \\tau \\right)}}{7} - l_{2} \\left(- \\frac{3 \\sin{\\left(7 \\tau \\right)}}{7} + 3 \\cos{\\left(7 \\tau \\right)}\\right) & \\text{otherwise} \\end{cases}\\, d\\tau$"
      ],
      "text/plain": [
       "Integral(Piecewise((15*l1*sin(7*tau)/7 + l2*(-3*sin(7*tau)/7 + 3*cos(7*tau)), 15*l1*sin(7*tau)/7 + l2*(-3*sin(7*tau)/7 + 3*cos(7*tau)) >= 0), (-15*l1*sin(7*tau)/7 - l2*(-3*sin(7*tau)/7 + 3*cos(7*tau)), True)), (tau, 0, 4*pi/7))"
      ]
     },
     "execution_count": 75,
     "metadata": {},
     "output_type": "execute_result"
    }
   ],
   "source": [
    "normHl = integrate(abs(H.dot(l)), (tau, t0, t1))\n",
    "normHl"
   ]
  },
  {
   "cell_type": "code",
   "execution_count": 76,
   "metadata": {},
   "outputs": [
    {
     "data": {
      "text/latex": [
       "$\\displaystyle \\frac{15 l_{1}}{7} - \\frac{3 l_{2}}{7}$"
      ],
      "text/plain": [
       "15*l1/7 - 3*l2/7"
      ]
     },
     "execution_count": 76,
     "metadata": {},
     "output_type": "execute_result"
    }
   ],
   "source": [
    "a = (15 * l1 - 3 * l2) / 7\n",
    "a"
   ]
  },
  {
   "cell_type": "code",
   "execution_count": 77,
   "metadata": {},
   "outputs": [
    {
     "data": {
      "text/latex": [
       "$\\displaystyle 3 l_{2}$"
      ],
      "text/plain": [
       "3*l2"
      ]
     },
     "execution_count": 77,
     "metadata": {},
     "output_type": "execute_result"
    }
   ],
   "source": [
    "b = 3 * l2\n",
    "b"
   ]
  },
  {
   "cell_type": "code",
   "execution_count": 78,
   "metadata": {},
   "outputs": [
    {
     "data": {
      "text/latex": [
       "$\\displaystyle \\frac{3 \\sqrt{49 l_{2}^{2} + \\left(5 l_{1} - l_{2}\\right)^{2}}}{7}$"
      ],
      "text/plain": [
       "3*sqrt(49*l2**2 + (5*l1 - l2)**2)/7"
      ]
     },
     "execution_count": 78,
     "metadata": {},
     "output_type": "execute_result"
    }
   ],
   "source": [
    "coeff = simplify(sqrt(a**2 + b**2))\n",
    "coeff"
   ]
  },
  {
   "cell_type": "markdown",
   "metadata": {},
   "source": [
    "__!!! Achtung !!! Bug (correct is 8). Keep sympy updated !!!__"
   ]
  },
  {
   "cell_type": "code",
   "execution_count": 79,
   "metadata": {},
   "outputs": [
    {
     "data": {
      "text/latex": [
       "$\\displaystyle 4$"
      ],
      "text/plain": [
       "4"
      ]
     },
     "execution_count": 79,
     "metadata": {},
     "output_type": "execute_result"
    }
   ],
   "source": [
    "tmp = integrate(abs(sin(tau)), (tau, 0, 4*S.Pi))\n",
    "tmp"
   ]
  },
  {
   "cell_type": "code",
   "execution_count": 80,
   "metadata": {},
   "outputs": [
    {
     "data": {
      "text/latex": [
       "$\\displaystyle \\frac{24 \\sqrt{49 l_{2}^{2} + \\left(5 l_{1} - l_{2}\\right)^{2}}}{7}$"
      ],
      "text/plain": [
       "24*sqrt(49*l2**2 + (5*l1 - l2)**2)/7"
      ]
     },
     "execution_count": 80,
     "metadata": {},
     "output_type": "execute_result"
    }
   ],
   "source": [
    "normHl = coeff * 8\n",
    "normHl"
   ]
  },
  {
   "cell_type": "code",
   "execution_count": 81,
   "metadata": {},
   "outputs": [
    {
     "data": {
      "text/latex": [
       "$\\displaystyle \\left[\\begin{matrix}-3\\\\3\\end{matrix}\\right]$"
      ],
      "text/plain": [
       "Matrix([\n",
       "[-3],\n",
       "[ 3]])"
      ]
     },
     "execution_count": 81,
     "metadata": {},
     "output_type": "execute_result"
    }
   ],
   "source": [
    "c = x1 - expA.subs(t, t1 - t0) @ x0\n",
    "c"
   ]
  },
  {
   "cell_type": "markdown",
   "metadata": {},
   "source": [
    "$$ \\left< l, c \\right> = 1 \\Rightarrow l_2 = \\frac{1 + 3l_1}{3} $$"
   ]
  },
  {
   "cell_type": "code",
   "execution_count": 82,
   "metadata": {},
   "outputs": [
    {
     "data": {
      "text/latex": [
       "$\\displaystyle \\frac{37440 l_{1}^{2}}{49} + \\frac{17280 l_{1}}{49} + \\frac{3200}{49}$"
      ],
      "text/plain": [
       "37440*l1**2/49 + 17280*l1/49 + 3200/49"
      ]
     },
     "execution_count": 82,
     "metadata": {},
     "output_type": "execute_result"
    }
   ],
   "source": [
    "L = simplify((normHl ** 2).subs(l2, (1 + 3 * l1) / 3))\n",
    "L"
   ]
  },
  {
   "cell_type": "code",
   "execution_count": 83,
   "metadata": {},
   "outputs": [
    {
     "data": {
      "text/latex": [
       "$\\displaystyle - \\frac{3}{13}$"
      ],
      "text/plain": [
       "-3/13"
      ]
     },
     "execution_count": 83,
     "metadata": {},
     "output_type": "execute_result"
    }
   ],
   "source": [
    "l1_opt = solve(L.diff(l1), l1)[0]\n",
    "l1_opt"
   ]
  },
  {
   "cell_type": "code",
   "execution_count": 84,
   "metadata": {},
   "outputs": [
    {
     "data": {
      "text/latex": [
       "$\\displaystyle \\frac{4}{39}$"
      ],
      "text/plain": [
       "4/39"
      ]
     },
     "execution_count": 84,
     "metadata": {},
     "output_type": "execute_result"
    }
   ],
   "source": [
    "l2_opt = (1 + 3 * l1_opt) / 3\n",
    "l2_opt"
   ]
  },
  {
   "cell_type": "code",
   "execution_count": 85,
   "metadata": {},
   "outputs": [
    {
     "data": {
      "text/latex": [
       "$\\displaystyle \\left[\\begin{matrix}- \\frac{3}{13}\\\\\\frac{4}{39}\\end{matrix}\\right]$"
      ],
      "text/plain": [
       "Matrix([\n",
       "[-3/13],\n",
       "[ 4/39]])"
      ]
     },
     "execution_count": 85,
     "metadata": {},
     "output_type": "execute_result"
    }
   ],
   "source": [
    "l_opt = Matrix([[l1_opt],\n",
    "                [l2_opt]])\n",
    "l_opt"
   ]
  },
  {
   "cell_type": "code",
   "execution_count": 86,
   "metadata": {},
   "outputs": [
    {
     "data": {
      "text/latex": [
       "$\\displaystyle \\frac{\\sqrt{65}}{40}$"
      ],
      "text/plain": [
       "sqrt(65)/40"
      ]
     },
     "execution_count": 86,
     "metadata": {},
     "output_type": "execute_result"
    }
   ],
   "source": [
    "mu_opt = simplify(1 / normHl.subs({l1: l1_opt, l2:l2_opt}))\n",
    "mu_opt"
   ]
  },
  {
   "cell_type": "code",
   "execution_count": 87,
   "metadata": {},
   "outputs": [
    {
     "data": {
      "text/latex": [
       "$\\displaystyle \\frac{\\sqrt{65} \\operatorname{sign}{\\left(\\left[\\begin{matrix}- \\frac{7 \\sin{\\left(7 \\tau \\right)}}{13} + \\frac{4 \\cos{\\left(7 \\tau \\right)}}{13}\\end{matrix}\\right] \\right)}}{40}$"
      ],
      "text/plain": [
       "sqrt(65)*sign(Matrix([[-7*sin(7*tau)/13 + 4*cos(7*tau)/13]]))/40"
      ]
     },
     "execution_count": 87,
     "metadata": {},
     "output_type": "execute_result"
    }
   ],
   "source": [
    "u_opt = mu_opt * sign(H.T @ l_opt)\n",
    "u_opt"
   ]
  },
  {
   "cell_type": "code",
   "execution_count": 88,
   "metadata": {},
   "outputs": [
    {
     "data": {
      "text/latex": [
       "$\\displaystyle \\frac{\\sqrt{65}}{13}$"
      ],
      "text/plain": [
       "sqrt(65)/13"
      ]
     },
     "execution_count": 88,
     "metadata": {},
     "output_type": "execute_result"
    }
   ],
   "source": [
    "a = -Rational(7, 13)\n",
    "b = Rational(4, 13)\n",
    "coeff = sqrt(a**2 + b**2)\n",
    "coeff"
   ]
  },
  {
   "cell_type": "code",
   "execution_count": 89,
   "metadata": {},
   "outputs": [
    {
     "data": {
      "text/latex": [
       "$\\displaystyle - \\operatorname{atan}{\\left(\\frac{4}{7} \\right)}$"
      ],
      "text/plain": [
       "-atan(4/7)"
      ]
     },
     "execution_count": 89,
     "metadata": {},
     "output_type": "execute_result"
    }
   ],
   "source": [
    "psi = atan(b / a)\n",
    "psi"
   ]
  },
  {
   "cell_type": "code",
   "execution_count": 90,
   "metadata": {},
   "outputs": [
    {
     "data": {
      "text/latex": [
       "$\\displaystyle \\frac{\\operatorname{sign}{\\left(\\sin{\\left(7 \\tau - \\operatorname{atan}{\\left(\\frac{4}{7} \\right)} \\right)} \\right)}}{8}$"
      ],
      "text/plain": [
       "sign(sin(7*tau - atan(4/7)))/8"
      ]
     },
     "execution_count": 90,
     "metadata": {},
     "output_type": "execute_result"
    }
   ],
   "source": [
    "u_opt = 65 * sign(sin(7* tau + psi)) / 520\n",
    "u_opt"
   ]
  },
  {
   "cell_type": "code",
   "execution_count": 91,
   "metadata": {},
   "outputs": [
    {
     "data": {
      "text/latex": [
       "$\\displaystyle -0.165249340538568$"
      ],
      "text/plain": [
       "-0.165249340538568"
      ]
     },
     "execution_count": 91,
     "metadata": {},
     "output_type": "execute_result"
    }
   ],
   "source": [
    "(psi / S.Pi).evalf()"
   ]
  }
 ],
 "metadata": {
  "kernelspec": {
   "display_name": "Python 3",
   "language": "python",
   "name": "python3"
  },
  "language_info": {
   "codemirror_mode": {
    "name": "ipython",
    "version": 3
   },
   "file_extension": ".py",
   "mimetype": "text/x-python",
   "name": "python",
   "nbconvert_exporter": "python",
   "pygments_lexer": "ipython3",
   "version": "3.7.3"
  }
 },
 "nbformat": 4,
 "nbformat_minor": 2
}
