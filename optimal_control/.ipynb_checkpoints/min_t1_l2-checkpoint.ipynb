{
 "cells": [
  {
   "cell_type": "code",
   "execution_count": 1,
   "metadata": {},
   "outputs": [],
   "source": [
    "from sympy import *\n",
    "from sympy.plotting import plot_parametric"
   ]
  },
  {
   "cell_type": "code",
   "execution_count": 2,
   "metadata": {},
   "outputs": [
    {
     "data": {
      "text/latex": [
       "$\\displaystyle \\left[\\begin{matrix}-12 & 8\\\\-18 & 12\\end{matrix}\\right]$"
      ],
      "text/plain": [
       "Matrix([\n",
       "[-12,  8],\n",
       "[-18, 12]])"
      ]
     },
     "execution_count": 2,
     "metadata": {},
     "output_type": "execute_result"
    }
   ],
   "source": [
    "A = Matrix([[-12, 8],\n",
    "            [-18, 12]])\n",
    "A"
   ]
  },
  {
   "cell_type": "code",
   "execution_count": 3,
   "metadata": {},
   "outputs": [
    {
     "data": {
      "text/latex": [
       "$\\displaystyle \\left[\\begin{matrix}-5\\\\-3\\end{matrix}\\right]$"
      ],
      "text/plain": [
       "Matrix([\n",
       "[-5],\n",
       "[-3]])"
      ]
     },
     "execution_count": 3,
     "metadata": {},
     "output_type": "execute_result"
    }
   ],
   "source": [
    "B = Matrix([[-5],\n",
    "            [-3]])\n",
    "B"
   ]
  },
  {
   "cell_type": "code",
   "execution_count": 6,
   "metadata": {},
   "outputs": [
    {
     "data": {
      "text/latex": [
       "$\\displaystyle \\left[\\begin{matrix}-7\\\\-9\\end{matrix}\\right]$"
      ],
      "text/plain": [
       "Matrix([\n",
       "[-7],\n",
       "[-9]])"
      ]
     },
     "execution_count": 6,
     "metadata": {},
     "output_type": "execute_result"
    }
   ],
   "source": [
    "x0 = Matrix([[-7],\n",
    "             [-9]])\n",
    "x0"
   ]
  },
  {
   "cell_type": "code",
   "execution_count": 5,
   "metadata": {},
   "outputs": [
    {
     "data": {
      "text/latex": [
       "$\\displaystyle \\left[\\begin{matrix}0\\\\0\\end{matrix}\\right]$"
      ],
      "text/plain": [
       "Matrix([\n",
       "[0],\n",
       "[0]])"
      ]
     },
     "execution_count": 5,
     "metadata": {},
     "output_type": "execute_result"
    }
   ],
   "source": [
    "x1 = zeros(2, 1)\n",
    "x1"
   ]
  },
  {
   "cell_type": "code",
   "execution_count": 7,
   "metadata": {},
   "outputs": [
    {
     "name": "stdout",
     "output_type": "stream",
     "text": [
      "⎡⎛      ⎡⎡2/3⎤⎤⎞⎤\n",
      "⎢⎜0, 2, ⎢⎢   ⎥⎥⎟⎥\n",
      "⎣⎝      ⎣⎣ 1 ⎦⎦⎠⎦\n"
     ]
    }
   ],
   "source": [
    "eigs = A.eigenvects()\n",
    "pprint(eigs)"
   ]
  },
  {
   "cell_type": "code",
   "execution_count": 8,
   "metadata": {},
   "outputs": [],
   "source": [
    "t = symbols('t', real=True)"
   ]
  },
  {
   "cell_type": "code",
   "execution_count": 20,
   "metadata": {},
   "outputs": [
    {
     "data": {
      "text/latex": [
       "$\\displaystyle \\left[\\begin{matrix}2 & 2 t\\\\3 & 3 t + 0.25\\end{matrix}\\right]$"
      ],
      "text/plain": [
       "Matrix([\n",
       "[2,        2*t],\n",
       "[3, 3*t + 0.25]])"
      ]
     },
     "execution_count": 20,
     "metadata": {},
     "output_type": "execute_result"
    }
   ],
   "source": [
    "Phi = Matrix([[2, 2 * t],\n",
    "              [3, 3 * t + 1/4]])\n",
    "Phi"
   ]
  },
  {
   "cell_type": "code",
   "execution_count": 21,
   "metadata": {},
   "outputs": [
    {
     "data": {
      "text/latex": [
       "$\\displaystyle \\left[\\begin{matrix}1 - 12.0 t & 8.0 t\\\\- 18.0 t & 12.0 t + 1.0\\end{matrix}\\right]$"
      ],
      "text/plain": [
       "Matrix([\n",
       "[1 - 12.0*t,        8.0*t],\n",
       "[   -18.0*t, 12.0*t + 1.0]])"
      ]
     },
     "execution_count": 21,
     "metadata": {},
     "output_type": "execute_result"
    }
   ],
   "source": [
    "expA = Phi @ Phi.subs({t: 0}).inv()\n",
    "expA"
   ]
  },
  {
   "cell_type": "code",
   "execution_count": 87,
   "metadata": {},
   "outputs": [
    {
     "data": {
      "text/latex": [
       "$\\displaystyle \\left[\\begin{matrix}1 - 12 t & 8 t\\\\- 18 t & 12 t + 1\\end{matrix}\\right]$"
      ],
      "text/plain": [
       "Matrix([\n",
       "[1 - 12*t,      8*t],\n",
       "[   -18*t, 12*t + 1]])"
      ]
     },
     "execution_count": 87,
     "metadata": {},
     "output_type": "execute_result"
    }
   ],
   "source": [
    "expA = Matrix([[1 - 12*t, 8*t],\n",
    "               [-18 * t, 12*t + 1]])\n",
    "expA"
   ]
  },
  {
   "cell_type": "code",
   "execution_count": 88,
   "metadata": {},
   "outputs": [
    {
     "data": {
      "text/latex": [
       "$\\displaystyle \\left[\\begin{matrix}l_{1}\\\\l_{2}\\end{matrix}\\right]$"
      ],
      "text/plain": [
       "Matrix([\n",
       "[l1],\n",
       "[l2]])"
      ]
     },
     "execution_count": 88,
     "metadata": {},
     "output_type": "execute_result"
    }
   ],
   "source": [
    "l1, l2 = symbols('l1 l2', real=True)\n",
    "l = Matrix([[l1],\n",
    "            [l2]])\n",
    "l"
   ]
  },
  {
   "cell_type": "code",
   "execution_count": 89,
   "metadata": {},
   "outputs": [],
   "source": [
    "tau, t1 = symbols('tau t1', real=True)\n",
    "t0 = 0"
   ]
  },
  {
   "cell_type": "code",
   "execution_count": 90,
   "metadata": {},
   "outputs": [
    {
     "data": {
      "text/latex": [
       "$\\displaystyle \\left[\\begin{matrix}36 \\tau + 5\\\\54 \\tau + 3\\end{matrix}\\right]$"
      ],
      "text/plain": [
       "Matrix([\n",
       "[36*tau + 5],\n",
       "[54*tau + 3]])"
      ]
     },
     "execution_count": 90,
     "metadata": {},
     "output_type": "execute_result"
    }
   ],
   "source": [
    "H = -expA.subs({t: - tau}) @ B\n",
    "H"
   ]
  },
  {
   "cell_type": "code",
   "execution_count": 91,
   "metadata": {},
   "outputs": [
    {
     "data": {
      "text/latex": [
       "$\\displaystyle \\left[\\begin{matrix}t_{1} \\left(432 t_{1}^{2} + 180 t_{1} + 25\\right) & 3 t_{1} \\left(216 t_{1}^{2} + 63 t_{1} + 5\\right)\\\\3 t_{1} \\left(216 t_{1}^{2} + 63 t_{1} + 5\\right) & 9 t_{1} \\left(108 t_{1}^{2} + 18 t_{1} + 1\\right)\\end{matrix}\\right]$"
      ],
      "text/plain": [
       "Matrix([\n",
       "[t1*(432*t1**2 + 180*t1 + 25), 3*t1*(216*t1**2 + 63*t1 + 5)],\n",
       "[3*t1*(216*t1**2 + 63*t1 + 5), 9*t1*(108*t1**2 + 18*t1 + 1)]])"
      ]
     },
     "execution_count": 91,
     "metadata": {},
     "output_type": "execute_result"
    }
   ],
   "source": [
    "Q = simplify(integrate(H @ H.T, (tau, t0, t1)))\n",
    "Q"
   ]
  },
  {
   "cell_type": "code",
   "execution_count": 92,
   "metadata": {},
   "outputs": [
    {
     "data": {
      "text/latex": [
       "$\\displaystyle - 7 l_{1} - 9 l_{2} - 1$"
      ],
      "text/plain": [
       "-7*l1 - 9*l2 - 1"
      ]
     },
     "execution_count": 92,
     "metadata": {},
     "output_type": "execute_result"
    }
   ],
   "source": [
    "constr = l.dot(x0) - 1\n",
    "constr"
   ]
  },
  {
   "cell_type": "code",
   "execution_count": 93,
   "metadata": {},
   "outputs": [],
   "source": [
    "lam = symbols('lambda', real=True)"
   ]
  },
  {
   "cell_type": "code",
   "execution_count": 94,
   "metadata": {},
   "outputs": [
    {
     "data": {
      "text/latex": [
       "$\\displaystyle l_{1} t_{1} \\left(l_{1} \\left(432 t_{1}^{2} + 180 t_{1} + 25\\right) + 3 l_{2} \\left(216 t_{1}^{2} + 63 t_{1} + 5\\right)\\right) + 3 l_{2} t_{1} \\left(l_{1} \\left(216 t_{1}^{2} + 63 t_{1} + 5\\right) + 3 l_{2} \\left(108 t_{1}^{2} + 18 t_{1} + 1\\right)\\right) - \\lambda \\left(7 l_{1} + 9 l_{2} + 1\\right)$"
      ],
      "text/plain": [
       "l1*t1*(l1*(432*t1**2 + 180*t1 + 25) + 3*l2*(216*t1**2 + 63*t1 + 5)) + 3*l2*t1*(l1*(216*t1**2 + 63*t1 + 5) + 3*l2*(108*t1**2 + 18*t1 + 1)) - lambda*(7*l1 + 9*l2 + 1)"
      ]
     },
     "execution_count": 94,
     "metadata": {},
     "output_type": "execute_result"
    }
   ],
   "source": [
    "L = simplify(l.dot(Q @ l) + lam * constr)\n",
    "L"
   ]
  },
  {
   "cell_type": "code",
   "execution_count": 98,
   "metadata": {},
   "outputs": [
    {
     "data": {
      "text/latex": [
       "$\\displaystyle \\lambda \\left(- 7 l_{1} - 9 l_{2} - 1\\right) + 108 t_{1}^{3} \\left(2 l_{1} + 3 l_{2}\\right)^{2} + t_{1}^{2} \\left(5 l_{1} + 3 l_{2}\\right) \\left(36 l_{1} + 54 l_{2}\\right) + t_{1} \\left(5 l_{1} + 3 l_{2}\\right)^{2}$"
      ],
      "text/plain": [
       "lambda*(-7*l1 - 9*l2 - 1) + 108*t1**3*(2*l1 + 3*l2)**2 + t1**2*(5*l1 + 3*l2)*(36*l1 + 54*l2) + t1*(5*l1 + 3*l2)**2"
      ]
     },
     "execution_count": 98,
     "metadata": {},
     "output_type": "execute_result"
    }
   ],
   "source": [
    "L_kate = t1 * (5*l1 + 3*l2)**2 + 108 * t1 ** 3 * (2*l1 + 3*l2)**2 + t1**2 * (5*l1 + 3*l2) * (36*l1+54*l2) + lam * constr\n",
    "L_kate"
   ]
  },
  {
   "cell_type": "code",
   "execution_count": 106,
   "metadata": {},
   "outputs": [
    {
     "name": "stdout",
     "output_type": "stream",
     "text": [
      "⎧             2                           2                                3  \n",
      "⎪     - 108⋅t₁  + 63⋅t₁ + 8         216⋅t₁  - 99⋅t₁ - 40            -243⋅t₁   \n",
      "⎨l₁: ───────────────────────, l₂: ────────────────────────, λ: ───────────────\n",
      "⎪      ⎛     2             ⎞         ⎛     2             ⎞          2         \n",
      "⎩    4⋅⎝27⋅t₁  - 36⋅t₁ + 16⎠      12⋅⎝27⋅t₁  - 36⋅t₁ + 16⎠     54⋅t₁  - 72⋅t₁ \n",
      "\n",
      "    ⎫\n",
      "    ⎪\n",
      "────⎬\n",
      "    ⎪\n",
      "+ 32⎭\n"
     ]
    }
   ],
   "source": [
    "sol = solve([L.diff(l1), L.diff(l2), L.diff(lam)], (l1, l2, lam))\n",
    "pprint(simplify(sol))"
   ]
  },
  {
   "cell_type": "code",
   "execution_count": 107,
   "metadata": {},
   "outputs": [
    {
     "data": {
      "text/latex": [
       "$\\displaystyle \\left[\\begin{matrix}\\frac{- 108 t_{1}^{2} + 63 t_{1} + 8}{4 \\left(27 t_{1}^{2} - 36 t_{1} + 16\\right)}\\\\\\frac{216 t_{1}^{2} - 99 t_{1} - 40}{12 \\left(27 t_{1}^{2} - 36 t_{1} + 16\\right)}\\end{matrix}\\right]$"
      ],
      "text/plain": [
       "Matrix([\n",
       "[ (-108*t1**2 + 63*t1 + 8)/(4*(27*t1**2 - 36*t1 + 16))],\n",
       "[(216*t1**2 - 99*t1 - 40)/(12*(27*t1**2 - 36*t1 + 16))]])"
      ]
     },
     "execution_count": 107,
     "metadata": {},
     "output_type": "execute_result"
    }
   ],
   "source": [
    "l1_opt, l2_opt = sol[l1], sol[l2]\n",
    "l_opt = Matrix([[l1_opt],\n",
    "                [l2_opt]])\n",
    "l_opt"
   ]
  },
  {
   "cell_type": "code",
   "execution_count": 108,
   "metadata": {},
   "outputs": [
    {
     "data": {
      "text/latex": [
       "$\\displaystyle \\frac{243 t_{1}^{3}}{4 \\left(27 t_{1}^{2} - 36 t_{1} + 16\\right)}$"
      ],
      "text/plain": [
       "243*t1**3/(4*(27*t1**2 - 36*t1 + 16))"
      ]
     },
     "execution_count": 108,
     "metadata": {},
     "output_type": "execute_result"
    }
   ],
   "source": [
    "t1_cond = simplify(l.dot(Q @ l).subs({l1: l1_opt, l2:l2_opt}))\n",
    "t1_cond"
   ]
  },
  {
   "cell_type": "code",
   "execution_count": 109,
   "metadata": {},
   "outputs": [
    {
     "data": {
      "text/plain": [
       "[4/9]"
      ]
     },
     "execution_count": 109,
     "metadata": {},
     "output_type": "execute_result"
    }
   ],
   "source": [
    "sol = solve(t1_cond - 1, t1)\n",
    "sol"
   ]
  },
  {
   "cell_type": "code",
   "execution_count": 110,
   "metadata": {},
   "outputs": [
    {
     "data": {
      "text/latex": [
       "$\\displaystyle \\frac{4}{9}$"
      ],
      "text/plain": [
       "4/9"
      ]
     },
     "execution_count": 110,
     "metadata": {},
     "output_type": "execute_result"
    }
   ],
   "source": [
    "t1_opt = sol[0]\n",
    "t1_opt"
   ]
  },
  {
   "cell_type": "code",
   "execution_count": 113,
   "metadata": {},
   "outputs": [
    {
     "data": {
      "text/latex": [
       "$\\displaystyle \\left[\\begin{matrix}\\frac{3}{2} - \\frac{81 \\tau}{8}\\end{matrix}\\right]$"
      ],
      "text/plain": [
       "Matrix([[3/2 - 81*tau/8]])"
      ]
     },
     "execution_count": 113,
     "metadata": {},
     "output_type": "execute_result"
    }
   ],
   "source": [
    "u = (H.T @ l_opt / sqrt(l_opt.dot(Q @ l_opt))).subs(t1, t1_opt)\n",
    "u"
   ]
  },
  {
   "cell_type": "code",
   "execution_count": 117,
   "metadata": {},
   "outputs": [
    {
     "data": {
      "text/latex": [
       "$\\displaystyle \\left[\\begin{matrix}0\\\\0\\end{matrix}\\right]$"
      ],
      "text/plain": [
       "Matrix([\n",
       "[0],\n",
       "[0]])"
      ]
     },
     "execution_count": 117,
     "metadata": {},
     "output_type": "execute_result"
    }
   ],
   "source": [
    "expA.subs(t, t1_opt - t0) @ x0 + integrate(expA.subs(t, t1_opt - tau) @ B @ u, (tau, t0, t1_opt))"
   ]
  },
  {
   "cell_type": "code",
   "execution_count": null,
   "metadata": {},
   "outputs": [],
   "source": []
  }
 ],
 "metadata": {
  "kernelspec": {
   "display_name": "Python 3",
   "language": "python",
   "name": "python3"
  },
  "language_info": {
   "codemirror_mode": {
    "name": "ipython",
    "version": 3
   },
   "file_extension": ".py",
   "mimetype": "text/x-python",
   "name": "python",
   "nbconvert_exporter": "python",
   "pygments_lexer": "ipython3",
   "version": "3.7.4"
  }
 },
 "nbformat": 4,
 "nbformat_minor": 2
}
