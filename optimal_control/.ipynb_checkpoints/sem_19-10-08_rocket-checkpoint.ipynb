{
 "cells": [
  {
   "cell_type": "code",
   "execution_count": 2,
   "metadata": {},
   "outputs": [],
   "source": [
    "from sympy import *"
   ]
  },
  {
   "cell_type": "markdown",
   "metadata": {},
   "source": [
    "$$\n",
    "A = \n",
    "\\begin{array}{cc}\n",
    "0 & 1 & 0 & 0\\\\\n",
    "0 & 0 & 0 & 0\\\\\n",
    "\\end{array}\n",
    "$$"
   ]
  },
  {
   "cell_type": "code",
   "execution_count": 42,
   "metadata": {},
   "outputs": [],
   "source": [
    "t, t0, tau = symbols('t t0 tau', real=True, nonnegative=True)\n",
    "g = symbols('g', real=True, nonnegative=True)\n",
    "A = Matrix([[0, 1, 0, 0], [0, 0, 0, 0], [0, 0, 0, 1], [0, 0, 0, 0]])\n",
    "B = Matrix([[0, 0], [1, 0], [0, 0], [0, 1]])\n",
    "f = Matrix([[0], [0], [0], [-g]])\n",
    "x0 = Matrix([[-1], [0], [0], [0]])\n",
    "u1 = Function('u1', real=True)(t)\n",
    "u2 = Function('u2', real=True)(t)\n",
    "# u1, u2 = symbols('u1, u2', real=True)\n",
    "u = Matrix([[u1], [u2]])"
   ]
  },
  {
   "cell_type": "code",
   "execution_count": 43,
   "metadata": {},
   "outputs": [
    {
     "data": {
      "text/latex": [
       "$\\displaystyle \\left[\\begin{matrix}0 & 1 & 0 & 0\\\\0 & 0 & 0 & 0\\\\0 & 0 & 0 & 1\\\\0 & 0 & 0 & 0\\end{matrix}\\right]$"
      ],
      "text/plain": [
       "Matrix([\n",
       "[0, 1, 0, 0],\n",
       "[0, 0, 0, 0],\n",
       "[0, 0, 0, 1],\n",
       "[0, 0, 0, 0]])"
      ]
     },
     "execution_count": 43,
     "metadata": {},
     "output_type": "execute_result"
    }
   ],
   "source": [
    "A"
   ]
  },
  {
   "cell_type": "code",
   "execution_count": 44,
   "metadata": {},
   "outputs": [
    {
     "data": {
      "text/latex": [
       "$\\displaystyle \\left[\\begin{matrix}0 & 0\\\\1 & 0\\\\0 & 0\\\\0 & 1\\end{matrix}\\right]$"
      ],
      "text/plain": [
       "Matrix([\n",
       "[0, 0],\n",
       "[1, 0],\n",
       "[0, 0],\n",
       "[0, 1]])"
      ]
     },
     "execution_count": 44,
     "metadata": {},
     "output_type": "execute_result"
    }
   ],
   "source": [
    "B"
   ]
  },
  {
   "cell_type": "code",
   "execution_count": 45,
   "metadata": {},
   "outputs": [
    {
     "data": {
      "text/latex": [
       "$\\displaystyle \\left[\\begin{matrix}0\\\\0\\\\0\\\\- g\\end{matrix}\\right]$"
      ],
      "text/plain": [
       "Matrix([\n",
       "[ 0],\n",
       "[ 0],\n",
       "[ 0],\n",
       "[-g]])"
      ]
     },
     "execution_count": 45,
     "metadata": {},
     "output_type": "execute_result"
    }
   ],
   "source": [
    "f"
   ]
  },
  {
   "cell_type": "code",
   "execution_count": 46,
   "metadata": {},
   "outputs": [
    {
     "data": {
      "text/latex": [
       "$\\displaystyle \\left[\\begin{matrix}1 & t & 0 & 0\\\\0 & 1 & 0 & 0\\\\0 & 0 & 1 & t\\\\0 & 0 & 0 & 1\\end{matrix}\\right]$"
      ],
      "text/plain": [
       "Matrix([\n",
       "[1, t, 0, 0],\n",
       "[0, 1, 0, 0],\n",
       "[0, 0, 1, t],\n",
       "[0, 0, 0, 1]])"
      ]
     },
     "execution_count": 46,
     "metadata": {},
     "output_type": "execute_result"
    }
   ],
   "source": [
    "ExpA = Matrix([[1, t, 0, 0], [0, 1, 0, 0], [0, 0, 1, t], [0, 0, 0, 1]])\n",
    "ExpA"
   ]
  },
  {
   "cell_type": "code",
   "execution_count": 47,
   "metadata": {},
   "outputs": [
    {
     "data": {
      "text/latex": [
       "$\\displaystyle \\left[\\begin{matrix}-1\\\\0\\\\0\\\\0\\end{matrix}\\right]$"
      ],
      "text/plain": [
       "Matrix([\n",
       "[-1],\n",
       "[ 0],\n",
       "[ 0],\n",
       "[ 0]])"
      ]
     },
     "execution_count": 47,
     "metadata": {},
     "output_type": "execute_result"
    }
   ],
   "source": [
    "x0"
   ]
  },
  {
   "cell_type": "code",
   "execution_count": 48,
   "metadata": {},
   "outputs": [
    {
     "data": {
      "text/latex": [
       "$\\displaystyle \\left[\\begin{matrix}\\operatorname{u_{1}}{\\left(t \\right)}\\\\\\operatorname{u_{2}}{\\left(t \\right)}\\end{matrix}\\right]$"
      ],
      "text/plain": [
       "Matrix([\n",
       "[u1(t)],\n",
       "[u2(t)]])"
      ]
     },
     "execution_count": 48,
     "metadata": {},
     "output_type": "execute_result"
    }
   ],
   "source": [
    "u"
   ]
  },
  {
   "cell_type": "code",
   "execution_count": 49,
   "metadata": {},
   "outputs": [
    {
     "data": {
      "text/latex": [
       "$\\displaystyle \\left[\\begin{matrix}\\frac{t^{2} \\operatorname{u_{1}}{\\left(t \\right)}}{2} - t t_{0} \\operatorname{u_{1}}{\\left(t \\right)} + \\frac{t_{0}^{2} \\operatorname{u_{1}}{\\left(t \\right)}}{2} - 1\\\\t \\operatorname{u_{1}}{\\left(t \\right)} - t_{0} \\operatorname{u_{1}}{\\left(t \\right)}\\\\t^{2} \\left(\\frac{g}{2} - \\frac{\\operatorname{u_{2}}{\\left(t \\right)}}{2}\\right) + t \\left(- g t + t \\operatorname{u_{2}}{\\left(t \\right)}\\right) - t_{0}^{2} \\left(\\frac{g}{2} - \\frac{\\operatorname{u_{2}}{\\left(t \\right)}}{2}\\right) - t_{0} \\left(- g t + t \\operatorname{u_{2}}{\\left(t \\right)}\\right)\\\\t \\left(- g + \\operatorname{u_{2}}{\\left(t \\right)}\\right) - t_{0} \\left(- g + \\operatorname{u_{2}}{\\left(t \\right)}\\right)\\end{matrix}\\right]$"
      ],
      "text/plain": [
       "Matrix([\n",
       "[                                          t**2*u1(t)/2 - t*t0*u1(t) + t0**2*u1(t)/2 - 1],\n",
       "[                                                                     t*u1(t) - t0*u1(t)],\n",
       "[t**2*(g/2 - u2(t)/2) + t*(-g*t + t*u2(t)) - t0**2*(g/2 - u2(t)/2) - t0*(-g*t + t*u2(t))],\n",
       "[                                                       t*(-g + u2(t)) - t0*(-g + u2(t))]])"
      ]
     },
     "execution_count": 49,
     "metadata": {},
     "output_type": "execute_result"
    }
   ],
   "source": [
    "x1_t = ExpA.subs(t, t - t0)*x0 + integrate(ExpA.subs(t, t - tau)*(B * u + f), (tau, t0, t))\n",
    "x1_t"
   ]
  },
  {
   "cell_type": "code",
   "execution_count": 50,
   "metadata": {},
   "outputs": [
    {
     "data": {
      "text/latex": [
       "$\\displaystyle \\left[\\begin{matrix}\\frac{\\operatorname{u_{1}}{\\left(1 \\right)}}{2} - 1\\\\\\operatorname{u_{1}}{\\left(1 \\right)}\\\\- \\frac{g}{2} + \\frac{\\operatorname{u_{2}}{\\left(1 \\right)}}{2}\\\\- g + \\operatorname{u_{2}}{\\left(1 \\right)}\\end{matrix}\\right]$"
      ],
      "text/plain": [
       "Matrix([\n",
       "[   u1(1)/2 - 1],\n",
       "[         u1(1)],\n",
       "[-g/2 + u2(1)/2],\n",
       "[    -g + u2(1)]])"
      ]
     },
     "execution_count": 50,
     "metadata": {},
     "output_type": "execute_result"
    }
   ],
   "source": [
    "x1 = x1_t.subs({t0: 0, t: 1})\n",
    "x1"
   ]
  },
  {
   "cell_type": "code",
   "execution_count": null,
   "metadata": {},
   "outputs": [],
   "source": [
    "ccc = "
   ]
  },
  {
   "cell_type": "code",
   "execution_count": 52,
   "metadata": {},
   "outputs": [
    {
     "data": {
      "text/latex": [
       "$\\displaystyle \\left[\\begin{matrix}1\\\\0\\\\\\frac{g}{2}\\\\g\\end{matrix}\\right]$"
      ],
      "text/plain": [
       "Matrix([\n",
       "[  1],\n",
       "[  0],\n",
       "[g/2],\n",
       "[  g]])"
      ]
     },
     "execution_count": 52,
     "metadata": {},
     "output_type": "execute_result"
    }
   ],
   "source": [
    "c = Matrix([[1], [0], [g/2], [g]])\n",
    "c"
   ]
  },
  {
   "cell_type": "markdown",
   "metadata": {},
   "source": [
    "## Ищем опорную функцию"
   ]
  },
  {
   "cell_type": "code",
   "execution_count": 53,
   "metadata": {},
   "outputs": [
    {
     "data": {
      "text/latex": [
       "$\\displaystyle \\left[\\begin{matrix}l_{1}\\\\l_{2}\\\\l_{3}\\\\l_{4}\\end{matrix}\\right]$"
      ],
      "text/plain": [
       "Matrix([\n",
       "[l1],\n",
       "[l2],\n",
       "[l3],\n",
       "[l4]])"
      ]
     },
     "execution_count": 53,
     "metadata": {},
     "output_type": "execute_result"
    }
   ],
   "source": [
    "l1, l2, l3, l4 = symbols('l1 l2 l3 l4', real=True)\n",
    "l = Matrix([[l1], [l2], [l3], [l4]])\n",
    "l"
   ]
  },
  {
   "cell_type": "code",
   "execution_count": 59,
   "metadata": {},
   "outputs": [
    {
     "data": {
      "text/latex": [
       "$\\displaystyle \\left[\\begin{matrix}t & 0\\\\1 & 0\\\\0 & t\\\\0 & 1\\end{matrix}\\right]$"
      ],
      "text/plain": [
       "Matrix([\n",
       "[t, 0],\n",
       "[1, 0],\n",
       "[0, t],\n",
       "[0, 1]])"
      ]
     },
     "execution_count": 59,
     "metadata": {},
     "output_type": "execute_result"
    }
   ],
   "source": [
    "ExpA * B"
   ]
  },
  {
   "cell_type": "code",
   "execution_count": null,
   "metadata": {},
   "outputs": [],
   "source": []
  }
 ],
 "metadata": {
  "kernelspec": {
   "display_name": "Python 3",
   "language": "python",
   "name": "python3"
  },
  "language_info": {
   "codemirror_mode": {
    "name": "ipython",
    "version": 3
   },
   "file_extension": ".py",
   "mimetype": "text/x-python",
   "name": "python",
   "nbconvert_exporter": "python",
   "pygments_lexer": "ipython3",
   "version": "3.7.4"
  }
 },
 "nbformat": 4,
 "nbformat_minor": 2
}
