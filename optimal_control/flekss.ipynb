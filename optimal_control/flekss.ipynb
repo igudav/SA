{
 "cells": [
  {
   "cell_type": "code",
   "execution_count": 1,
   "metadata": {},
   "outputs": [],
   "source": [
    "from sympy import *\n",
    "from sympy.plotting import plot_parametric"
   ]
  },
  {
   "cell_type": "code",
   "execution_count": 6,
   "metadata": {},
   "outputs": [
    {
     "data": {
      "text/latex": [
       "$\\displaystyle \\left[\\begin{matrix}-1 & -5\\\\10 & 1\\end{matrix}\\right]$"
      ],
      "text/plain": [
       "Matrix([\n",
       "[-1, -5],\n",
       "[10,  1]])"
      ]
     },
     "execution_count": 6,
     "metadata": {},
     "output_type": "execute_result"
    }
   ],
   "source": [
    "A = Matrix([[-1, -5],\n",
    "            [10, 1]])\n",
    "A"
   ]
  },
  {
   "cell_type": "code",
   "execution_count": 7,
   "metadata": {},
   "outputs": [
    {
     "name": "stdout",
     "output_type": "stream",
     "text": [
      "⎡⎛         ⎡⎡-1 - 7⋅ⅈ⎤⎤⎞  ⎛        ⎡⎡-1 + 7⋅ⅈ⎤⎤⎞⎤\n",
      "⎢⎜         ⎢⎢────────⎥⎥⎟  ⎜        ⎢⎢────────⎥⎥⎟⎥\n",
      "⎢⎜-7⋅ⅈ, 1, ⎢⎢   10   ⎥⎥⎟, ⎜7⋅ⅈ, 1, ⎢⎢   10   ⎥⎥⎟⎥\n",
      "⎢⎜         ⎢⎢        ⎥⎥⎟  ⎜        ⎢⎢        ⎥⎥⎟⎥\n",
      "⎣⎝         ⎣⎣   1    ⎦⎦⎠  ⎝        ⎣⎣   1    ⎦⎦⎠⎦\n"
     ]
    }
   ],
   "source": [
    "pprint(A.eigenvects())"
   ]
  },
  {
   "cell_type": "code",
   "execution_count": null,
   "metadata": {},
   "outputs": [],
   "source": []
  }
 ],
 "metadata": {
  "kernelspec": {
   "display_name": "Python 3",
   "language": "python",
   "name": "python3"
  },
  "language_info": {
   "codemirror_mode": {
    "name": "ipython",
    "version": 3
   },
   "file_extension": ".py",
   "mimetype": "text/x-python",
   "name": "python",
   "nbconvert_exporter": "python",
   "pygments_lexer": "ipython3",
   "version": "3.7.4"
  }
 },
 "nbformat": 4,
 "nbformat_minor": 2
}
