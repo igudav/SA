{
 "cells": [
  {
   "cell_type": "markdown",
   "metadata": {},
   "source": [
    "# Задача о сдвиге ракеты\n",
    "\n"
   ]
  },
  {
   "cell_type": "code",
   "execution_count": 74,
   "metadata": {},
   "outputs": [],
   "source": [
    "from sympy import *"
   ]
  },
  {
   "cell_type": "markdown",
   "metadata": {},
   "source": [
    "$$\n",
    "A = \n",
    "\\left(\n",
    "\\begin{array}{cc}\n",
    "0 & 1 & 0 & 0\\\\\n",
    "0 & 0 & 0 & 0\\\\\n",
    "\\end{array}\n",
    "\\right)\n",
    "$$"
   ]
  },
  {
   "cell_type": "code",
   "execution_count": 75,
   "metadata": {},
   "outputs": [],
   "source": [
    "t, t0, tau = symbols('t t0 tau', real=True, nonnegative=True)\n",
    "g = symbols('g', real=True, nonnegative=True)\n",
    "A = Matrix([[0, 1, 0, 0], [0, 0, 0, 0], [0, 0, 0, 1], [0, 0, 0, 0]])\n",
    "B = Matrix([[0, 0], [1, 0], [0, 0], [0, 1]])\n",
    "f = Matrix([[0], [0], [0], [-g]])\n",
    "x0 = Matrix([[-1], [0], [0], [0]])\n",
    "u1 = Function('u1', real=True)(t)\n",
    "u2 = Function('u2', real=True)(t)\n",
    "# u1, u2 = symbols('u1, u2', real=True)\n",
    "u = Matrix([[u1], [u2]])\n",
    "mu = symbols('mu', real=True, nonnegative=True)"
   ]
  },
  {
   "cell_type": "code",
   "execution_count": 76,
   "metadata": {},
   "outputs": [
    {
     "data": {
      "text/latex": [
       "$\\displaystyle \\left[\\begin{matrix}0 & 1 & 0 & 0\\\\0 & 0 & 0 & 0\\\\0 & 0 & 0 & 1\\\\0 & 0 & 0 & 0\\end{matrix}\\right]$"
      ],
      "text/plain": [
       "Matrix([\n",
       "[0, 1, 0, 0],\n",
       "[0, 0, 0, 0],\n",
       "[0, 0, 0, 1],\n",
       "[0, 0, 0, 0]])"
      ]
     },
     "execution_count": 76,
     "metadata": {},
     "output_type": "execute_result"
    }
   ],
   "source": [
    "A"
   ]
  },
  {
   "cell_type": "code",
   "execution_count": 77,
   "metadata": {},
   "outputs": [
    {
     "data": {
      "text/latex": [
       "$\\displaystyle \\left[\\begin{matrix}0 & 0\\\\1 & 0\\\\0 & 0\\\\0 & 1\\end{matrix}\\right]$"
      ],
      "text/plain": [
       "Matrix([\n",
       "[0, 0],\n",
       "[1, 0],\n",
       "[0, 0],\n",
       "[0, 1]])"
      ]
     },
     "execution_count": 77,
     "metadata": {},
     "output_type": "execute_result"
    }
   ],
   "source": [
    "B"
   ]
  },
  {
   "cell_type": "code",
   "execution_count": 78,
   "metadata": {},
   "outputs": [
    {
     "data": {
      "text/latex": [
       "$\\displaystyle \\left[\\begin{matrix}0\\\\0\\\\0\\\\- g\\end{matrix}\\right]$"
      ],
      "text/plain": [
       "Matrix([\n",
       "[ 0],\n",
       "[ 0],\n",
       "[ 0],\n",
       "[-g]])"
      ]
     },
     "execution_count": 78,
     "metadata": {},
     "output_type": "execute_result"
    }
   ],
   "source": [
    "f"
   ]
  },
  {
   "cell_type": "code",
   "execution_count": 79,
   "metadata": {},
   "outputs": [
    {
     "data": {
      "text/latex": [
       "$\\displaystyle \\left[\\begin{matrix}1 & t & 0 & 0\\\\0 & 1 & 0 & 0\\\\0 & 0 & 1 & t\\\\0 & 0 & 0 & 1\\end{matrix}\\right]$"
      ],
      "text/plain": [
       "Matrix([\n",
       "[1, t, 0, 0],\n",
       "[0, 1, 0, 0],\n",
       "[0, 0, 1, t],\n",
       "[0, 0, 0, 1]])"
      ]
     },
     "execution_count": 79,
     "metadata": {},
     "output_type": "execute_result"
    }
   ],
   "source": [
    "ExpA = Matrix([[1, t, 0, 0], [0, 1, 0, 0], [0, 0, 1, t], [0, 0, 0, 1]])\n",
    "ExpA"
   ]
  },
  {
   "cell_type": "code",
   "execution_count": 80,
   "metadata": {},
   "outputs": [
    {
     "data": {
      "text/latex": [
       "$\\displaystyle \\left[\\begin{matrix}-1\\\\0\\\\0\\\\0\\end{matrix}\\right]$"
      ],
      "text/plain": [
       "Matrix([\n",
       "[-1],\n",
       "[ 0],\n",
       "[ 0],\n",
       "[ 0]])"
      ]
     },
     "execution_count": 80,
     "metadata": {},
     "output_type": "execute_result"
    }
   ],
   "source": [
    "x0"
   ]
  },
  {
   "cell_type": "code",
   "execution_count": 81,
   "metadata": {},
   "outputs": [
    {
     "data": {
      "text/latex": [
       "$\\displaystyle \\left[\\begin{matrix}\\operatorname{u_{1}}{\\left(t \\right)}\\\\\\operatorname{u_{2}}{\\left(t \\right)}\\end{matrix}\\right]$"
      ],
      "text/plain": [
       "Matrix([\n",
       "[u1(t)],\n",
       "[u2(t)]])"
      ]
     },
     "execution_count": 81,
     "metadata": {},
     "output_type": "execute_result"
    }
   ],
   "source": [
    "u"
   ]
  },
  {
   "cell_type": "code",
   "execution_count": 82,
   "metadata": {},
   "outputs": [
    {
     "data": {
      "text/latex": [
       "$\\displaystyle \\left[\\begin{matrix}\\frac{t^{2} \\operatorname{u_{1}}{\\left(t \\right)}}{2} - t t_{0} \\operatorname{u_{1}}{\\left(t \\right)} + \\frac{t_{0}^{2} \\operatorname{u_{1}}{\\left(t \\right)}}{2} - 1\\\\t \\operatorname{u_{1}}{\\left(t \\right)} - t_{0} \\operatorname{u_{1}}{\\left(t \\right)}\\\\t^{2} \\left(\\frac{g}{2} - \\frac{\\operatorname{u_{2}}{\\left(t \\right)}}{2}\\right) + t \\left(- g t + t \\operatorname{u_{2}}{\\left(t \\right)}\\right) - t_{0}^{2} \\left(\\frac{g}{2} - \\frac{\\operatorname{u_{2}}{\\left(t \\right)}}{2}\\right) - t_{0} \\left(- g t + t \\operatorname{u_{2}}{\\left(t \\right)}\\right)\\\\t \\left(- g + \\operatorname{u_{2}}{\\left(t \\right)}\\right) - t_{0} \\left(- g + \\operatorname{u_{2}}{\\left(t \\right)}\\right)\\end{matrix}\\right]$"
      ],
      "text/plain": [
       "Matrix([\n",
       "[                                          t**2*u1(t)/2 - t*t0*u1(t) + t0**2*u1(t)/2 - 1],\n",
       "[                                                                     t*u1(t) - t0*u1(t)],\n",
       "[t**2*(g/2 - u2(t)/2) + t*(-g*t + t*u2(t)) - t0**2*(g/2 - u2(t)/2) - t0*(-g*t + t*u2(t))],\n",
       "[                                                       t*(-g + u2(t)) - t0*(-g + u2(t))]])"
      ]
     },
     "execution_count": 82,
     "metadata": {},
     "output_type": "execute_result"
    }
   ],
   "source": [
    "x1_t = ExpA.subs(t, t - t0)*x0 + integrate(ExpA.subs(t, t - tau)*(B * u + f), (tau, t0, t))\n",
    "x1_t"
   ]
  },
  {
   "cell_type": "code",
   "execution_count": 83,
   "metadata": {},
   "outputs": [
    {
     "data": {
      "text/latex": [
       "$\\displaystyle \\left[\\begin{matrix}\\frac{\\operatorname{u_{1}}{\\left(1 \\right)}}{2} - 1\\\\\\operatorname{u_{1}}{\\left(1 \\right)}\\\\- \\frac{g}{2} + \\frac{\\operatorname{u_{2}}{\\left(1 \\right)}}{2}\\\\- g + \\operatorname{u_{2}}{\\left(1 \\right)}\\end{matrix}\\right]$"
      ],
      "text/plain": [
       "Matrix([\n",
       "[   u1(1)/2 - 1],\n",
       "[         u1(1)],\n",
       "[-g/2 + u2(1)/2],\n",
       "[    -g + u2(1)]])"
      ]
     },
     "execution_count": 83,
     "metadata": {},
     "output_type": "execute_result"
    }
   ],
   "source": [
    "x1 = x1_t.subs({t0: 0, t: 1})\n",
    "x1"
   ]
  },
  {
   "cell_type": "code",
   "execution_count": 84,
   "metadata": {},
   "outputs": [
    {
     "ename": "SyntaxError",
     "evalue": "invalid syntax (<ipython-input-84-e37841a4c19f>, line 1)",
     "output_type": "error",
     "traceback": [
      "\u001b[0;36m  File \u001b[0;32m\"<ipython-input-84-e37841a4c19f>\"\u001b[0;36m, line \u001b[0;32m1\u001b[0m\n\u001b[0;31m    ccc =\u001b[0m\n\u001b[0m          ^\u001b[0m\n\u001b[0;31mSyntaxError\u001b[0m\u001b[0;31m:\u001b[0m invalid syntax\n"
     ]
    }
   ],
   "source": [
    "ccc = "
   ]
  },
  {
   "cell_type": "code",
   "execution_count": null,
   "metadata": {},
   "outputs": [],
   "source": [
    "c = Matrix([[1], [0], [g/2], [g]])\n",
    "c"
   ]
  },
  {
   "cell_type": "markdown",
   "metadata": {},
   "source": [
    "## Ищем опорную функцию"
   ]
  },
  {
   "cell_type": "code",
   "execution_count": null,
   "metadata": {},
   "outputs": [],
   "source": [
    "l1, l2, l3, l4 = symbols('l1 l2 l3 l4', real=True)\n",
    "l = Matrix([[l1], [l2], [l3], [l4]])\n",
    "l"
   ]
  },
  {
   "cell_type": "code",
   "execution_count": null,
   "metadata": {},
   "outputs": [],
   "source": [
    "ExpA * B"
   ]
  },
  {
   "cell_type": "markdown",
   "metadata": {},
   "source": [
    "### надо максимизировать"
   ]
  },
  {
   "cell_type": "code",
   "execution_count": null,
   "metadata": {},
   "outputs": [],
   "source": [
    "h1 = (1 - t) * l1 + l2\n",
    "h2 = (1 - t) * l3 + l4\n",
    "sup_expr = Integral(h1 * u1 + h2 * u2, (t, 0, 1))\n",
    "sup_expr"
   ]
  },
  {
   "cell_type": "code",
   "execution_count": null,
   "metadata": {},
   "outputs": [],
   "source": [
    "sup_right = Integral(sqrt(h1 ** 2 + h2 ** 2) * sqrt(u1 ** 2 + u2 ** 2), (t, 0, 1))\n",
    "sup_right"
   ]
  },
  {
   "cell_type": "code",
   "execution_count": null,
   "metadata": {},
   "outputs": [],
   "source": [
    "sup_right1 = Integral(h1 ** 2 + h2 ** 2, (t, 0, 1)) ** 0.5 + Integral(u1 ** 2 + u2 ** 2, (t, 0, 1)) ** 0.5\n",
    "sup_right1"
   ]
  },
  {
   "cell_type": "code",
   "execution_count": 85,
   "metadata": {},
   "outputs": [
    {
     "data": {
      "text/latex": [
       "$\\displaystyle \\left[\\begin{matrix}1\\\\0\\\\\\frac{g}{2}\\\\g\\end{matrix}\\right]$"
      ],
      "text/plain": [
       "Matrix([\n",
       "[  1],\n",
       "[  0],\n",
       "[g/2],\n",
       "[  g]])"
      ]
     },
     "execution_count": 85,
     "metadata": {},
     "output_type": "execute_result"
    }
   ],
   "source": [
    "c"
   ]
  },
  {
   "cell_type": "code",
   "execution_count": 86,
   "metadata": {},
   "outputs": [
    {
     "data": {
      "text/latex": [
       "$\\displaystyle \\frac{g l_{3}}{2} + g l_{4} + l_{1}$"
      ],
      "text/plain": [
       "g*l3/2 + g*l4 + l1"
      ]
     },
     "execution_count": 86,
     "metadata": {},
     "output_type": "execute_result"
    }
   ],
   "source": [
    "lc_dot = l.dot(c)\n",
    "lc_dot"
   ]
  },
  {
   "cell_type": "code",
   "execution_count": 105,
   "metadata": {},
   "outputs": [
    {
     "data": {
      "text/latex": [
       "$\\displaystyle \\lambda \\left(\\frac{g l_{3}}{2} + g l_{4} + l_{1} - 1\\right) + \\int\\limits_{0}^{1} \\left(\\left(l_{1} \\left(1 - t\\right) + l_{2}\\right)^{2} + \\left(l_{3} \\left(1 - t\\right) + l_{4}\\right)^{2}\\right)\\, dt$"
      ],
      "text/plain": [
       "lambda*(g*l3/2 + g*l4 + l1 - 1) + Integral((l1*(1 - t) + l2)**2 + (l3*(1 - t) + l4)**2, (t, 0, 1))"
      ]
     },
     "execution_count": 105,
     "metadata": {},
     "output_type": "execute_result"
    }
   ],
   "source": [
    "lmbd = symbols('lambda', real=True)\n",
    "L = Integral(h1 ** 2 + h2 ** 2, (t, 0, 1)) + lmbd * (lc_dot - 1)\n",
    "L"
   ]
  },
  {
   "cell_type": "code",
   "execution_count": 106,
   "metadata": {},
   "outputs": [
    {
     "data": {
      "text/latex": [
       "$\\displaystyle \\lambda + \\int\\limits_{0}^{1} \\left(2 - 2 t\\right) \\left(l_{1} \\left(1 - t\\right) + l_{2}\\right)\\, dt$"
      ],
      "text/plain": [
       "lambda + Integral((2 - 2*t)*(l1*(1 - t) + l2), (t, 0, 1))"
      ]
     },
     "execution_count": 106,
     "metadata": {},
     "output_type": "execute_result"
    }
   ],
   "source": [
    "dLdl1 = L.diff(l1)\n",
    "dLdl1"
   ]
  },
  {
   "cell_type": "code",
   "execution_count": 107,
   "metadata": {},
   "outputs": [
    {
     "data": {
      "text/latex": [
       "$\\displaystyle \\int\\limits_{0}^{1} \\left(2 l_{1} \\left(1 - t\\right) + 2 l_{2}\\right)\\, dt$"
      ],
      "text/plain": [
       "Integral(2*l1*(1 - t) + 2*l2, (t, 0, 1))"
      ]
     },
     "execution_count": 107,
     "metadata": {},
     "output_type": "execute_result"
    }
   ],
   "source": [
    "dLdl2 = L.diff(l2)\n",
    "dLdl2"
   ]
  },
  {
   "cell_type": "code",
   "execution_count": 108,
   "metadata": {},
   "outputs": [
    {
     "data": {
      "text/latex": [
       "$\\displaystyle \\frac{g \\lambda}{2} + \\int\\limits_{0}^{1} \\left(2 - 2 t\\right) \\left(l_{3} \\left(1 - t\\right) + l_{4}\\right)\\, dt$"
      ],
      "text/plain": [
       "g*lambda/2 + Integral((2 - 2*t)*(l3*(1 - t) + l4), (t, 0, 1))"
      ]
     },
     "execution_count": 108,
     "metadata": {},
     "output_type": "execute_result"
    }
   ],
   "source": [
    "dLdl3 = L.diff(l3)\n",
    "dLdl3"
   ]
  },
  {
   "cell_type": "code",
   "execution_count": 109,
   "metadata": {},
   "outputs": [
    {
     "data": {
      "text/latex": [
       "$\\displaystyle g \\lambda + \\int\\limits_{0}^{1} \\left(2 l_{3} \\left(1 - t\\right) + 2 l_{4}\\right)\\, dt$"
      ],
      "text/plain": [
       "g*lambda + Integral(2*l3*(1 - t) + 2*l4, (t, 0, 1))"
      ]
     },
     "execution_count": 109,
     "metadata": {},
     "output_type": "execute_result"
    }
   ],
   "source": [
    "dLdl4 = L.diff(l4)\n",
    "dLdl4"
   ]
  },
  {
   "cell_type": "code",
   "execution_count": 110,
   "metadata": {},
   "outputs": [
    {
     "data": {
      "text/latex": [
       "$\\displaystyle g \\lambda + l_{3} + 2 l_{4}$"
      ],
      "text/plain": [
       "g*lambda + l3 + 2*l4"
      ]
     },
     "execution_count": 110,
     "metadata": {},
     "output_type": "execute_result"
    }
   ],
   "source": [
    "dLdl4.doit()"
   ]
  },
  {
   "cell_type": "code",
   "execution_count": 111,
   "metadata": {},
   "outputs": [],
   "source": [
    "dLdl = [dLdl1, dLdl2, dLdl3, dLdl4]"
   ]
  },
  {
   "cell_type": "code",
   "execution_count": 134,
   "metadata": {},
   "outputs": [],
   "source": [
    "ddd=[]\n",
    "for d in dLdl:\n",
    "    ddd.append(d.doit())"
   ]
  },
  {
   "cell_type": "code",
   "execution_count": 135,
   "metadata": {},
   "outputs": [
    {
     "name": "stdout",
     "output_type": "stream",
     "text": [
      "⎡2⋅l₁                      g⋅λ   2⋅l₃                      ⎤\n",
      "⎢──── + l₂ + λ, l₁ + 2⋅l₂, ─── + ──── + l₄, g⋅λ + l₃ + 2⋅l₄⎥\n",
      "⎣ 3                         2     3                        ⎦\n"
     ]
    }
   ],
   "source": [
    "pprint(ddd)"
   ]
  },
  {
   "cell_type": "code",
   "execution_count": 136,
   "metadata": {},
   "outputs": [],
   "source": [
    "ddd.append(lc_dot - 1)"
   ]
  },
  {
   "cell_type": "code",
   "execution_count": 137,
   "metadata": {},
   "outputs": [
    {
     "data": {
      "text/plain": [
       "(2*l1/3 + l2 + lambda,\n",
       " l1 + 2*l2,\n",
       " g*lambda/2 + 2*l3/3 + l4,\n",
       " g*lambda + l3 + 2*l4,\n",
       " g*l3/2 + g*l4 + l1 - 1)"
      ]
     },
     "execution_count": 137,
     "metadata": {},
     "output_type": "execute_result"
    }
   ],
   "source": [
    "dd = tuple(ddd)\n",
    "dd"
   ]
  },
  {
   "cell_type": "code",
   "execution_count": 138,
   "metadata": {},
   "outputs": [
    {
     "data": {
      "text/plain": [
       "[{g: sqrt(2)*sqrt(lambda*(-6*lambda - 1))/lambda,\n",
       "  l1: -6*lambda,\n",
       "  l2: 3*lambda,\n",
       "  l3: 0,\n",
       "  l4: -sqrt(2)*sqrt(-lambda*(6*lambda + 1))/2},\n",
       " {g: -sqrt(2)*sqrt(-lambda*(6*lambda + 1))/lambda,\n",
       "  l1: -6*lambda,\n",
       "  l2: 3*lambda,\n",
       "  l3: 0,\n",
       "  l4: sqrt(2)*sqrt(-lambda*(6*lambda + 1))/2}]"
      ]
     },
     "execution_count": 138,
     "metadata": {},
     "output_type": "execute_result"
    }
   ],
   "source": [
    "res = solve(dd)\n",
    "res"
   ]
  },
  {
   "cell_type": "code",
   "execution_count": null,
   "metadata": {},
   "outputs": [],
   "source": []
  }
 ],
 "metadata": {
  "kernelspec": {
   "display_name": "Python 3",
   "language": "python",
   "name": "python3"
  },
  "language_info": {
   "codemirror_mode": {
    "name": "ipython",
    "version": 3
   },
   "file_extension": ".py",
   "mimetype": "text/x-python",
   "name": "python",
   "nbconvert_exporter": "python",
   "pygments_lexer": "ipython3",
   "version": "3.7.4"
  }
 },
 "nbformat": 4,
 "nbformat_minor": 2
}
