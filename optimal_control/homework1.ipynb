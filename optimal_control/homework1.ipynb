{
 "cells": [
  {
   "cell_type": "markdown",
   "metadata": {},
   "source": [
    "# Task 1 from sem 2 about pendulum"
   ]
  },
  {
   "cell_type": "markdown",
   "metadata": {},
   "source": [
    "## Formulation of the problem\n",
    "\n",
    "law of moition:\n",
    "\n",
    "$$\n",
    "\\ddot x + x = u.\n",
    "$$\n",
    "\n",
    "Where control system is:\n",
    "\n",
    "$$\n",
    "\\left\\{\n",
    "    \\begin{array}{l}\n",
    "        \\dot x_1 = x_2,\\\\\n",
    "        \\dot x_2 = - x_1 + u,\\\\\n",
    "        x_1(0) = 1,\\\\\n",
    "        x_2(0) = 0,\\\\\n",
    "        u(t) =\n",
    "        \\begin{cases}\n",
    "            -1, t \\in [0, \\pi],\\\\\n",
    "            1, t \\in (\\pi, 2\\pi].\n",
    "        \\end{cases}\n",
    "    \\end{array}\n",
    "\\right.\n",
    "$$\n",
    "\n",
    "We are to find the state of the system (position), when $t = 2\\pi$."
   ]
  },
  {
   "cell_type": "markdown",
   "metadata": {},
   "source": [
    "## Full manual solution\n",
    "\n",
    "First, determine matrices $A$, $B$ and $f$:\n",
    "\n",
    "$$\n",
    "A = \\left( \\begin{array}{cc}\n",
    "        0 & 1 \\\\\n",
    "        -1 & 0\n",
    "    \\end{array} \\right),\n",
    "\\quad\n",
    "x = \\left( \\begin{array}{cc}\n",
    "        x_1\\\\\n",
    "        x_2\n",
    "    \\end{array} \\right),\n",
    "\\quad\n",
    "B = \\left( \\begin{array}{cc}\n",
    "        0 & 0 \\\\\n",
    "        0 & 1\n",
    "    \\end{array} \\right),\n",
    "\\quad\n",
    "u = \\left( \\begin{array}{cc}\n",
    "        u'\\\\\n",
    "        u\n",
    "    \\end{array} \\right),\n",
    "\\quad\n",
    "f = \\left( \\begin{array}{cc}\n",
    "        0\\\\\n",
    "        0\n",
    "    \\end{array} \\right).\n",
    "$$\n",
    "\n",
    "Then, we are to find the solution of the homogeneous linear system. To do it we should determine the fundamental matrix\n",
    "$X(t, 0) = e^{At}$.\n",
    "\n",
    "First, we fide eigenvalues of matrix A:\n",
    "\n",
    "$$\n",
    "\\left| A - \\lambda I \\right| = 0,\n",
    "\\quad\n",
    "\\left| \\begin{array}{cc}\n",
    "    -\\lambda & 1\\\\\n",
    "    -1 & -\\lambda\n",
    "\\end{array} \\right| = 0,\n",
    "\\quad\n",
    "\\lambda \\in \\{ -i, i \\}\n",
    "$$\n",
    "\n",
    "Corresponding eigenvectors are:\n",
    "\n",
    "$$\n",
    "\\lambda_1 = -i \\leftrightarrow v_1 = \n",
    "    \\left( \\begin{array}{cc}\n",
    "        i\\\\\n",
    "        1\n",
    "    \\end{array} \\right),\n",
    "\\qquad\n",
    "\\lambda_2 = i \\leftrightarrow v_2 = \n",
    "    \\left( \\begin{array}{cc}\n",
    "        -i\\\\\n",
    "        1\n",
    "    \\end{array} \\right).\n",
    "$$\n",
    "\n",
    "Here we have to different complex eigenvalues of matrix, which rang is 2, and the soltion of the differential equation\n",
    "is linear combination of the real an imaginary parts of the corresponding solution function $ve^{\\lambda t}$.\n",
    "In our problem we have\n",
    "$$\n",
    "ve^{\\lambda t} = \n",
    "\\left( \\begin{array}{cc}\n",
    "        i\\\\\n",
    "        1\n",
    "\\end{array} \\right)\n",
    "e^{-it} = \n",
    "\\left( \\begin{array}{cc}\n",
    "        i\\\\\n",
    "        1\n",
    "\\end{array} \\right)\n",
    "\\bigl(\\cos(t) - i \\sin(t)\\bigr),\n",
    "$$\n",
    "Therefore, general solution (not fundamental matrix yet) is:\n",
    "\n",
    "$$\n",
    "\\left( \\begin{array}{cc}\n",
    "    C_1 \\sin(t) + C_2 \\cos(t)\\\\\n",
    "    C_1 \\cos(t) - C_2 \\sin(t)\n",
    "\\end{array} \\right).\n",
    "$$\n",
    "\n",
    "To make fundamental matrix from this one we should find constants $C_1$ and $C_2$ form the condition: $X(t, 0) = I$.\n",
    "The first column of $X(t, 0)$ is our general solution but with condition: $x(0) = (1, 0)^T$, and the second column — condition $x(t) = (0, 1)^T$.\n",
    "\n",
    "$$\n",
    "X(t, 0) =\n",
    "\\left( \\begin{array}{cc}\n",
    "    \\cos(t) & -\\sin(t)\\\\\n",
    "    \\sin(t) & \\cos(t)\n",
    "\\end{array} \\right).\n",
    "$$\n",
    "\n",
    "Now we are ready to write down the Cauchy formula to find trajectory:\n",
    "\n",
    "$$\n",
    "x(t) = X(t, 0)\n",
    "\\left( \\begin{array}{cc}\n",
    "    1\\\\\n",
    "    0\n",
    "\\end{array} \\right) +\n",
    "\\int\\limits_0^t X(t, \\tau) \\bigl( Bu(\\tau) + f\\bigr) d\\tau =\n",
    "\\left( \\begin{array}{cc}\n",
    "    \\cos(t)\\\\\n",
    "    \\sin(t)\n",
    "\\end{array} \\right) +\n",
    "\\int\\limits_0^t u(t)\n",
    "\\left( \\begin{array}{cc}\n",
    "    -\\sin(t)\\\\\n",
    "    \\cos(t)\n",
    "\\end{array} \\right)\n",
    "d\\tau\n",
    "\\\\\n",
    "x(2\\pi) = \n",
    "\\left( \\begin{array}{cc}\n",
    "    1\\\\\n",
    "    0\n",
    "\\end{array} \\right) +\n",
    "\\int\\limits_0^\\pi\n",
    "\\left( \\begin{array}{cc}\n",
    "    \\sin(t)\\\\\n",
    "    -\\cos(t)\n",
    "\\end{array} \\right)d\\tau +\n",
    "\\int\\limits_\\pi^{2\\pi}\n",
    "\\left( \\begin{array}{cc}\n",
    "    -\\sin(t)\\\\\n",
    "    \\cos(t)\n",
    "\\end{array} \\right) d\\tau =\n",
    "\\left( \\begin{array}{cc}\n",
    "    5\\\\\n",
    "    0\n",
    "\\end{array} \\right)\n",
    "$$"
   ]
  },
  {
   "cell_type": "markdown",
   "metadata": {},
   "source": [
    "## Sympy solution\n",
    "### Preparing imports"
   ]
  },
  {
   "cell_type": "code",
   "execution_count": 3,
   "metadata": {},
   "outputs": [],
   "source": [
    "from sympy import *\n",
    "import matplotlib as plt\n",
    "%matplotlib inline"
   ]
  },
  {
   "cell_type": "markdown",
   "metadata": {},
   "source": [
    "### Preparing symbols"
   ]
  },
  {
   "cell_type": "code",
   "execution_count": 5,
   "metadata": {},
   "outputs": [
    {
     "data": {
      "text/plain": [
       "(x1 & x3 & x4) | (x2 & x4 & ~x3) | (x3 & ~x1 & ~x4) | (x4 & ~x1 & ~x3) | (~x1 & ~x2 & ~x3)"
      ]
     },
     "execution_count": 5,
     "metadata": {},
     "output_type": "execute_result"
    }
   ],
   "source": [
    "x1, x2, x3, x4 = symbols('x1 x2 x3 x4')\n",
    "minterms = [[0, 0, 0, 0], [0, 0, 0, 1], [0, 0, 1, 0],\n",
    "            [0, 1, 0, 1], [0, 1, 1, 0],\n",
    "            [1, 0, 1, 1],\n",
    "            [1, 1, 0, 1], [1, 1, 1, 1 ]]\n",
    "SOPform([x1, x2, x3, x4], minterms)"
   ]
  },
  {
   "cell_type": "code",
   "execution_count": 2,
   "metadata": {},
   "outputs": [
    {
     "ename": "NameError",
     "evalue": "name 'Symbol' is not defined",
     "output_type": "error",
     "traceback": [
      "\u001b[0;31m---------------------------------------------------------------------------\u001b[0m",
      "\u001b[0;31mNameError\u001b[0m                                 Traceback (most recent call last)",
      "\u001b[0;32m<ipython-input-2-185c0717c3db>\u001b[0m in \u001b[0;36m<module>\u001b[0;34m()\u001b[0m\n\u001b[0;32m----> 1\u001b[0;31m \u001b[0mu\u001b[0m \u001b[0;34m=\u001b[0m \u001b[0mSymbol\u001b[0m\u001b[0;34m(\u001b[0m\u001b[0;34m'u'\u001b[0m\u001b[0;34m,\u001b[0m \u001b[0mreal\u001b[0m\u001b[0;34m=\u001b[0m\u001b[0;32mTrue\u001b[0m\u001b[0;34m)\u001b[0m\u001b[0;34m\u001b[0m\u001b[0;34m\u001b[0m\u001b[0m\n\u001b[0m\u001b[1;32m      2\u001b[0m \u001b[0mA\u001b[0m \u001b[0;34m=\u001b[0m \u001b[0mMatrix\u001b[0m\u001b[0;34m(\u001b[0m\u001b[0;34m[\u001b[0m\u001b[0;34m[\u001b[0m\u001b[0;36m0\u001b[0m\u001b[0;34m,\u001b[0m \u001b[0;36m1\u001b[0m\u001b[0;34m]\u001b[0m\u001b[0;34m,\u001b[0m \u001b[0;34m[\u001b[0m\u001b[0;34m-\u001b[0m\u001b[0;36m1\u001b[0m\u001b[0;34m,\u001b[0m \u001b[0;36m0\u001b[0m\u001b[0;34m]\u001b[0m\u001b[0;34m]\u001b[0m\u001b[0;34m)\u001b[0m\u001b[0;34m\u001b[0m\u001b[0;34m\u001b[0m\u001b[0m\n\u001b[1;32m      3\u001b[0m \u001b[0mu\u001b[0m \u001b[0;34m=\u001b[0m \u001b[0mMatrix\u001b[0m\u001b[0;34m(\u001b[0m\u001b[0;34m[\u001b[0m\u001b[0;34m[\u001b[0m\u001b[0;36m0\u001b[0m\u001b[0;34m]\u001b[0m\u001b[0;34m,\u001b[0m \u001b[0;34m[\u001b[0m\u001b[0mu\u001b[0m\u001b[0;34m]\u001b[0m\u001b[0;34m]\u001b[0m\u001b[0;34m)\u001b[0m\u001b[0;34m\u001b[0m\u001b[0;34m\u001b[0m\u001b[0m\n",
      "\u001b[0;31mNameError\u001b[0m: name 'Symbol' is not defined"
     ]
    }
   ],
   "source": [
    "u = Symbol('u', real=True)\n",
    "A = Matrix([[0, 1], [-1, 0]])\n",
    "u = Matrix([[0], [u]])"
   ]
  }
 ],
 "metadata": {
  "kernelspec": {
   "display_name": "Python 3",
   "language": "python",
   "name": "python3"
  },
  "language_info": {
   "codemirror_mode": {
    "name": "ipython",
    "version": 3
   },
   "file_extension": ".py",
   "mimetype": "text/x-python",
   "name": "python",
   "nbconvert_exporter": "python",
   "pygments_lexer": "ipython3",
   "version": "3.7.3"
  }
 },
 "nbformat": 4,
 "nbformat_minor": 2
}
