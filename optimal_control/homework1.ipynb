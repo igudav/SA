{
 "cells": [
  {
   "cell_type": "markdown",
   "metadata": {},
   "source": [
    "# Task 1 from sem 2 about pendulum"
   ]
  },
  {
   "cell_type": "markdown",
   "metadata": {},
   "source": [
    "## Formulation of the problem\n",
    "\n",
    "law of moition:\n",
    "\n",
    "$$\n",
    "\\ddot x + x = u.\n",
    "$$\n",
    "\n",
    "Where control system is:\n",
    "\n",
    "$$\n",
    "\\left\\{\n",
    "    \\begin{array}{l}\n",
    "        \\dot x_1 = x_2,\\\\\n",
    "        \\dot x_2 = - x_1 + u,\\\\\n",
    "        x_1(0) = 1,\\\\\n",
    "        x_2(0) = 0,\\\\\n",
    "        u(t) =\n",
    "        \\begin{cases}\n",
    "            -1, t \\in [0, \\pi],\\\\\n",
    "            1, t \\in (\\pi, 2\\pi].\n",
    "        \\end{cases}\n",
    "    \\end{array}\n",
    "\\right.\n",
    "$$\n",
    "\n",
    "We are to find the state of the system (position), when $t = 2\\pi$."
   ]
  },
  {
   "cell_type": "markdown",
   "metadata": {},
   "source": [
    "## Full manual solution\n",
    "\n",
    "First, determine matrices $A$, $B$ and $f$:\n",
    "\n",
    "$$\n",
    "A = \\left( \\begin{array}{cc}\n",
    "        0 & 1 \\\\\n",
    "        -1 & 0\n",
    "    \\end{array} \\right),\n",
    "\\quad\n",
    "x = \\left( \\begin{array}{cc}\n",
    "        x_1\\\\\n",
    "        x_2\n",
    "    \\end{array} \\right),\n",
    "\\quad\n",
    "B = \\left( \\begin{array}{cc}\n",
    "        0 & 0 \\\\\n",
    "        0 & 1\n",
    "    \\end{array} \\right),\n",
    "\\quad\n",
    "u = \\left( \\begin{array}{cc}\n",
    "        u'\\\\\n",
    "        u\n",
    "    \\end{array} \\right),\n",
    "\\quad\n",
    "f = \\left( \\begin{array}{cc}\n",
    "        0\\\\\n",
    "        0\n",
    "    \\end{array} \\right).\n",
    "$$\n",
    "\n",
    "Then, we are to find the solution of the homogeneous linear system. To do it we should determine the fundamental matrix\n",
    "$X(t, 0) = e^{At}$.\n",
    "\n",
    "First, we fide eigenvalues of matrix A:\n",
    "\n",
    "$$\n",
    "\\left| A - \\lambda I \\right| = 0,\n",
    "\\quad\n",
    "\\left| \\begin{array}{cc}\n",
    "    -\\lambda & 1\\\\\n",
    "    -1 & -\\lambda\n",
    "\\end{array} \\right| = 0,\n",
    "\\quad\n",
    "\\lambda \\in \\{ -i, i \\}\n",
    "$$\n",
    "\n",
    "Corresponding eigenvectors are:\n",
    "\n",
    "$$\n",
    "\\lambda_1 = -i \\leftrightarrow v_1 = \n",
    "    \\left( \\begin{array}{cc}\n",
    "        i\\\\\n",
    "        1\n",
    "    \\end{array} \\right),\n",
    "\\qquad\n",
    "\\lambda_2 = i \\leftrightarrow v_2 = \n",
    "    \\left( \\begin{array}{cc}\n",
    "        -i\\\\\n",
    "        1\n",
    "    \\end{array} \\right).\n",
    "$$\n",
    "\n",
    "Here we have to different complex eigenvalues of matrix, which rang is 2, and the soltion of the differential equation\n",
    "is linear combination of the real an imaginary parts of the corresponding solution function $ve^{\\lambda t}$.\n",
    "In our problem we have\n",
    "$$\n",
    "ve^{\\lambda t} = \n",
    "\\left( \\begin{array}{cc}\n",
    "        i\\\\\n",
    "        1\n",
    "\\end{array} \\right)\n",
    "e^{-it} = \n",
    "\\left( \\begin{array}{cc}\n",
    "        i\\\\\n",
    "        1\n",
    "\\end{array} \\right)\n",
    "\\bigl(\\cos(t) - i \\sin(t)\\bigr),\n",
    "$$\n",
    "Therefore, general solution (not fundamental matrix yet) is:\n",
    "\n",
    "$$\n",
    "\\left( \\begin{array}{cc}\n",
    "    C_1 \\sin(t) + C_2 \\cos(t)\\\\\n",
    "    C_1 \\cos(t) - C_2 \\sin(t)\n",
    "\\end{array} \\right).\n",
    "$$\n",
    "\n",
    "To make fundamental matrix from this one we should find constants $C_1$ and $C_2$ form the condition: $X(t, 0) = I$.\n",
    "The first column of $X(t, 0)$ is our general solution but with condition: $x(0) = (1, 0)^T$, and the second column — condition $x(0) = (0, 1)^T$.\n",
    "\n",
    "$$\n",
    "X(t, 0) =\n",
    "\\left( \\begin{array}{cc}\n",
    "    \\cos(t) & \\sin(t)\\\\\n",
    "    -\\sin(t) & \\cos(t)\n",
    "\\end{array} \\right).\n",
    "$$\n",
    "\n",
    "Now we are ready to write down the Cauchy formula to find trajectory:\n",
    "\n",
    "$$\n",
    "x(t) = X(t, 0)\n",
    "\\left( \\begin{array}{cc}\n",
    "    1\\\\\n",
    "    0\n",
    "\\end{array} \\right) +\n",
    "\\int\\limits_0^t X(t, \\tau) \\bigl( Bu(\\tau) + f\\bigr) d\\tau =\n",
    "\\left( \\begin{array}{cc}\n",
    "    \\cos(t)\\\\\n",
    "    -\\sin(t)\n",
    "\\end{array} \\right) +\n",
    "\\int\\limits_0^t u(\\tau)\n",
    "\\left( \\begin{array}{cc}\n",
    "    \\sin(t-\\tau)\\\\\n",
    "    \\cos(t-\\tau)\n",
    "\\end{array} \\right)\n",
    "d\\tau\n",
    "\\\\\n",
    "x(2\\pi) = \n",
    "\\left( \\begin{array}{cc}\n",
    "    1\\\\\n",
    "    0\n",
    "\\end{array} \\right) +\n",
    "\\int\\limits_0^\\pi\n",
    "\\left( \\begin{array}{cc}\n",
    "    -\\sin(2\\pi - \\tau)\\\\\n",
    "    -\\cos(2\\pi - \\tau)\n",
    "\\end{array} \\right)d\\tau +\n",
    "\\int\\limits_\\pi^{2\\pi}\n",
    "\\left( \\begin{array}{cc}\n",
    "    \\sin(2\\pi - \\tau)\\\\\n",
    "    \\cos(2\\pi - \\tau)\n",
    "\\end{array} \\right) d\\tau =\n",
    "\\left( \\begin{array}{cc}\n",
    "    5\\\\\n",
    "    0\n",
    "\\end{array} \\right)\n",
    "$$"
   ]
  },
  {
   "cell_type": "markdown",
   "metadata": {},
   "source": [
    "## Sympy solution\n",
    "### Preparing imports"
   ]
  },
  {
   "cell_type": "code",
   "execution_count": 198,
   "metadata": {},
   "outputs": [],
   "source": [
    "from sympy import *\n",
    "import matplotlib as plt\n",
    "%matplotlib inline"
   ]
  },
  {
   "cell_type": "markdown",
   "metadata": {},
   "source": [
    "### Preparing symbols"
   ]
  },
  {
   "cell_type": "markdown",
   "metadata": {},
   "source": [
    "$\n",
    "u(t) = \\left\\{ \\begin{array}{r}\n",
    "    -1, \\quad t \\in [0, \\pi] \\\\\n",
    "    1, \\quad t \\in (\\pi, 2\\pi]\n",
    "\\end{array} \\right. = sgn(t - \\pi).\n",
    "$"
   ]
  },
  {
   "cell_type": "markdown",
   "metadata": {},
   "source": [
    "$$\n",
    "A = \\left( \\begin{array}{cc}\n",
    "    0 & 1 \\\\\n",
    "    -1 & 0\n",
    "\\end{array} \\right),\n",
    "\\quad\n",
    "B = \\left( \\begin{array}{cc}\n",
    "    0 & 0 \\\\\n",
    "    0 & 1\n",
    "\\end{array} \\right),\n",
    "\\quad\n",
    "u = \\left( \\begin{array}{cc}\n",
    "    0 \\\\\n",
    "    sgn(t - \\pi)\n",
    "\\end{array} \\right),\n",
    "\\quad\n",
    "x_0 = \\left( \\begin{array}{cc}\n",
    "    1 \\\\\n",
    "    0\n",
    "\\end{array} \\right),\n",
    "\\quad\n",
    "f = \\left( \\begin{array}{cc}\n",
    "    0 \\\\\n",
    "    0\n",
    "\\end{array} \\right).\n",
    "$$"
   ]
  },
  {
   "cell_type": "code",
   "execution_count": 199,
   "metadata": {},
   "outputs": [],
   "source": [
    "t = symbols('t', nonegative=True, real=True)\n",
    "A = Matrix([[0, 1], [-1, 0]])\n",
    "B = Matrix([[0, 0], [0, 1]])\n",
    "u = Matrix([[0], [sign(t - pi)]])\n",
    "x0 = Matrix([[1], [0]])\n",
    "f = Matrix([[0], [0]])"
   ]
  },
  {
   "cell_type": "markdown",
   "metadata": {},
   "source": [
    "### Evaluationg matrix exponent"
   ]
  },
  {
   "cell_type": "markdown",
   "metadata": {},
   "source": [
    "Here we find general solution for matrix differential equation\n",
    "$$\n",
    "\\begin{cases}\n",
    "\\dot X(t) = AX(t) \\\\\n",
    "X(0) = I\n",
    "\\end{cases}\n",
    "$$\n",
    "to evaluate matrix exponent."
   ]
  },
  {
   "cell_type": "code",
   "execution_count": 200,
   "metadata": {},
   "outputs": [
    {
     "name": "stdout",
     "output_type": "stream",
     "text": [
      "Eigenvalues and eigenvectors:\n",
      "\n",
      "⎡⎛       ⎡⎡ⅈ⎤⎤⎞  ⎛      ⎡⎡-ⅈ⎤⎤⎞⎤\n",
      "⎢⎜-ⅈ, 1, ⎢⎢ ⎥⎥⎟, ⎜ⅈ, 1, ⎢⎢  ⎥⎥⎟⎥\n",
      "⎣⎝       ⎣⎣1⎦⎦⎠  ⎝      ⎣⎣1 ⎦⎦⎠⎦\n"
     ]
    }
   ],
   "source": [
    "eig_info = A.eigenvects()\n",
    "print('Eigenvalues and eigenvectors:\\n')\n",
    "pprint(eig_info)"
   ]
  },
  {
   "cell_type": "code",
   "execution_count": 201,
   "metadata": {},
   "outputs": [
    {
     "name": "stdout",
     "output_type": "stream",
     "text": [
      "⎡sin(t)  cos(t) ⎤\n",
      "⎢               ⎥\n",
      "⎣cos(t)  -sin(t)⎦\n"
     ]
    }
   ],
   "source": [
    "solution_basis = (v * exp(eig_info[0][0] * t)).as_real_imag()\n",
    "solution_basis = solution_basis[0].row_join(solution_basis[1])\n",
    "pprint(solution_basis)"
   ]
  },
  {
   "cell_type": "code",
   "execution_count": 202,
   "metadata": {},
   "outputs": [
    {
     "name": "stdout",
     "output_type": "stream",
     "text": [
      "⎡0  1⎤\n",
      "⎢    ⎥\n",
      "⎣1  0⎦\n",
      "\n",
      "⎡cos(t)   sin(t)⎤\n",
      "⎢               ⎥\n",
      "⎣-sin(t)  cos(t)⎦\n"
     ]
    }
   ],
   "source": [
    "C = Matrix(solution_basis.subs(t, 0)).LUsolve(eye(2))\n",
    "pprint(C)\n",
    "print()\n",
    "expA = Matrix(solution_basis * C)\n",
    "pprint(expA)"
   ]
  },
  {
   "cell_type": "markdown",
   "metadata": {},
   "source": [
    "And fundamental matrix $X(t, t_0) = e^{A(t-t_0)}$. In our problem $t_0 = 0$, therefore $X(t, t_0) = X(t, 0) = e^{At}$.\n",
    "But we should prepare $\\tau$ for integrating."
   ]
  },
  {
   "cell_type": "code",
   "execution_count": 203,
   "metadata": {},
   "outputs": [
    {
     "name": "stdout",
     "output_type": "stream",
     "text": [
      "⎡         t                           ⎤\n",
      "⎢         ⌠                           ⎥\n",
      "⎢cos(t) + ⎮ sin(t - τ)⋅sign(τ - π) dτ ⎥\n",
      "⎢         ⌡                           ⎥\n",
      "⎢         0                           ⎥\n",
      "⎢                                     ⎥\n",
      "⎢          t                          ⎥\n",
      "⎢          ⌠                          ⎥\n",
      "⎢-sin(t) + ⎮ cos(t - τ)⋅sign(τ - π) dτ⎥\n",
      "⎢          ⌡                          ⎥\n",
      "⎣          0                          ⎦\n"
     ]
    }
   ],
   "source": [
    "tau = symbols('tau', real=True)\n",
    "x = expA * x0 + integrate(expA.subs(t, t - tau) * (B * u.subs(t, tau) + f), (tau, 0, t))\n",
    "pprint(x)"
   ]
  },
  {
   "cell_type": "code",
   "execution_count": 210,
   "metadata": {},
   "outputs": [
    {
     "name": "stdout",
     "output_type": "stream",
     "text": [
      "⎡5⎤\n",
      "⎢ ⎥\n",
      "⎣0⎦\n",
      "CPU times: user 77.2 ms, sys: 1 µs, total: 77.2 ms\n",
      "Wall time: 76.1 ms\n"
     ]
    }
   ],
   "source": [
    "%%time\n",
    "pprint(x.subs(t, 2 * pi).doit())"
   ]
  }
 ],
 "metadata": {
  "kernelspec": {
   "display_name": "Python 3",
   "language": "python",
   "name": "python3"
  },
  "language_info": {
   "codemirror_mode": {
    "name": "ipython",
    "version": 3
   },
   "file_extension": ".py",
   "mimetype": "text/x-python",
   "name": "python",
   "nbconvert_exporter": "python",
   "pygments_lexer": "ipython3",
   "version": "3.7.3"
  }
 },
 "nbformat": 4,
 "nbformat_minor": 2
}
