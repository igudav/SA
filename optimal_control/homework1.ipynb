{
 "cells": [
  {
   "cell_type": "markdown",
   "metadata": {},
   "source": [
    "# Task 1 from sem 2 about pendulum"
   ]
  },
  {
   "cell_type": "markdown",
   "metadata": {},
   "source": [
    "## Formulation of the problem\n",
    "\n",
    "law of moition:\n",
    "\n",
    "$$\n",
    "\\ddot x + x = u.\n",
    "$$\n",
    "\n",
    "Where control system is:\n",
    "\n",
    "$$\n",
    "\\left\\{\n",
    "    \\begin{array}{l}\n",
    "        \\dot x_1 = x_2,\\\\\n",
    "        \\dot x_2 = - x_1 + u,\\\\\n",
    "        x_1(0) = 1,\\\\\n",
    "        x_2(0) = 0,\\\\\n",
    "        u(t) =\n",
    "        \\begin{cases}\n",
    "            -1, t \\in [0, \\pi],\\\\\n",
    "            1, t \\in (\\pi, 2\\pi].\n",
    "        \\end{cases}\n",
    "    \\end{array}\n",
    "\\right.\n",
    "$$\n",
    "\n",
    "We are to find the state of the system (position), when $t = 2\\pi$."
   ]
  },
  {
   "cell_type": "markdown",
   "metadata": {},
   "source": [
    "## Full manual solution\n",
    "\n",
    "First, determine matrices $A$, $B$ and $f$:\n",
    "\n",
    "$$\n",
    "A = \\left( \\begin{array}{cc}\n",
    "        0 & 1 \\\\\n",
    "        -1 & 0\n",
    "    \\end{array} \\right),\n",
    "\\quad\n",
    "x = \\left( \\begin{array}{cc}\n",
    "        x_1\\\\\n",
    "        x_2\n",
    "    \\end{array} \\right),\n",
    "\\quad\n",
    "B = \\left( \\begin{array}{cc}\n",
    "        0 & 0 \\\\\n",
    "        0 & 1\n",
    "    \\end{array} \\right),\n",
    "\\quad\n",
    "u = \\left( \\begin{array}{cc}\n",
    "        u'\\\\\n",
    "        u\n",
    "    \\end{array} \\right),\n",
    "\\quad\n",
    "f = \\left( \\begin{array}{cc}\n",
    "        0\\\\\n",
    "        0\n",
    "    \\end{array} \\right).\n",
    "$$\n",
    "\n",
    "Then, we are to find the solution of the homogeneous linear system. To do it we should determine the fundamental matrix\n",
    "$X(t, 0) = e^{At}$.\n",
    "\n",
    "First, we fide eigenvalues of matrix A:\n",
    "\n",
    "$$\n",
    "\\left| A - \\lambda I \\right| = 0,\n",
    "\\quad\n",
    "\\left| \\begin{array}{cc}\n",
    "    -\\lambda & 1\\\\\n",
    "    -1 & -\\lambda\n",
    "\\end{array} \\right| = 0,\n",
    "\\quad\n",
    "\\lambda \\in \\{ -i, i \\}\n",
    "$$\n",
    "\n",
    "Corresponding eigenvectors are:\n",
    "\n",
    "$$\n",
    "\\lambda_1 = -i \\leftrightarrow v_1 = \n",
    "    \\left( \\begin{array}{cc}\n",
    "        i\\\\\n",
    "        1\n",
    "    \\end{array} \\right),\n",
    "\\qquad\n",
    "\\lambda_2 = i \\leftrightarrow v_2 = \n",
    "    \\left( \\begin{array}{cc}\n",
    "        -i\\\\\n",
    "        1\n",
    "    \\end{array} \\right).\n",
    "$$\n",
    "\n",
    "Here we have to different complex eigenvalues of matrix, which rang is 2, and the soltion of the differential equation\n",
    "is linear combination of the real an imaginary parts of the corresponding solution function $ve^{\\lambda t}$.\n",
    "In our problem we have\n",
    "$$\n",
    "ve^{\\lambda t} = \n",
    "\\left( \\begin{array}{cc}\n",
    "        i\\\\\n",
    "        1\n",
    "\\end{array} \\right)\n",
    "e^{-it} = \n",
    "\\left( \\begin{array}{cc}\n",
    "        i\\\\\n",
    "        1\n",
    "\\end{array} \\right)\n",
    "\\bigl(\\cos(t) - i \\sin(t)\\bigr),\n",
    "$$\n",
    "Therefore, general solution (not fundamental matrix yet) is:\n",
    "\n",
    "$$\n",
    "\\left( \\begin{array}{cc}\n",
    "    C_1 \\sin(t) + C_2 \\cos(t)\\\\\n",
    "    C_1 \\cos(t) - C_2 \\sin(t)\n",
    "\\end{array} \\right).\n",
    "$$\n",
    "\n",
    "To make fundamental matrix from this one we should find constants $C_1$ and $C_2$ form the condition: $X(t, 0) = I$.\n",
    "The first column of $X(t, 0)$ is our general solution but with condition: $x(0) = (1, 0)^T$, and the second column — condition $x(0) = (0, 1)^T$.\n",
    "\n",
    "$$\n",
    "X(t, 0) =\n",
    "\\left( \\begin{array}{cc}\n",
    "    \\cos(t) & \\sin(t)\\\\\n",
    "    -\\sin(t) & \\cos(t)\n",
    "\\end{array} \\right).\n",
    "$$\n",
    "\n",
    "Now we are ready to write down the Cauchy formula to find trajectory:\n",
    "\n",
    "$$\n",
    "x(t) = X(t, 0)\n",
    "\\left( \\begin{array}{cc}\n",
    "    1\\\\\n",
    "    0\n",
    "\\end{array} \\right) +\n",
    "\\int\\limits_0^t X(t, \\tau) \\bigl( Bu(\\tau) + f\\bigr) d\\tau =\n",
    "\\left( \\begin{array}{cc}\n",
    "    \\cos(t)\\\\\n",
    "    -\\sin(t)\n",
    "\\end{array} \\right) +\n",
    "\\int\\limits_0^t u(\\tau)\n",
    "\\left( \\begin{array}{cc}\n",
    "    \\sin(t-\\tau)\\\\\n",
    "    \\cos(t-\\tau)\n",
    "\\end{array} \\right)\n",
    "d\\tau\n",
    "\\\\\n",
    "x(2\\pi) = \n",
    "\\left( \\begin{array}{cc}\n",
    "    1\\\\\n",
    "    0\n",
    "\\end{array} \\right) +\n",
    "\\int\\limits_0^\\pi\n",
    "\\left( \\begin{array}{cc}\n",
    "    -\\sin(2\\pi - \\tau)\\\\\n",
    "    -\\cos(2\\pi - \\tau)\n",
    "\\end{array} \\right)d\\tau +\n",
    "\\int\\limits_\\pi^{2\\pi}\n",
    "\\left( \\begin{array}{cc}\n",
    "    \\sin(2\\pi - \\tau)\\\\\n",
    "    \\cos(2\\pi - \\tau)\n",
    "\\end{array} \\right) d\\tau =\n",
    "\\left( \\begin{array}{cc}\n",
    "    5\\\\\n",
    "    0\n",
    "\\end{array} \\right)\n",
    "$$"
   ]
  },
  {
   "cell_type": "markdown",
   "metadata": {},
   "source": [
    "## Sympy solution\n",
    "### Preparing imports"
   ]
  },
  {
   "cell_type": "code",
   "execution_count": 60,
   "metadata": {},
   "outputs": [],
   "source": [
    "from sympy import *\n",
    "init_printing()"
   ]
  },
  {
   "cell_type": "markdown",
   "metadata": {},
   "source": [
    "### Preparing symbols"
   ]
  },
  {
   "cell_type": "markdown",
   "metadata": {},
   "source": [
    "$\n",
    "u(t) = \\left\\{ \\begin{array}{r}\n",
    "    -1, \\quad t \\in [0, \\pi] \\\\\n",
    "    1, \\quad t \\in (\\pi, 2\\pi]\n",
    "\\end{array} \\right. = sgn(t - \\pi).\n",
    "$"
   ]
  },
  {
   "cell_type": "markdown",
   "metadata": {},
   "source": [
    "$$\n",
    "A = \\left( \\begin{array}{cc}\n",
    "    0 & 1 \\\\\n",
    "    -1 & 0\n",
    "\\end{array} \\right),\n",
    "\\quad\n",
    "B = \\left( \\begin{array}{cc}\n",
    "    0 & 0 \\\\\n",
    "    0 & 1\n",
    "\\end{array} \\right),\n",
    "\\quad\n",
    "u = \\left( \\begin{array}{cc}\n",
    "    0 \\\\\n",
    "    sgn(t - \\pi)\n",
    "\\end{array} \\right),\n",
    "\\quad\n",
    "x_0 = \\left( \\begin{array}{cc}\n",
    "    1 \\\\\n",
    "    0\n",
    "\\end{array} \\right),\n",
    "\\quad\n",
    "f = \\left( \\begin{array}{cc}\n",
    "    0 \\\\\n",
    "    0\n",
    "\\end{array} \\right).\n",
    "$$"
   ]
  },
  {
   "cell_type": "code",
   "execution_count": 61,
   "metadata": {},
   "outputs": [],
   "source": [
    "t = Symbol('t', nonnegative=True, real=True)\n",
    "A = Matrix([[0, 1], [-1, 0]])\n",
    "B = Matrix([[0], [1]])\n",
    "u = sign(t - pi)\n",
    "x0 = Matrix([[1], [0]])\n",
    "f = Matrix([[0], [0]])"
   ]
  },
  {
   "cell_type": "markdown",
   "metadata": {},
   "source": [
    "### Evaluationg matrix exponent"
   ]
  },
  {
   "cell_type": "markdown",
   "metadata": {},
   "source": [
    "Here we find general solution for matrix differential equation\n",
    "$$\n",
    "\\begin{cases}\n",
    "\\dot X(t) = AX(t) \\\\\n",
    "X(0) = I\n",
    "\\end{cases}\n",
    "$$\n",
    "to evaluate matrix exponent."
   ]
  },
  {
   "cell_type": "code",
   "execution_count": 62,
   "metadata": {},
   "outputs": [
    {
     "name": "stdout",
     "output_type": "stream",
     "text": [
      "Eigenvalues and eigenvectors:\n",
      "\n"
     ]
    },
    {
     "data": {
      "image/png": "[encoded data removed]",
      "text/latex": [
       "$\\displaystyle \\left[ \\left( - i, \\  1, \\  \\left[ \\left[\\begin{matrix}i\\\\1\\end{matrix}\\right]\\right]\\right), \\  \\left( i, \\  1, \\  \\left[ \\left[\\begin{matrix}- i\\\\1\\end{matrix}\\right]\\right]\\right)\\right]$"
      ],
      "text/plain": [
       "⎡⎛       ⎡⎡ⅈ⎤⎤⎞  ⎛      ⎡⎡-ⅈ⎤⎤⎞⎤\n",
       "⎢⎜-ⅈ, 1, ⎢⎢ ⎥⎥⎟, ⎜ⅈ, 1, ⎢⎢  ⎥⎥⎟⎥\n",
       "⎣⎝       ⎣⎣1⎦⎦⎠  ⎝      ⎣⎣1 ⎦⎦⎠⎦"
      ]
     },
     "execution_count": 62,
     "metadata": {},
     "output_type": "execute_result"
    }
   ],
   "source": [
    "eig_info = A.eigenvects()\n",
    "print('Eigenvalues and eigenvectors:\\n')\n",
    "eig_info"
   ]
  },
  {
   "cell_type": "code",
   "execution_count": 63,
   "metadata": {},
   "outputs": [
    {
     "data": {
      "image/png": "[encoded data removed]",
      "text/latex": [
       "$\\displaystyle \\left[\\begin{matrix}\\sin{\\left(t \\right)} & \\cos{\\left(t \\right)}\\\\\\cos{\\left(t \\right)} & - \\sin{\\left(t \\right)}\\end{matrix}\\right]$"
      ],
      "text/plain": [
       "⎡sin(t)  cos(t) ⎤\n",
       "⎢               ⎥\n",
       "⎣cos(t)  -sin(t)⎦"
      ]
     },
     "execution_count": 63,
     "metadata": {},
     "output_type": "execute_result"
    }
   ],
   "source": [
    "v = eig_info[0][2][0]\n",
    "solution_basis = (v * exp(eig_info[0][0] * t)).as_real_imag()\n",
    "solution_basis = solution_basis[0].row_join(solution_basis[1])\n",
    "solution_basis"
   ]
  },
  {
   "cell_type": "code",
   "execution_count": 64,
   "metadata": {},
   "outputs": [
    {
     "data": {
      "image/png": "[encoded data removed]",
      "text/latex": [
       "$\\displaystyle \\left[\\begin{matrix}\\cos{\\left(t \\right)} & \\sin{\\left(t \\right)}\\\\- \\sin{\\left(t \\right)} & \\cos{\\left(t \\right)}\\end{matrix}\\right]$"
      ],
      "text/plain": [
       "⎡cos(t)   sin(t)⎤\n",
       "⎢               ⎥\n",
       "⎣-sin(t)  cos(t)⎦"
      ]
     },
     "execution_count": 64,
     "metadata": {},
     "output_type": "execute_result"
    }
   ],
   "source": [
    "C = Matrix(solution_basis.subs(t, 0)).LUsolve(eye(2))\n",
    "expA = Matrix(solution_basis * C)\n",
    "expA"
   ]
  },
  {
   "cell_type": "markdown",
   "metadata": {},
   "source": [
    "And fundamental matrix $X(t, t_0) = e^{A(t-t_0)}$. In our problem $t_0 = 0$, therefore $X(t, t_0) = X(t, 0) = e^{At}$.\n",
    "But we should prepare $\\tau$ for integrating."
   ]
  },
  {
   "cell_type": "code",
   "execution_count": 65,
   "metadata": {},
   "outputs": [
    {
     "data": {
      "image/png": "[encoded data removed]",
      "text/latex": [
       "$\\displaystyle \\left[\\begin{matrix}2 \\cos{\\left(t \\right)} - 2 \\cos{\\left(t - \\min\\left(\\pi, t\\right) \\right)} + 1\\\\- 2 \\sin{\\left(t \\right)} + 2 \\sin{\\left(t - \\min\\left(\\pi, t\\right) \\right)}\\end{matrix}\\right]$"
      ],
      "text/plain": [
       "⎡2⋅cos(t) - 2⋅cos(t - Min(pi, t)) + 1⎤\n",
       "⎢                                    ⎥\n",
       "⎣ -2⋅sin(t) + 2⋅sin(t - Min(pi, t))  ⎦"
      ]
     },
     "execution_count": 65,
     "metadata": {},
     "output_type": "execute_result"
    }
   ],
   "source": [
    "tau = Symbol('tau', real=True, nonnegative=True)\n",
    "x = expA * x0 + integrate(expA.subs(t, t - tau) * B * u.subs(t, tau), (tau, 0, t))\n",
    "x"
   ]
  },
  {
   "cell_type": "code",
   "execution_count": 66,
   "metadata": {},
   "outputs": [
    {
     "name": "stdout",
     "output_type": "stream",
     "text": [
      "CPU times: user 535 µs, sys: 0 ns, total: 535 µs\n",
      "Wall time: 545 µs\n"
     ]
    },
    {
     "data": {
      "image/png": "[encoded data removed]",
      "text/latex": [
       "$\\displaystyle \\left[\\begin{matrix}5\\\\0\\end{matrix}\\right]$"
      ],
      "text/plain": [
       "⎡5⎤\n",
       "⎢ ⎥\n",
       "⎣0⎦"
      ]
     },
     "execution_count": 66,
     "metadata": {},
     "output_type": "execute_result"
    }
   ],
   "source": [
    "%%time\n",
    "x.subs(t, 2 * pi)"
   ]
  },
  {
   "cell_type": "markdown",
   "metadata": {},
   "source": [
    "## Some plotting"
   ]
  },
  {
   "cell_type": "code",
   "execution_count": 67,
   "metadata": {},
   "outputs": [],
   "source": [
    "from sympy.plotting import *"
   ]
  },
  {
   "cell_type": "code",
   "execution_count": 72,
   "metadata": {},
   "outputs": [
    {
     "data": {
      "image/png": "[encoded data removed]",
      "text/plain": [
       "<Figure size 432x288 with 1 Axes>"
      ]
     },
     "metadata": {
      "needs_background": "light"
     },
     "output_type": "display_data"
    },
    {
     "data": {
      "text/plain": [
       "<sympy.plotting.plot.Plot at 0x7f83f3eed350>"
      ]
     },
     "execution_count": 72,
     "metadata": {},
     "output_type": "execute_result"
    }
   ],
   "source": [
    "plot(x[0], u, (t, 0, 2 * pi))"
   ]
  },
  {
   "cell_type": "code",
   "execution_count": 73,
   "metadata": {},
   "outputs": [
    {
     "data": {
      "image/png": "[encoded data removed]",
      "text/plain": [
       "<Figure size 432x288 with 1 Axes>"
      ]
     },
     "metadata": {
      "needs_background": "light"
     },
     "output_type": "display_data"
    },
    {
     "data": {
      "text/plain": [
       "<sympy.plotting.plot.Plot at 0x7f83f3df1290>"
      ]
     },
     "execution_count": 73,
     "metadata": {},
     "output_type": "execute_result"
    }
   ],
   "source": [
    "plot(x[1], u, (t, 0, 2 * pi))"
   ]
  },
  {
   "cell_type": "code",
   "execution_count": 74,
   "metadata": {},
   "outputs": [
    {
     "data": {
      "image/png": "[encoded data removed]",
      "text/plain": [
       "<Figure size 432x288 with 1 Axes>"
      ]
     },
     "metadata": {
      "needs_background": "light"
     },
     "output_type": "display_data"
    },
    {
     "data": {
      "text/plain": [
       "<sympy.plotting.plot.Plot at 0x7f83f3c92510>"
      ]
     },
     "execution_count": 74,
     "metadata": {},
     "output_type": "execute_result"
    }
   ],
   "source": [
    "plot_parametric(x[0], x[1], (t, 0, 2 * pi))"
   ]
  }
 ],
 "metadata": {
  "kernelspec": {
   "display_name": "Python 3",
   "language": "python",
   "name": "python3"
  },
  "language_info": {
   "codemirror_mode": {
    "name": "ipython",
    "version": 3
   },
   "file_extension": ".py",
   "mimetype": "text/x-python",
   "name": "python",
   "nbconvert_exporter": "python",
   "pygments_lexer": "ipython3",
   "version": "3.7.3"
  }
 },
 "nbformat": 4,
 "nbformat_minor": 2
}
