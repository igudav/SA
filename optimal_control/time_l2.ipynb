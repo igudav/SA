{
 "cells": [
  {
   "cell_type": "code",
   "execution_count": 1,
   "metadata": {},
   "outputs": [],
   "source": [
    "from sympy import *\n",
    "from sympy.plotting import plot_parametric"
   ]
  },
  {
   "cell_type": "code",
   "execution_count": 2,
   "metadata": {},
   "outputs": [
    {
     "data": {
      "text/latex": [
       "$\\displaystyle \\left[\\begin{matrix}12 & 9\\\\-16 & -12\\end{matrix}\\right]$"
      ],
      "text/plain": [
       "Matrix([\n",
       "[ 12,   9],\n",
       "[-16, -12]])"
      ]
     },
     "execution_count": 2,
     "metadata": {},
     "output_type": "execute_result"
    }
   ],
   "source": [
    "A = Matrix([[12, 9],\n",
    "            [-16, -12]])\n",
    "A"
   ]
  },
  {
   "cell_type": "code",
   "execution_count": 5,
   "metadata": {},
   "outputs": [
    {
     "data": {
      "text/latex": [
       "$\\displaystyle \\left[\\begin{matrix}2\\\\-1\\end{matrix}\\right]$"
      ],
      "text/plain": [
       "Matrix([\n",
       "[ 2],\n",
       "[-1]])"
      ]
     },
     "execution_count": 5,
     "metadata": {},
     "output_type": "execute_result"
    }
   ],
   "source": [
    "B = Matrix([[2],\n",
    "            [-1]])\n",
    "B"
   ]
  },
  {
   "cell_type": "code",
   "execution_count": 6,
   "metadata": {},
   "outputs": [
    {
     "data": {
      "text/latex": [
       "$\\displaystyle \\left[\\begin{matrix}3\\\\-4\\end{matrix}\\right]$"
      ],
      "text/plain": [
       "Matrix([\n",
       "[ 3],\n",
       "[-4]])"
      ]
     },
     "execution_count": 6,
     "metadata": {},
     "output_type": "execute_result"
    }
   ],
   "source": [
    "x0 = Matrix([[3],\n",
    "             [-4]])\n",
    "x0"
   ]
  },
  {
   "cell_type": "code",
   "execution_count": 7,
   "metadata": {},
   "outputs": [
    {
     "data": {
      "text/latex": [
       "$\\displaystyle \\left[\\begin{matrix}0\\\\0\\end{matrix}\\right]$"
      ],
      "text/plain": [
       "Matrix([\n",
       "[0],\n",
       "[0]])"
      ]
     },
     "execution_count": 7,
     "metadata": {},
     "output_type": "execute_result"
    }
   ],
   "source": [
    "x1 = zeros(2, 1)\n",
    "x1"
   ]
  },
  {
   "cell_type": "code",
   "execution_count": 8,
   "metadata": {},
   "outputs": [
    {
     "name": "stdout",
     "output_type": "stream",
     "text": [
      "⎡⎛      ⎡⎡-3/4⎤⎤⎞⎤\n",
      "⎢⎜0, 2, ⎢⎢    ⎥⎥⎟⎥\n",
      "⎣⎝      ⎣⎣ 1  ⎦⎦⎠⎦\n"
     ]
    }
   ],
   "source": [
    "eigs = A.eigenvects()\n",
    "pprint(eigs)"
   ]
  },
  {
   "cell_type": "code",
   "execution_count": 9,
   "metadata": {},
   "outputs": [
    {
     "data": {
      "text/latex": [
       "$\\displaystyle \\left[\\begin{matrix}- \\frac{1}{25}\\\\- \\frac{3}{100}\\end{matrix}\\right]$"
      ],
      "text/plain": [
       "Matrix([\n",
       "[ -1/25],\n",
       "[-3/100]])"
      ]
     },
     "execution_count": 9,
     "metadata": {},
     "output_type": "execute_result"
    }
   ],
   "source": [
    "v = eigs[0][2][0]\n",
    "u = A.pinv() @ v\n",
    "u"
   ]
  },
  {
   "cell_type": "code",
   "execution_count": 25,
   "metadata": {},
   "outputs": [],
   "source": [
    "t, tau, t1 = symbols('t tau t1', real=True, nonnegative=True)\n",
    "t0 = 0"
   ]
  },
  {
   "cell_type": "code",
   "execution_count": 19,
   "metadata": {},
   "outputs": [
    {
     "data": {
      "text/latex": [
       "$\\displaystyle \\left[\\begin{matrix}- \\frac{3}{4} & - \\frac{3 t}{4} - \\frac{1}{25}\\\\1 & t - \\frac{3}{100}\\end{matrix}\\right]$"
      ],
      "text/plain": [
       "Matrix([\n",
       "[-3/4, -3*t/4 - 1/25],\n",
       "[   1,     t - 3/100]])"
      ]
     },
     "execution_count": 19,
     "metadata": {},
     "output_type": "execute_result"
    }
   ],
   "source": [
    "Phi = v.col_insert(1, t * v + u)\n",
    "Phi"
   ]
  },
  {
   "cell_type": "code",
   "execution_count": 20,
   "metadata": {},
   "outputs": [
    {
     "data": {
      "text/latex": [
       "$\\displaystyle \\left[\\begin{matrix}12 t + 1 & 9 t\\\\- 16 t & 1 - 12 t\\end{matrix}\\right]$"
      ],
      "text/plain": [
       "Matrix([\n",
       "[12*t + 1,      9*t],\n",
       "[   -16*t, 1 - 12*t]])"
      ]
     },
     "execution_count": 20,
     "metadata": {},
     "output_type": "execute_result"
    }
   ],
   "source": [
    "expA = Phi @ Phi.subs(t, 0).pinv()\n",
    "expA"
   ]
  },
  {
   "cell_type": "code",
   "execution_count": 23,
   "metadata": {},
   "outputs": [
    {
     "data": {
      "text/latex": [
       "$\\displaystyle \\left[\\begin{matrix}15 \\tau - 2\\\\1 - 20 \\tau\\end{matrix}\\right]$"
      ],
      "text/plain": [
       "Matrix([\n",
       "[15*tau - 2],\n",
       "[1 - 20*tau]])"
      ]
     },
     "execution_count": 23,
     "metadata": {},
     "output_type": "execute_result"
    }
   ],
   "source": [
    "H = -expA.subs(t, t0 - tau) @ B\n",
    "H"
   ]
  },
  {
   "cell_type": "code",
   "execution_count": 24,
   "metadata": {},
   "outputs": [
    {
     "data": {
      "text/latex": [
       "$\\displaystyle \\left[\\begin{matrix}l_{1}\\\\l_{2}\\end{matrix}\\right]$"
      ],
      "text/plain": [
       "Matrix([\n",
       "[l1],\n",
       "[l2]])"
      ]
     },
     "execution_count": 24,
     "metadata": {},
     "output_type": "execute_result"
    }
   ],
   "source": [
    "l1, l2 = symbols('l1 l2', real=True)\n",
    "l = Matrix([[l1],\n",
    "            [l2]])\n",
    "l"
   ]
  },
  {
   "cell_type": "markdown",
   "metadata": {},
   "source": [
    "$$\n",
    "\\left< l, x \\right> = 1, \\quad l2 = \\frac{3}{4}l1 - \\frac{1}{4}\n",
    "$$"
   ]
  },
  {
   "cell_type": "code",
   "execution_count": 44,
   "metadata": {},
   "outputs": [
    {
     "data": {
      "text/latex": [
       "$\\displaystyle \\frac{t_{1} \\left(12 l_{1}^{2} - 12 l_{1} l_{2} + 3 l_{2}^{2} + t_{1}^{2} \\left(225 l_{1}^{2} - 600 l_{1} l_{2} + 400 l_{2}^{2}\\right) + 15 t_{1} \\left(- 6 l_{1}^{2} + 11 l_{1} l_{2} - 4 l_{2}^{2}\\right)\\right)}{3}$"
      ],
      "text/plain": [
       "t1*(12*l1**2 - 12*l1*l2 + 3*l2**2 + t1**2*(225*l1**2 - 600*l1*l2 + 400*l2**2) + 15*t1*(-6*l1**2 + 11*l1*l2 - 4*l2**2))/3"
      ]
     },
     "execution_count": 44,
     "metadata": {},
     "output_type": "execute_result"
    }
   ],
   "source": [
    "simplify(integrate((H.T @ l) ** 2, (tau, t0, t1))[0])"
   ]
  },
  {
   "cell_type": "code",
   "execution_count": 29,
   "metadata": {
    "scrolled": true
   },
   "outputs": [
    {
     "data": {
      "text/latex": [
       "$\\displaystyle t_{1}^{3} \\left(75 l_{1}^{2} - 200 l_{1} \\left(\\frac{3 l_{1}}{4} - \\frac{1}{4}\\right) + \\frac{400 \\left(\\frac{3 l_{1}}{4} - \\frac{1}{4}\\right)^{2}}{3}\\right) + t_{1}^{2} \\left(- 30 l_{1}^{2} + 55 l_{1} \\left(\\frac{3 l_{1}}{4} - \\frac{1}{4}\\right) - 20 \\left(\\frac{3 l_{1}}{4} - \\frac{1}{4}\\right)^{2}\\right) + t_{1} \\left(4 l_{1}^{2} - 4 l_{1} \\left(\\frac{3 l_{1}}{4} - \\frac{1}{4}\\right) + \\left(\\frac{3 l_{1}}{4} - \\frac{1}{4}\\right)^{2}\\right)$"
      ],
      "text/plain": [
       "t1**3*(75*l1**2 - 200*l1*(3*l1/4 - 1/4) + 400*(3*l1/4 - 1/4)**2/3) + t1**2*(-30*l1**2 + 55*l1*(3*l1/4 - 1/4) - 20*(3*l1/4 - 1/4)**2) + t1*(4*l1**2 - 4*l1*(3*l1/4 - 1/4) + (3*l1/4 - 1/4)**2)"
      ]
     },
     "execution_count": 29,
     "metadata": {},
     "output_type": "execute_result"
    }
   ],
   "source": [
    "L = integrate((H.T @ l) ** 2, (tau, t0, t1)).subs(l2, 3 * l1 / 4 - Rational(1, 4))[0]\n",
    "L"
   ]
  },
  {
   "cell_type": "code",
   "execution_count": 30,
   "metadata": {},
   "outputs": [
    {
     "data": {
      "text/plain": [
       "[2*t1 - 1/5]"
      ]
     },
     "execution_count": 30,
     "metadata": {},
     "output_type": "execute_result"
    }
   ],
   "source": [
    "sol = solve(L.diff(l1), l1)\n",
    "sol"
   ]
  },
  {
   "cell_type": "code",
   "execution_count": 31,
   "metadata": {},
   "outputs": [
    {
     "data": {
      "text/latex": [
       "$\\displaystyle 2 t_{1} - \\frac{1}{5}$"
      ],
      "text/plain": [
       "2*t1 - 1/5"
      ]
     },
     "execution_count": 31,
     "metadata": {},
     "output_type": "execute_result"
    }
   ],
   "source": [
    "l1_opt = sol[0]\n",
    "l1_opt"
   ]
  },
  {
   "cell_type": "code",
   "execution_count": 36,
   "metadata": {},
   "outputs": [
    {
     "data": {
      "text/latex": [
       "$\\displaystyle \\frac{3 t_{1}}{2} - \\frac{2}{5}$"
      ],
      "text/plain": [
       "3*t1/2 - 2/5"
      ]
     },
     "execution_count": 36,
     "metadata": {},
     "output_type": "execute_result"
    }
   ],
   "source": [
    "l2_opt = 3 * l1_opt / 4 - Rational(1, 4)\n",
    "l2_opt"
   ]
  },
  {
   "cell_type": "code",
   "execution_count": 37,
   "metadata": {},
   "outputs": [
    {
     "data": {
      "text/latex": [
       "$\\displaystyle \\left[\\begin{matrix}2 t_{1} - \\frac{1}{5}\\\\\\frac{3 t_{1}}{2} - \\frac{2}{5}\\end{matrix}\\right]$"
      ],
      "text/plain": [
       "Matrix([\n",
       "[  2*t1 - 1/5],\n",
       "[3*t1/2 - 2/5]])"
      ]
     },
     "execution_count": 37,
     "metadata": {},
     "output_type": "execute_result"
    }
   ],
   "source": [
    "l_opt = Matrix([[l1_opt],\n",
    "                [l2_opt]])\n",
    "l_opt"
   ]
  },
  {
   "cell_type": "code",
   "execution_count": 38,
   "metadata": {},
   "outputs": [
    {
     "data": {
      "text/latex": [
       "$\\displaystyle \\frac{25 t_{1}^{3}}{12}$"
      ],
      "text/plain": [
       "25*t1**3/12"
      ]
     },
     "execution_count": 38,
     "metadata": {},
     "output_type": "execute_result"
    }
   ],
   "source": [
    "expr = simplify(integrate((H.T @ l_opt) ** 2, (tau, t0, t1))[0])\n",
    "expr"
   ]
  },
  {
   "cell_type": "code",
   "execution_count": 41,
   "metadata": {},
   "outputs": [
    {
     "data": {
      "text/latex": [
       "$\\displaystyle \\frac{\\sqrt[3]{60}}{5}$"
      ],
      "text/plain": [
       "60**(1/3)/5"
      ]
     },
     "execution_count": 41,
     "metadata": {},
     "output_type": "execute_result"
    }
   ],
   "source": [
    "sol = solve(expr - 1, t1)\n",
    "sol[0]"
   ]
  },
  {
   "cell_type": "code",
   "execution_count": 42,
   "metadata": {},
   "outputs": [],
   "source": [
    "t1_opt = sol[0]"
   ]
  },
  {
   "cell_type": "code",
   "execution_count": 49,
   "metadata": {},
   "outputs": [
    {
     "data": {
      "text/latex": [
       "$\\displaystyle 5 \\tau - \\frac{\\sqrt[3]{60}}{2}$"
      ],
      "text/plain": [
       "5*tau - 60**(1/3)/2"
      ]
     },
     "execution_count": 49,
     "metadata": {},
     "output_type": "execute_result"
    }
   ],
   "source": [
    "u_opt = simplify(((H.T @ l_opt)[0] / integrate(((H.T @ l_opt)[0]) ** 2, (tau, t0, t1_opt))).subs(t1, t1_opt))\n",
    "u_opt"
   ]
  },
  {
   "cell_type": "code",
   "execution_count": 52,
   "metadata": {},
   "outputs": [
    {
     "data": {
      "text/latex": [
       "$\\displaystyle \\left[\\begin{matrix}\\frac{25 t^{3}}{2} - \\frac{15 \\sqrt[3]{60} t^{2}}{4} + 5 t^{2} - \\sqrt[3]{60} t + 3\\\\- \\frac{50 t^{3}}{3} - \\frac{5 t^{2}}{2} + 5 \\sqrt[3]{60} t^{2} + \\frac{\\sqrt[3]{60} t}{2} - 4\\end{matrix}\\right]$"
      ],
      "text/plain": [
       "Matrix([\n",
       "[  25*t**3/2 - 15*60**(1/3)*t**2/4 + 5*t**2 - 60**(1/3)*t + 3],\n",
       "[-50*t**3/3 - 5*t**2/2 + 5*60**(1/3)*t**2 + 60**(1/3)*t/2 - 4]])"
      ]
     },
     "execution_count": 52,
     "metadata": {},
     "output_type": "execute_result"
    }
   ],
   "source": [
    "x_opt = simplify(integrate(expA.subs(t, t - tau) @ B * u_opt, (tau, t1_opt, t)))\n",
    "x_opt"
   ]
  },
  {
   "cell_type": "code",
   "execution_count": 55,
   "metadata": {},
   "outputs": [
    {
     "data": {
      "image/png": "[encoded data removed]",
      "text/plain": [
       "<Figure size 432x288 with 1 Axes>"
      ]
     },
     "metadata": {
      "needs_background": "light"
     },
     "output_type": "display_data"
    },
    {
     "data": {
      "text/plain": [
       "<sympy.plotting.plot.Plot at 0x7f23268d6cd0>"
      ]
     },
     "execution_count": 55,
     "metadata": {},
     "output_type": "execute_result"
    }
   ],
   "source": [
    "plot_parametric(x_opt[0], x_opt[1], (t, t0, t1_opt))"
   ]
  },
  {
   "cell_type": "markdown",
   "metadata": {},
   "source": [
    "Тут все ОК, если без управления, то мы сидим тихо в $x_0$ и не рыпаемся"
   ]
  },
  {
   "cell_type": "code",
   "execution_count": 59,
   "metadata": {},
   "outputs": [
    {
     "data": {
      "image/png": "[encoded data removed]",
      "text/plain": [
       "<Figure size 432x288 with 1 Axes>"
      ]
     },
     "metadata": {
      "needs_background": "light"
     },
     "output_type": "display_data"
    },
    {
     "data": {
      "text/plain": [
       "<sympy.plotting.plot.Plot at 0x7f231117cd50>"
      ]
     },
     "execution_count": 59,
     "metadata": {},
     "output_type": "execute_result"
    }
   ],
   "source": [
    "plot_parametric((expA @ x0)[0], (expA @ x0)[1], (t, t0, t1_opt))"
   ]
  }
 ],
 "metadata": {
  "kernelspec": {
   "display_name": "Python 3",
   "language": "python",
   "name": "python3"
  },
  "language_info": {
   "codemirror_mode": {
    "name": "ipython",
    "version": 3
   },
   "file_extension": ".py",
   "mimetype": "text/x-python",
   "name": "python",
   "nbconvert_exporter": "python",
   "pygments_lexer": "ipython3",
   "version": "3.7.4"
  }
 },
 "nbformat": 4,
 "nbformat_minor": 2
}
