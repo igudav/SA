{
 "cells": [
  {
   "cell_type": "code",
   "execution_count": 2,
   "metadata": {},
   "outputs": [],
   "source": [
    "from sympy import *"
   ]
  },
  {
   "cell_type": "code",
   "execution_count": 3,
   "metadata": {},
   "outputs": [],
   "source": [
    "l, m0, k, g, t, psi0 = symbols('l m_0 k g t psi0', nonnegative=True)\n",
    "u = symbols('u', real=True)"
   ]
  },
  {
   "cell_type": "code",
   "execution_count": 4,
   "metadata": {},
   "outputs": [],
   "source": [
    "x1 = Function('x_1')(t)\n",
    "x2 = Function('x_2')(t)\n",
    "psi1 = Function('psi_1')(t)\n",
    "psi2 = Function('psi_2')(t)"
   ]
  },
  {
   "cell_type": "code",
   "execution_count": 5,
   "metadata": {},
   "outputs": [],
   "source": [
    "x1s, x2s, psi1s, psi2s = symbols('x1 x2 psi1 psi2')"
   ]
  },
  {
   "cell_type": "code",
   "execution_count": 6,
   "metadata": {},
   "outputs": [
    {
     "data": {
      "text/latex": [
       "$\\displaystyle \\frac{d}{d t} \\operatorname{x_{1}}{\\left(t \\right)} = - g \\operatorname{x_{2}}{\\left(t \\right)} - \\frac{k \\operatorname{x_{1}}^{2}{\\left(t \\right)}}{\\operatorname{x_{2}}^{2}{\\left(t \\right)}} + l u$"
      ],
      "text/plain": [
       "Eq(Derivative(x_1(t), t), -g*x_2(t) - k*x_1(t)**2/x_2(t)**2 + l*u)"
      ]
     },
     "execution_count": 6,
     "metadata": {},
     "output_type": "execute_result"
    }
   ],
   "source": [
    "deq1 = Eq(x1.diff(t), -x2 * g - k * x1**2 / x2**2 + l * u)\n",
    "deq1"
   ]
  },
  {
   "cell_type": "code",
   "execution_count": 7,
   "metadata": {},
   "outputs": [
    {
     "data": {
      "text/latex": [
       "$\\displaystyle \\frac{d}{d t} \\operatorname{x_{2}}{\\left(t \\right)} = - u$"
      ],
      "text/plain": [
       "Eq(Derivative(x_2(t), t), -u)"
      ]
     },
     "execution_count": 7,
     "metadata": {},
     "output_type": "execute_result"
    }
   ],
   "source": [
    "deq2 = Eq(x2.diff(t), -u)\n",
    "deq2"
   ]
  },
  {
   "cell_type": "code",
   "execution_count": 9,
   "metadata": {},
   "outputs": [
    {
     "data": {
      "text/latex": [
       "$\\displaystyle \\frac{d}{d t} \\psi_{1}{\\left(t \\right)} = \\frac{2 k \\psi_{1}{\\left(t \\right)} \\operatorname{x_{1}}{\\left(t \\right)}}{\\operatorname{x_{2}}^{2}{\\left(t \\right)}} + \\frac{\\psi_{0}}{\\operatorname{x_{2}}{\\left(t \\right)}}$"
      ],
      "text/plain": [
       "Eq(Derivative(psi_1(t), t), 2*k*psi_1(t)*x_1(t)/x_2(t)**2 + psi0/x_2(t))"
      ]
     },
     "execution_count": 9,
     "metadata": {},
     "output_type": "execute_result"
    }
   ],
   "source": [
    "deq3 = Eq(psi1.diff(t), psi0 / x2 + 2 * k * psi1 * x1 / x2**2)\n",
    "deq3"
   ]
  },
  {
   "cell_type": "code",
   "execution_count": 10,
   "metadata": {},
   "outputs": [
    {
     "data": {
      "text/latex": [
       "$\\displaystyle \\frac{d}{d t} \\psi_{2}{\\left(t \\right)} = g \\psi_{1}{\\left(t \\right)} - \\frac{2 k \\psi_{1}{\\left(t \\right)} \\operatorname{x_{1}}^{2}{\\left(t \\right)}}{\\operatorname{x_{2}}^{3}{\\left(t \\right)}} - \\frac{\\psi_{0} \\operatorname{x_{1}}{\\left(t \\right)}}{\\operatorname{x_{2}}^{2}{\\left(t \\right)}}$"
      ],
      "text/plain": [
       "Eq(Derivative(psi_2(t), t), g*psi_1(t) - 2*k*psi_1(t)*x_1(t)**2/x_2(t)**3 - psi0*x_1(t)/x_2(t)**2)"
      ]
     },
     "execution_count": 10,
     "metadata": {},
     "output_type": "execute_result"
    }
   ],
   "source": [
    "deq4 = Eq(psi2.diff(t), psi1 * g - psi0 * x1 / x2**2 - 2 * k * psi1 * x1**2 / x2**3)\n",
    "deq4"
   ]
  },
  {
   "cell_type": "code",
   "execution_count": 11,
   "metadata": {},
   "outputs": [
    {
     "data": {
      "text/latex": [
       "$\\displaystyle l \\psi_{1}{\\left(t \\right)} - \\psi_{2}{\\left(t \\right)}$"
      ],
      "text/plain": [
       "l*psi_1(t) - psi_2(t)"
      ]
     },
     "execution_count": 11,
     "metadata": {},
     "output_type": "execute_result"
    }
   ],
   "source": [
    "F = psi1 * l - psi2\n",
    "F"
   ]
  },
  {
   "cell_type": "code",
   "execution_count": 12,
   "metadata": {},
   "outputs": [
    {
     "data": {
      "text/latex": [
       "$\\displaystyle \\frac{- g \\psi_{1}{\\left(t \\right)} \\operatorname{x_{2}}^{3}{\\left(t \\right)} + 2 k \\psi_{1}{\\left(t \\right)} \\operatorname{x_{1}}^{2}{\\left(t \\right)} + l \\left(2 k \\psi_{1}{\\left(t \\right)} \\operatorname{x_{1}}{\\left(t \\right)} + \\psi_{0} \\operatorname{x_{2}}{\\left(t \\right)}\\right) \\operatorname{x_{2}}{\\left(t \\right)} + \\psi_{0} \\operatorname{x_{1}}{\\left(t \\right)} \\operatorname{x_{2}}{\\left(t \\right)}}{\\operatorname{x_{2}}^{3}{\\left(t \\right)}}$"
      ],
      "text/plain": [
       "(-g*psi_1(t)*x_2(t)**3 + 2*k*psi_1(t)*x_1(t)**2 + l*(2*k*psi_1(t)*x_1(t) + psi0*x_2(t))*x_2(t) + psi0*x_1(t)*x_2(t))/x_2(t)**3"
      ]
     },
     "execution_count": 12,
     "metadata": {},
     "output_type": "execute_result"
    }
   ],
   "source": [
    "dF = F.diff(t).subs({\n",
    "    x1.diff(t): deq1.rhs,\n",
    "    x2.diff(t): deq2.rhs,\n",
    "    psi1.diff(t): deq3.rhs,\n",
    "    psi2.diff(t): deq4.rhs\n",
    "})\n",
    "dF = simplify(dF)\n",
    "dF"
   ]
  },
  {
   "cell_type": "code",
   "execution_count": 13,
   "metadata": {},
   "outputs": [
    {
     "name": "stdout",
     "output_type": "stream",
     "text": [
      "\\frac{- g \\psi_{1} x_{2}^{3} + 2 k \\psi_{1} x_{1}^{2} + l x_{2} \\left(2 k \\psi_{1} x_{1} + \\psi_{0} x_{2}\\right) + \\psi_{0} x_{1} x_{2}}{x_{2}^{3}}\n"
     ]
    }
   ],
   "source": [
    "s = latex(dF.subs({x1: x1s, x2: x2s, psi1: psi1s, psi2: psi2s}))\n",
    "print(s)"
   ]
  },
  {
   "cell_type": "code",
   "execution_count": 14,
   "metadata": {},
   "outputs": [
    {
     "data": {
      "text/latex": [
       "$\\displaystyle \\frac{- 2 g k l \\psi_{1}{\\left(t \\right)} \\operatorname{x_{2}}^{3}{\\left(t \\right)} - 6 g k \\psi_{1}{\\left(t \\right)} \\operatorname{x_{1}}{\\left(t \\right)} \\operatorname{x_{2}}^{2}{\\left(t \\right)} - 2 g \\psi_{0} \\operatorname{x_{2}}^{3}{\\left(t \\right)} + 2 k^{2} l \\psi_{1}{\\left(t \\right)} \\operatorname{x_{1}}^{2}{\\left(t \\right)} + 2 k l^{2} u \\psi_{1}{\\left(t \\right)} \\operatorname{x_{2}}^{2}{\\left(t \\right)} + 2 k l \\psi_{0} \\operatorname{x_{1}}{\\left(t \\right)} \\operatorname{x_{2}}{\\left(t \\right)} + 8 k l u \\psi_{1}{\\left(t \\right)} \\operatorname{x_{1}}{\\left(t \\right)} \\operatorname{x_{2}}{\\left(t \\right)} + k \\psi_{0} \\operatorname{x_{1}}^{2}{\\left(t \\right)} + 6 k u \\psi_{1}{\\left(t \\right)} \\operatorname{x_{1}}^{2}{\\left(t \\right)} + 2 l \\psi_{0} u \\operatorname{x_{2}}^{2}{\\left(t \\right)} + 2 \\psi_{0} u \\operatorname{x_{1}}{\\left(t \\right)} \\operatorname{x_{2}}{\\left(t \\right)}}{\\operatorname{x_{2}}^{4}{\\left(t \\right)}}$"
      ],
      "text/plain": [
       "(-2*g*k*l*psi_1(t)*x_2(t)**3 - 6*g*k*psi_1(t)*x_1(t)*x_2(t)**2 - 2*g*psi0*x_2(t)**3 + 2*k**2*l*psi_1(t)*x_1(t)**2 + 2*k*l**2*u*psi_1(t)*x_2(t)**2 + 2*k*l*psi0*x_1(t)*x_2(t) + 8*k*l*u*psi_1(t)*x_1(t)*x_2(t) + k*psi0*x_1(t)**2 + 6*k*u*psi_1(t)*x_1(t)**2 + 2*l*psi0*u*x_2(t)**2 + 2*psi0*u*x_1(t)*x_2(t))/x_2(t)**4"
      ]
     },
     "execution_count": 14,
     "metadata": {},
     "output_type": "execute_result"
    }
   ],
   "source": [
    "d2F = simplify(dF.diff(t).subs({\n",
    "    x1.diff(t): deq1.rhs,\n",
    "    x2.diff(t): deq2.rhs,\n",
    "    psi1.diff(t): deq3.rhs,\n",
    "    psi2.diff(t): deq4.rhs\n",
    "}))\n",
    "d2F"
   ]
  },
  {
   "cell_type": "code",
   "execution_count": 15,
   "metadata": {},
   "outputs": [
    {
     "data": {
      "text/latex": [
       "$\\displaystyle \\frac{g k l \\psi_{1}{\\left(t \\right)} \\operatorname{x_{2}}^{3}{\\left(t \\right)} + 3 g k \\psi_{1}{\\left(t \\right)} \\operatorname{x_{1}}{\\left(t \\right)} \\operatorname{x_{2}}^{2}{\\left(t \\right)} + g \\psi_{0} \\operatorname{x_{2}}^{3}{\\left(t \\right)} - k^{2} l \\psi_{1}{\\left(t \\right)} \\operatorname{x_{1}}^{2}{\\left(t \\right)} - k l \\psi_{0} \\operatorname{x_{1}}{\\left(t \\right)} \\operatorname{x_{2}}{\\left(t \\right)} - \\frac{k \\psi_{0} \\operatorname{x_{1}}^{2}{\\left(t \\right)}}{2}}{k l^{2} \\psi_{1}{\\left(t \\right)} \\operatorname{x_{2}}^{2}{\\left(t \\right)} + 4 k l \\psi_{1}{\\left(t \\right)} \\operatorname{x_{1}}{\\left(t \\right)} \\operatorname{x_{2}}{\\left(t \\right)} + 3 k \\psi_{1}{\\left(t \\right)} \\operatorname{x_{1}}^{2}{\\left(t \\right)} + l \\psi_{0} \\operatorname{x_{2}}^{2}{\\left(t \\right)} + \\psi_{0} \\operatorname{x_{1}}{\\left(t \\right)} \\operatorname{x_{2}}{\\left(t \\right)}}$"
      ],
      "text/plain": [
       "(g*k*l*psi_1(t)*x_2(t)**3 + 3*g*k*psi_1(t)*x_1(t)*x_2(t)**2 + g*psi0*x_2(t)**3 - k**2*l*psi_1(t)*x_1(t)**2 - k*l*psi0*x_1(t)*x_2(t) - k*psi0*x_1(t)**2/2)/(k*l**2*psi_1(t)*x_2(t)**2 + 4*k*l*psi_1(t)*x_1(t)*x_2(t) + 3*k*psi_1(t)*x_1(t)**2 + l*psi0*x_2(t)**2 + psi0*x_1(t)*x_2(t))"
      ]
     },
     "execution_count": 15,
     "metadata": {},
     "output_type": "execute_result"
    }
   ],
   "source": [
    "sol = solve(d2F, u)\n",
    "u_spec_mode = simplify(sol[0])\n",
    "u_spec_mode"
   ]
  },
  {
   "cell_type": "code",
   "execution_count": 16,
   "metadata": {},
   "outputs": [
    {
     "name": "stdout",
     "output_type": "stream",
     "text": [
      "\\frac{g k l \\psi_{1} x_{2}^{3} + 3 g k \\psi_{1} x_{1} x_{2}^{2} + g \\psi_{0} x_{2}^{3} - k^{2} l \\psi_{1} x_{1}^{2} - k l \\psi_{0} x_{1} x_{2} - \\frac{k \\psi_{0} x_{1}^{2}}{2}}{k l^{2} \\psi_{1} x_{2}^{2} + 4 k l \\psi_{1} x_{1} x_{2} + 3 k \\psi_{1} x_{1}^{2} + l \\psi_{0} x_{2}^{2} + \\psi_{0} x_{1} x_{2}}\n"
     ]
    }
   ],
   "source": [
    "s = latex(u_spec_mode.subs({x1: x1s, x2: x2s, psi1: psi1s, psi2: psi2s}))\n",
    "print(s)"
   ]
  }
 ],
 "metadata": {
  "kernelspec": {
   "display_name": "Python 3",
   "language": "python",
   "name": "python3"
  },
  "language_info": {
   "codemirror_mode": {
    "name": "ipython",
    "version": 3
   },
   "file_extension": ".py",
   "mimetype": "text/x-python",
   "name": "python",
   "nbconvert_exporter": "python",
   "pygments_lexer": "ipython3",
   "version": "3.8.2"
  }
 },
 "nbformat": 4,
 "nbformat_minor": 4
}
