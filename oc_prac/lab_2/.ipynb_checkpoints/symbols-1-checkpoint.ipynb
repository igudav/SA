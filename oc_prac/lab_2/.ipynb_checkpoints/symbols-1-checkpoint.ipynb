{
 "cells": [
  {
   "cell_type": "code",
   "execution_count": 1,
   "metadata": {},
   "outputs": [],
   "source": [
    "from sympy import *"
   ]
  },
  {
   "cell_type": "code",
   "execution_count": 4,
   "metadata": {},
   "outputs": [],
   "source": [
    "l, m0, k, g, t = symbols('l m_0 k g t', nonnegative=True)\n",
    "u = symbols('u', real=True)"
   ]
  },
  {
   "cell_type": "code",
   "execution_count": 5,
   "metadata": {},
   "outputs": [],
   "source": [
    "x1 = Function('x_1')(t)"
   ]
  },
  {
   "cell_type": "code",
   "execution_count": 6,
   "metadata": {},
   "outputs": [
    {
     "data": {
      "text/latex": [
       "$\\displaystyle \\frac{d}{d t} \\operatorname{x_{1}}{\\left(t \\right)} = - g + \\frac{u \\left(- k \\operatorname{x_{1}}^{2}{\\left(t \\right)} + l + \\operatorname{x_{1}}{\\left(t \\right)}\\right)}{m_{0} - t u}$"
      ],
      "text/plain": [
       "Eq(Derivative(x_1(t), t), -g + u*(-k*x_1(t)**2 + l + x_1(t))/(m_0 - t*u))"
      ]
     },
     "execution_count": 6,
     "metadata": {},
     "output_type": "execute_result"
    }
   ],
   "source": [
    "deq1 = Eq(Derivative(x1, t), -g + (x1 + l - k * x1 ** 2) * u / (m0 - u * t))\n",
    "deq1"
   ]
  },
  {
   "cell_type": "code",
   "execution_count": 7,
   "metadata": {},
   "outputs": [],
   "source": [
    "sol = dsolve(deq1, x1)"
   ]
  },
  {
   "cell_type": "code",
   "execution_count": 8,
   "metadata": {},
   "outputs": [
    {
     "data": {
      "text/latex": [
       "$\\displaystyle \\operatorname{x_{1}}{\\left(t \\right)} = \\frac{t^{4} u^{2} \\left(- \\frac{6 C_{1}^{2} k u^{2}}{m_{0}^{2}} + \\frac{6 C_{1} u^{2}}{m_{0}^{2}} + \\frac{6 l u^{2}}{m_{0}^{2}} + 2 \\left(- \\frac{C_{1}^{2} k u}{m_{0}} + \\frac{C_{1} u}{m_{0}} - g + \\frac{l u}{m_{0}}\\right) \\left(- \\frac{2 C_{1} k u}{m_{0}} - k \\left(- \\frac{C_{1}^{2} k u}{m_{0}} + \\frac{C_{1} u}{m_{0}} - g + \\frac{l u}{m_{0}}\\right) - \\frac{k u \\left(- C_{1}^{2} k + C_{1} + l\\right)}{m_{0}} + \\frac{u \\left(- 2 C_{1} k + 1\\right)^{2}}{m_{0}} + \\frac{u}{m_{0}}\\right) + \\left(- \\frac{C_{1}^{2} k u}{m_{0}} + \\frac{C_{1} u}{m_{0}} - g + \\frac{l u}{m_{0}}\\right) \\left(- \\frac{4 C_{1} k u}{m_{0}} + 4 k \\left(3 C_{1} k - 2\\right) \\left(- \\frac{C_{1}^{2} k u}{m_{0}} + \\frac{C_{1} u}{m_{0}} - g + \\frac{l u}{m_{0}}\\right) - 2 k \\left(- \\frac{C_{1}^{2} k u}{m_{0}} + \\frac{C_{1} u}{m_{0}} - g + \\frac{l u}{m_{0}}\\right) - \\frac{2 k u \\left(- C_{1}^{2} k + C_{1} + l\\right)}{m_{0}} + \\left(- 2 C_{1} k + 1\\right) \\left(- \\frac{2 C_{1} k u}{m_{0}} - 2 k \\left(- \\frac{C_{1}^{2} k u}{m_{0}} + \\frac{C_{1} u}{m_{0}} - g + \\frac{l u}{m_{0}}\\right) + \\frac{u \\left(- 2 C_{1} k + 1\\right)^{2}}{m_{0}} + \\frac{u}{m_{0}}\\right) + \\frac{2 u \\left(- 2 C_{1} k + 1\\right)^{2}}{m_{0}} + \\frac{2 u}{m_{0}}\\right) + \\frac{2 u \\left(- 2 C_{1} k + 1\\right) \\left(- \\frac{C_{1}^{2} k u}{m_{0}} + \\frac{C_{1} u}{m_{0}} - g + \\frac{l u}{m_{0}}\\right)}{m_{0}} + \\frac{u \\left(- C_{1}^{2} k + C_{1} + l\\right) \\left(- \\frac{2 C_{1} k u}{m_{0}} - 2 k \\left(- \\frac{C_{1}^{2} k u}{m_{0}} + \\frac{C_{1} u}{m_{0}} - g + \\frac{l u}{m_{0}}\\right) + \\frac{u \\left(- 2 C_{1} k + 1\\right)^{2}}{m_{0}} + \\frac{u}{m_{0}}\\right)}{m_{0}} + \\frac{4 u^{2} \\left(- 2 C_{1} k + 1\\right) \\left(- C_{1}^{2} k + C_{1} + l\\right)}{m_{0}^{2}}\\right)}{24 m_{0}^{2}} + \\frac{t^{5} u^{2} \\left(- \\frac{24 C_{1}^{2} k u^{3}}{m_{0}^{3}} + \\frac{24 C_{1} u^{3}}{m_{0}^{3}} + \\frac{24 l u^{3}}{m_{0}^{3}} + \\left(- \\frac{C_{1}^{2} k u}{m_{0}} + \\frac{C_{1} u}{m_{0}} - g + \\frac{l u}{m_{0}}\\right) \\left(- \\frac{12 C_{1} k u^{2}}{m_{0}^{2}} + 2 k \\left(- \\frac{C_{1}^{2} k u}{m_{0}} + \\frac{C_{1} u}{m_{0}} - g + \\frac{l u}{m_{0}}\\right) \\left(\\frac{2 C_{1} k u}{m_{0}} + 8 k \\left(- \\frac{C_{1}^{2} k u}{m_{0}} + \\frac{C_{1} u}{m_{0}} - g + \\frac{l u}{m_{0}}\\right) - \\frac{u \\left(- 2 C_{1} k + 1\\right)^{2}}{m_{0}} + \\frac{4 u \\left(- 2 C_{1} k + 1\\right) \\left(3 C_{1} k - 2\\right)}{m_{0}} - \\frac{6 u \\left(- 2 C_{1} k + 1\\right)}{m_{0}} - \\frac{3 u}{m_{0}}\\right) + \\frac{8 k u \\left(3 C_{1} k - 2\\right) \\left(- \\frac{C_{1}^{2} k u}{m_{0}} + \\frac{C_{1} u}{m_{0}} - g + \\frac{l u}{m_{0}}\\right)}{m_{0}} - \\frac{4 k u \\left(- \\frac{C_{1}^{2} k u}{m_{0}} + \\frac{C_{1} u}{m_{0}} - g + \\frac{l u}{m_{0}}\\right)}{m_{0}} + \\frac{4 k u^{2} \\left(3 C_{1} k - 2\\right) \\left(- C_{1}^{2} k + C_{1} + l\\right)}{m_{0}^{2}} - \\frac{8 k u^{2} \\left(- C_{1}^{2} k + C_{1} + l\\right)}{m_{0}^{2}} + \\frac{u \\left(- 2 C_{1} k + 1\\right) \\left(- \\frac{2 C_{1} k u}{m_{0}} - 2 k \\left(- \\frac{C_{1}^{2} k u}{m_{0}} + \\frac{C_{1} u}{m_{0}} - g + \\frac{l u}{m_{0}}\\right) + \\frac{u \\left(- 2 C_{1} k + 1\\right)^{2}}{m_{0}} + \\frac{u}{m_{0}}\\right)}{m_{0}} + \\frac{2 u \\left(- 2 C_{1} k + 1\\right) \\left(- \\frac{2 C_{1} k u}{m_{0}} - k \\left(- \\frac{C_{1}^{2} k u}{m_{0}} + \\frac{C_{1} u}{m_{0}} - g + \\frac{l u}{m_{0}}\\right) - \\frac{k u \\left(- C_{1}^{2} k + C_{1} + l\\right)}{m_{0}} + \\frac{u \\left(- 2 C_{1} k + 1\\right)^{2}}{m_{0}} + \\frac{u}{m_{0}}\\right)}{m_{0}} + \\frac{u \\left(- 2 C_{1} k + 1\\right) \\left(- \\frac{4 C_{1} k u}{m_{0}} + 4 k \\left(3 C_{1} k - 2\\right) \\left(- \\frac{C_{1}^{2} k u}{m_{0}} + \\frac{C_{1} u}{m_{0}} - g + \\frac{l u}{m_{0}}\\right) - 2 k \\left(- \\frac{C_{1}^{2} k u}{m_{0}} + \\frac{C_{1} u}{m_{0}} - g + \\frac{l u}{m_{0}}\\right) - \\frac{2 k u \\left(- C_{1}^{2} k + C_{1} + l\\right)}{m_{0}} + \\left(- 2 C_{1} k + 1\\right) \\left(- \\frac{2 C_{1} k u}{m_{0}} - 2 k \\left(- \\frac{C_{1}^{2} k u}{m_{0}} + \\frac{C_{1} u}{m_{0}} - g + \\frac{l u}{m_{0}}\\right) + \\frac{u \\left(- 2 C_{1} k + 1\\right)^{2}}{m_{0}} + \\frac{u}{m_{0}}\\right) + \\frac{2 u \\left(- 2 C_{1} k + 1\\right)^{2}}{m_{0}} + \\frac{2 u}{m_{0}}\\right)}{m_{0}} + \\frac{6 u^{2} \\left(- 2 C_{1} k + 1\\right)^{2}}{m_{0}^{2}} + \\frac{6 u^{2}}{m_{0}^{2}}\\right) + \\frac{2 u \\left(- \\frac{C_{1}^{2} k u}{m_{0}} + \\frac{C_{1} u}{m_{0}} - g + \\frac{l u}{m_{0}}\\right) \\left(- \\frac{6 C_{1} k u}{m_{0}} - 2 k \\left(- \\frac{C_{1}^{2} k u}{m_{0}} + \\frac{C_{1} u}{m_{0}} - g + \\frac{l u}{m_{0}}\\right) - \\frac{4 k u \\left(- C_{1}^{2} k + C_{1} + l\\right)}{m_{0}} + \\frac{3 u \\left(- 2 C_{1} k + 1\\right)^{2}}{m_{0}} + \\frac{3 u}{m_{0}}\\right)}{m_{0}} + \\frac{u \\left(- \\frac{C_{1}^{2} k u}{m_{0}} + \\frac{C_{1} u}{m_{0}} - g + \\frac{l u}{m_{0}}\\right) \\left(- \\frac{12 C_{1} k u}{m_{0}} + 8 k \\left(3 C_{1} k - 2\\right) \\left(- \\frac{C_{1}^{2} k u}{m_{0}} + \\frac{C_{1} u}{m_{0}} - g + \\frac{l u}{m_{0}}\\right) - 4 k \\left(- \\frac{C_{1}^{2} k u}{m_{0}} + \\frac{C_{1} u}{m_{0}} - g + \\frac{l u}{m_{0}}\\right) + \\frac{4 k u \\left(3 C_{1} k - 2\\right) \\left(- C_{1}^{2} k + C_{1} + l\\right)}{m_{0}} - \\frac{8 k u \\left(- C_{1}^{2} k + C_{1} + l\\right)}{m_{0}} + \\left(- 2 C_{1} k + 1\\right) \\left(- \\frac{2 C_{1} k u}{m_{0}} - 2 k \\left(- \\frac{C_{1}^{2} k u}{m_{0}} + \\frac{C_{1} u}{m_{0}} - g + \\frac{l u}{m_{0}}\\right) + \\frac{u \\left(- 2 C_{1} k + 1\\right)^{2}}{m_{0}} + \\frac{u}{m_{0}}\\right) + 2 \\left(- 2 C_{1} k + 1\\right) \\left(- \\frac{2 C_{1} k u}{m_{0}} - k \\left(- \\frac{C_{1}^{2} k u}{m_{0}} + \\frac{C_{1} u}{m_{0}} - g + \\frac{l u}{m_{0}}\\right) - \\frac{k u \\left(- C_{1}^{2} k + C_{1} + l\\right)}{m_{0}} + \\frac{u \\left(- 2 C_{1} k + 1\\right)^{2}}{m_{0}} + \\frac{u}{m_{0}}\\right) + \\frac{6 u \\left(- 2 C_{1} k + 1\\right)^{2}}{m_{0}} + \\frac{6 u}{m_{0}}\\right)}{m_{0}} + \\frac{6 u^{2} \\left(- 2 C_{1} k + 1\\right) \\left(- \\frac{C_{1}^{2} k u}{m_{0}} + \\frac{C_{1} u}{m_{0}} - g + \\frac{l u}{m_{0}}\\right)}{m_{0}^{2}} + \\frac{2 u^{2} \\left(- C_{1}^{2} k + C_{1} + l\\right) \\left(- \\frac{2 C_{1} k u}{m_{0}} - 2 k \\left(- \\frac{C_{1}^{2} k u}{m_{0}} + \\frac{C_{1} u}{m_{0}} - g + \\frac{l u}{m_{0}}\\right) + \\frac{u \\left(- 2 C_{1} k + 1\\right)^{2}}{m_{0}} + \\frac{u}{m_{0}}\\right)}{m_{0}^{2}} + \\frac{4 u^{2} \\left(- C_{1}^{2} k + C_{1} + l\\right) \\left(- \\frac{2 C_{1} k u}{m_{0}} - k \\left(- \\frac{C_{1}^{2} k u}{m_{0}} + \\frac{C_{1} u}{m_{0}} - g + \\frac{l u}{m_{0}}\\right) - \\frac{k u \\left(- C_{1}^{2} k + C_{1} + l\\right)}{m_{0}} + \\frac{u \\left(- 2 C_{1} k + 1\\right)^{2}}{m_{0}} + \\frac{u}{m_{0}}\\right)}{m_{0}^{2}} + \\frac{u^{2} \\left(- C_{1}^{2} k + C_{1} + l\\right) \\left(- \\frac{4 C_{1} k u}{m_{0}} + 4 k \\left(3 C_{1} k - 2\\right) \\left(- \\frac{C_{1}^{2} k u}{m_{0}} + \\frac{C_{1} u}{m_{0}} - g + \\frac{l u}{m_{0}}\\right) - 2 k \\left(- \\frac{C_{1}^{2} k u}{m_{0}} + \\frac{C_{1} u}{m_{0}} - g + \\frac{l u}{m_{0}}\\right) - \\frac{2 k u \\left(- C_{1}^{2} k + C_{1} + l\\right)}{m_{0}} + \\left(- 2 C_{1} k + 1\\right) \\left(- \\frac{2 C_{1} k u}{m_{0}} - 2 k \\left(- \\frac{C_{1}^{2} k u}{m_{0}} + \\frac{C_{1} u}{m_{0}} - g + \\frac{l u}{m_{0}}\\right) + \\frac{u \\left(- 2 C_{1} k + 1\\right)^{2}}{m_{0}} + \\frac{u}{m_{0}}\\right) + \\frac{2 u \\left(- 2 C_{1} k + 1\\right)^{2}}{m_{0}} + \\frac{2 u}{m_{0}}\\right)}{m_{0}^{2}} + \\frac{18 u^{3} \\left(- 2 C_{1} k + 1\\right) \\left(- C_{1}^{2} k + C_{1} + l\\right)}{m_{0}^{3}}\\right)}{120 m_{0}^{2}} + \\frac{t^{2} u \\left(- \\frac{C_{1}^{2} k u}{m_{0}} + \\frac{C_{1} u}{m_{0}} + \\frac{l u}{m_{0}} + \\left(- 2 C_{1} k + 1\\right) \\left(- \\frac{C_{1}^{2} k u}{m_{0}} + \\frac{C_{1} u}{m_{0}} - g + \\frac{l u}{m_{0}}\\right)\\right)}{2 m_{0}} + \\frac{t^{3} u \\left(- \\frac{2 C_{1}^{2} k u^{2}}{m_{0}^{2}} + \\frac{2 C_{1} u^{2}}{m_{0}^{2}} + \\frac{2 l u^{2}}{m_{0}^{2}} + \\left(- \\frac{2 C_{1} k u}{m_{0}} - 2 k \\left(- \\frac{C_{1}^{2} k u}{m_{0}} + \\frac{C_{1} u}{m_{0}} - g + \\frac{l u}{m_{0}}\\right) + \\frac{u \\left(- 2 C_{1} k + 1\\right)^{2}}{m_{0}} + \\frac{u}{m_{0}}\\right) \\left(- \\frac{C_{1}^{2} k u}{m_{0}} + \\frac{C_{1} u}{m_{0}} - g + \\frac{l u}{m_{0}}\\right) + \\frac{u \\left(- 2 C_{1} k + 1\\right) \\left(- \\frac{C_{1}^{2} k u}{m_{0}} + \\frac{C_{1} u}{m_{0}} - g + \\frac{l u}{m_{0}}\\right)}{m_{0}} + \\frac{u^{2} \\left(- 2 C_{1} k + 1\\right) \\left(- C_{1}^{2} k + C_{1} + l\\right)}{m_{0}^{2}}\\right)}{6 m_{0}} + t \\left(- \\frac{C_{1}^{2} k u}{m_{0}} + \\frac{C_{1} u}{m_{0}} - g + \\frac{l u}{m_{0}}\\right) + C_{1} + O\\left(t^{6}\\right)$"
      ],
      "text/plain": [
       "Eq(x_1(t), t**4*u**2*(-6*C1**2*k*u**2/m_0**2 + 6*C1*u**2/m_0**2 + 6*l*u**2/m_0**2 + 2*(-C1**2*k*u/m_0 + C1*u/m_0 - g + l*u/m_0)*(-2*C1*k*u/m_0 - k*(-C1**2*k*u/m_0 + C1*u/m_0 - g + l*u/m_0) - k*u*(-C1**2*k + C1 + l)/m_0 + u*(-2*C1*k + 1)**2/m_0 + u/m_0) + (-C1**2*k*u/m_0 + C1*u/m_0 - g + l*u/m_0)*(-4*C1*k*u/m_0 + 4*k*(3*C1*k - 2)*(-C1**2*k*u/m_0 + C1*u/m_0 - g + l*u/m_0) - 2*k*(-C1**2*k*u/m_0 + C1*u/m_0 - g + l*u/m_0) - 2*k*u*(-C1**2*k + C1 + l)/m_0 + (-2*C1*k + 1)*(-2*C1*k*u/m_0 - 2*k*(-C1**2*k*u/m_0 + C1*u/m_0 - g + l*u/m_0) + u*(-2*C1*k + 1)**2/m_0 + u/m_0) + 2*u*(-2*C1*k + 1)**2/m_0 + 2*u/m_0) + 2*u*(-2*C1*k + 1)*(-C1**2*k*u/m_0 + C1*u/m_0 - g + l*u/m_0)/m_0 + u*(-C1**2*k + C1 + l)*(-2*C1*k*u/m_0 - 2*k*(-C1**2*k*u/m_0 + C1*u/m_0 - g + l*u/m_0) + u*(-2*C1*k + 1)**2/m_0 + u/m_0)/m_0 + 4*u**2*(-2*C1*k + 1)*(-C1**2*k + C1 + l)/m_0**2)/(24*m_0**2) + t**5*u**2*(-24*C1**2*k*u**3/m_0**3 + 24*C1*u**3/m_0**3 + 24*l*u**3/m_0**3 + (-C1**2*k*u/m_0 + C1*u/m_0 - g + l*u/m_0)*(-12*C1*k*u**2/m_0**2 + 2*k*(-C1**2*k*u/m_0 + C1*u/m_0 - g + l*u/m_0)*(2*C1*k*u/m_0 + 8*k*(-C1**2*k*u/m_0 + C1*u/m_0 - g + l*u/m_0) - u*(-2*C1*k + 1)**2/m_0 + 4*u*(-2*C1*k + 1)*(3*C1*k - 2)/m_0 - 6*u*(-2*C1*k + 1)/m_0 - 3*u/m_0) + 8*k*u*(3*C1*k - 2)*(-C1**2*k*u/m_0 + C1*u/m_0 - g + l*u/m_0)/m_0 - 4*k*u*(-C1**2*k*u/m_0 + C1*u/m_0 - g + l*u/m_0)/m_0 + 4*k*u**2*(3*C1*k - 2)*(-C1**2*k + C1 + l)/m_0**2 - 8*k*u**2*(-C1**2*k + C1 + l)/m_0**2 + u*(-2*C1*k + 1)*(-2*C1*k*u/m_0 - 2*k*(-C1**2*k*u/m_0 + C1*u/m_0 - g + l*u/m_0) + u*(-2*C1*k + 1)**2/m_0 + u/m_0)/m_0 + 2*u*(-2*C1*k + 1)*(-2*C1*k*u/m_0 - k*(-C1**2*k*u/m_0 + C1*u/m_0 - g + l*u/m_0) - k*u*(-C1**2*k + C1 + l)/m_0 + u*(-2*C1*k + 1)**2/m_0 + u/m_0)/m_0 + u*(-2*C1*k + 1)*(-4*C1*k*u/m_0 + 4*k*(3*C1*k - 2)*(-C1**2*k*u/m_0 + C1*u/m_0 - g + l*u/m_0) - 2*k*(-C1**2*k*u/m_0 + C1*u/m_0 - g + l*u/m_0) - 2*k*u*(-C1**2*k + C1 + l)/m_0 + (-2*C1*k + 1)*(-2*C1*k*u/m_0 - 2*k*(-C1**2*k*u/m_0 + C1*u/m_0 - g + l*u/m_0) + u*(-2*C1*k + 1)**2/m_0 + u/m_0) + 2*u*(-2*C1*k + 1)**2/m_0 + 2*u/m_0)/m_0 + 6*u**2*(-2*C1*k + 1)**2/m_0**2 + 6*u**2/m_0**2) + 2*u*(-C1**2*k*u/m_0 + C1*u/m_0 - g + l*u/m_0)*(-6*C1*k*u/m_0 - 2*k*(-C1**2*k*u/m_0 + C1*u/m_0 - g + l*u/m_0) - 4*k*u*(-C1**2*k + C1 + l)/m_0 + 3*u*(-2*C1*k + 1)**2/m_0 + 3*u/m_0)/m_0 + u*(-C1**2*k*u/m_0 + C1*u/m_0 - g + l*u/m_0)*(-12*C1*k*u/m_0 + 8*k*(3*C1*k - 2)*(-C1**2*k*u/m_0 + C1*u/m_0 - g + l*u/m_0) - 4*k*(-C1**2*k*u/m_0 + C1*u/m_0 - g + l*u/m_0) + 4*k*u*(3*C1*k - 2)*(-C1**2*k + C1 + l)/m_0 - 8*k*u*(-C1**2*k + C1 + l)/m_0 + (-2*C1*k + 1)*(-2*C1*k*u/m_0 - 2*k*(-C1**2*k*u/m_0 + C1*u/m_0 - g + l*u/m_0) + u*(-2*C1*k + 1)**2/m_0 + u/m_0) + 2*(-2*C1*k + 1)*(-2*C1*k*u/m_0 - k*(-C1**2*k*u/m_0 + C1*u/m_0 - g + l*u/m_0) - k*u*(-C1**2*k + C1 + l)/m_0 + u*(-2*C1*k + 1)**2/m_0 + u/m_0) + 6*u*(-2*C1*k + 1)**2/m_0 + 6*u/m_0)/m_0 + 6*u**2*(-2*C1*k + 1)*(-C1**2*k*u/m_0 + C1*u/m_0 - g + l*u/m_0)/m_0**2 + 2*u**2*(-C1**2*k + C1 + l)*(-2*C1*k*u/m_0 - 2*k*(-C1**2*k*u/m_0 + C1*u/m_0 - g + l*u/m_0) + u*(-2*C1*k + 1)**2/m_0 + u/m_0)/m_0**2 + 4*u**2*(-C1**2*k + C1 + l)*(-2*C1*k*u/m_0 - k*(-C1**2*k*u/m_0 + C1*u/m_0 - g + l*u/m_0) - k*u*(-C1**2*k + C1 + l)/m_0 + u*(-2*C1*k + 1)**2/m_0 + u/m_0)/m_0**2 + u**2*(-C1**2*k + C1 + l)*(-4*C1*k*u/m_0 + 4*k*(3*C1*k - 2)*(-C1**2*k*u/m_0 + C1*u/m_0 - g + l*u/m_0) - 2*k*(-C1**2*k*u/m_0 + C1*u/m_0 - g + l*u/m_0) - 2*k*u*(-C1**2*k + C1 + l)/m_0 + (-2*C1*k + 1)*(-2*C1*k*u/m_0 - 2*k*(-C1**2*k*u/m_0 + C1*u/m_0 - g + l*u/m_0) + u*(-2*C1*k + 1)**2/m_0 + u/m_0) + 2*u*(-2*C1*k + 1)**2/m_0 + 2*u/m_0)/m_0**2 + 18*u**3*(-2*C1*k + 1)*(-C1**2*k + C1 + l)/m_0**3)/(120*m_0**2) + t**2*u*(-C1**2*k*u/m_0 + C1*u/m_0 + l*u/m_0 + (-2*C1*k + 1)*(-C1**2*k*u/m_0 + C1*u/m_0 - g + l*u/m_0))/(2*m_0) + t**3*u*(-2*C1**2*k*u**2/m_0**2 + 2*C1*u**2/m_0**2 + 2*l*u**2/m_0**2 + (-2*C1*k*u/m_0 - 2*k*(-C1**2*k*u/m_0 + C1*u/m_0 - g + l*u/m_0) + u*(-2*C1*k + 1)**2/m_0 + u/m_0)*(-C1**2*k*u/m_0 + C1*u/m_0 - g + l*u/m_0) + u*(-2*C1*k + 1)*(-C1**2*k*u/m_0 + C1*u/m_0 - g + l*u/m_0)/m_0 + u**2*(-2*C1*k + 1)*(-C1**2*k + C1 + l)/m_0**2)/(6*m_0) + t*(-C1**2*k*u/m_0 + C1*u/m_0 - g + l*u/m_0) + C1 + O(t**6))"
      ]
     },
     "execution_count": 8,
     "metadata": {},
     "output_type": "execute_result"
    }
   ],
   "source": [
    "sol"
   ]
  },
  {
   "cell_type": "code",
   "execution_count": null,
   "metadata": {},
   "outputs": [],
   "source": []
  }
 ],
 "metadata": {
  "kernelspec": {
   "display_name": "Python 3",
   "language": "python",
   "name": "python3"
  },
  "language_info": {
   "codemirror_mode": {
    "name": "ipython",
    "version": 3
   },
   "file_extension": ".py",
   "mimetype": "text/x-python",
   "name": "python",
   "nbconvert_exporter": "python",
   "pygments_lexer": "ipython3",
   "version": "3.7.6"
  }
 },
 "nbformat": 4,
 "nbformat_minor": 4
}
