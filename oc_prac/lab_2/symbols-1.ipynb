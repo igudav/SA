{
 "cells": [
  {
   "cell_type": "code",
   "execution_count": 64,
   "metadata": {},
   "outputs": [],
   "source": [
    "from sympy import *\n",
    "import re"
   ]
  },
  {
   "cell_type": "code",
   "execution_count": 65,
   "metadata": {},
   "outputs": [],
   "source": [
    "l, m0, k, g, t = symbols('l m_0 k g t', nonnegative=True)\n",
    "u = symbols('u', real=True)"
   ]
  },
  {
   "cell_type": "code",
   "execution_count": 66,
   "metadata": {},
   "outputs": [],
   "source": [
    "x1 = Function('x_1')(t)\n",
    "x2 = Function('x_2')(t)\n",
    "psi1 = Function('psi_1')(t)\n",
    "psi2 = Function('psi_2')(t)"
   ]
  },
  {
   "cell_type": "code",
   "execution_count": 74,
   "metadata": {},
   "outputs": [],
   "source": [
    "x1s, x2s, psi1s, psi2s = symbols('x1 x2 psi1 psi2')"
   ]
  },
  {
   "cell_type": "code",
   "execution_count": 67,
   "metadata": {},
   "outputs": [
    {
     "data": {
      "text/latex": [
       "$\\displaystyle \\frac{d}{d t} \\operatorname{x_{1}}{\\left(t \\right)} = - g - \\frac{k \\operatorname{x_{1}}^{2}{\\left(t \\right)}}{\\operatorname{x_{2}}{\\left(t \\right)}} + \\frac{u \\left(l + \\operatorname{x_{1}}{\\left(t \\right)}\\right)}{\\operatorname{x_{2}}{\\left(t \\right)}}$"
      ],
      "text/plain": [
       "Eq(Derivative(x_1(t), t), -g - k*x_1(t)**2/x_2(t) + u*(l + x_1(t))/x_2(t))"
      ]
     },
     "execution_count": 67,
     "metadata": {},
     "output_type": "execute_result"
    }
   ],
   "source": [
    "deq1 = Eq(x1.diff(t), -g - k * x1 **2 / x2 + u * (x1 + l) / x2)\n",
    "deq1"
   ]
  },
  {
   "cell_type": "code",
   "execution_count": 68,
   "metadata": {},
   "outputs": [
    {
     "data": {
      "text/latex": [
       "$\\displaystyle \\frac{d}{d t} \\operatorname{x_{2}}{\\left(t \\right)} = - u$"
      ],
      "text/plain": [
       "Eq(Derivative(x_2(t), t), -u)"
      ]
     },
     "execution_count": 68,
     "metadata": {},
     "output_type": "execute_result"
    }
   ],
   "source": [
    "deq2 = Eq(x2.diff(t), -u)\n",
    "deq2"
   ]
  },
  {
   "cell_type": "code",
   "execution_count": 69,
   "metadata": {},
   "outputs": [
    {
     "data": {
      "text/latex": [
       "$\\displaystyle \\frac{d}{d t} \\psi_{1}{\\left(t \\right)} = \\frac{2 k \\psi_{1}{\\left(t \\right)} \\operatorname{x_{1}}{\\left(t \\right)}}{\\operatorname{x_{2}}{\\left(t \\right)}} - \\frac{u \\psi_{1}{\\left(t \\right)}}{\\operatorname{x_{2}}{\\left(t \\right)}} - 1$"
      ],
      "text/plain": [
       "Eq(Derivative(psi_1(t), t), 2*k*psi_1(t)*x_1(t)/x_2(t) - u*psi_1(t)/x_2(t) - 1)"
      ]
     },
     "execution_count": 69,
     "metadata": {},
     "output_type": "execute_result"
    }
   ],
   "source": [
    "deq3 = Eq(psi1.diff(t), -1 - psi1 * u / x2 + 2 * k * x1 * psi1 / x2)\n",
    "deq3"
   ]
  },
  {
   "cell_type": "code",
   "execution_count": 70,
   "metadata": {},
   "outputs": [
    {
     "data": {
      "text/latex": [
       "$\\displaystyle \\frac{d}{d t} \\psi_{2}{\\left(t \\right)} = - \\frac{k \\psi_{1}{\\left(t \\right)} \\operatorname{x_{1}}^{2}{\\left(t \\right)}}{\\operatorname{x_{2}}^{2}{\\left(t \\right)}} + \\frac{u \\left(l + \\operatorname{x_{1}}{\\left(t \\right)}\\right) \\psi_{1}{\\left(t \\right)}}{\\operatorname{x_{2}}^{2}{\\left(t \\right)}}$"
      ],
      "text/plain": [
       "Eq(Derivative(psi_2(t), t), -k*psi_1(t)*x_1(t)**2/x_2(t)**2 + u*(l + x_1(t))*psi_1(t)/x_2(t)**2)"
      ]
     },
     "execution_count": 70,
     "metadata": {},
     "output_type": "execute_result"
    }
   ],
   "source": [
    "deq4 = Eq(psi2.diff(t), psi1 * u * (x1 + l) / x2**2 - psi1 * k * x1**2 / x2**2)\n",
    "deq4"
   ]
  },
  {
   "cell_type": "code",
   "execution_count": 71,
   "metadata": {},
   "outputs": [
    {
     "data": {
      "text/latex": [
       "$\\displaystyle \\left(l + \\operatorname{x_{1}}{\\left(t \\right)}\\right) \\psi_{1}{\\left(t \\right)} - \\psi_{2}{\\left(t \\right)} \\operatorname{x_{2}}{\\left(t \\right)}$"
      ],
      "text/plain": [
       "(l + x_1(t))*psi_1(t) - psi_2(t)*x_2(t)"
      ]
     },
     "execution_count": 71,
     "metadata": {},
     "output_type": "execute_result"
    }
   ],
   "source": [
    "F = psi1 * (x1 + l) - psi2 * x2\n",
    "F"
   ]
  },
  {
   "cell_type": "code",
   "execution_count": 76,
   "metadata": {},
   "outputs": [
    {
     "data": {
      "text/latex": [
       "$\\displaystyle - g \\psi_{1}{\\left(t \\right)} + \\frac{2 k l \\psi_{1}{\\left(t \\right)} \\operatorname{x_{1}}{\\left(t \\right)}}{\\operatorname{x_{2}}{\\left(t \\right)}} + \\frac{2 k \\psi_{1}{\\left(t \\right)} \\operatorname{x_{1}}^{2}{\\left(t \\right)}}{\\operatorname{x_{2}}{\\left(t \\right)}} - \\frac{l u \\psi_{1}{\\left(t \\right)}}{\\operatorname{x_{2}}{\\left(t \\right)}} - l - \\frac{u \\psi_{1}{\\left(t \\right)} \\operatorname{x_{1}}{\\left(t \\right)}}{\\operatorname{x_{2}}{\\left(t \\right)}} + u \\psi_{2}{\\left(t \\right)} - \\operatorname{x_{1}}{\\left(t \\right)}$"
      ],
      "text/plain": [
       "-g*psi_1(t) + 2*k*l*psi_1(t)*x_1(t)/x_2(t) + 2*k*psi_1(t)*x_1(t)**2/x_2(t) - l*u*psi_1(t)/x_2(t) - l - u*psi_1(t)*x_1(t)/x_2(t) + u*psi_2(t) - x_1(t)"
      ]
     },
     "execution_count": 76,
     "metadata": {},
     "output_type": "execute_result"
    }
   ],
   "source": [
    "dF = F.diff(t).subs({\n",
    "    x1.diff(t): deq1.rhs,\n",
    "    x2.diff(t): deq2.rhs,\n",
    "    psi1.diff(t): deq3.rhs,\n",
    "    psi2.diff(t): deq4.rhs\n",
    "})\n",
    "dF = simplify(dF)\n",
    "dF"
   ]
  },
  {
   "cell_type": "code",
   "execution_count": 77,
   "metadata": {},
   "outputs": [
    {
     "name": "stdout",
     "output_type": "stream",
     "text": [
      "- g \\psi_{1} + \\frac{2 k l \\psi_{1} x_{1}}{x_{2}} + \\frac{2 k \\psi_{1} x_{1}^{2}}{x_{2}} - \\frac{l \\psi_{1} u}{x_{2}} - l - \\frac{\\psi_{1} u x_{1}}{x_{2}} + \\psi_{2} u - x_{1}\n"
     ]
    }
   ],
   "source": [
    "s = latex(dF.subs({x1: x1s, x2: x2s, psi1: psi1s, psi2: psi2s}))\n",
    "print(s)"
   ]
  },
  {
   "cell_type": "code",
   "execution_count": 78,
   "metadata": {},
   "outputs": [
    {
     "data": {
      "text/latex": [
       "$\\displaystyle - g \\psi_{1}{\\left(t \\right)} + \\frac{2 k l \\psi_{1}{\\left(t \\right)} \\operatorname{x_{1}}{\\left(t \\right)}}{\\operatorname{x_{2}}{\\left(t \\right)}} + \\frac{2 k \\psi_{1}{\\left(t \\right)} \\operatorname{x_{1}}^{2}{\\left(t \\right)}}{\\operatorname{x_{2}}{\\left(t \\right)}} - l - \\operatorname{x_{1}}{\\left(t \\right)}$"
      ],
      "text/plain": [
       "-g*psi_1(t) + 2*k*l*psi_1(t)*x_1(t)/x_2(t) + 2*k*psi_1(t)*x_1(t)**2/x_2(t) - l - x_1(t)"
      ]
     },
     "execution_count": 78,
     "metadata": {},
     "output_type": "execute_result"
    }
   ],
   "source": [
    "dF = dF.subs(u, 0)\n",
    "dF"
   ]
  },
  {
   "cell_type": "code",
   "execution_count": 79,
   "metadata": {},
   "outputs": [
    {
     "name": "stdout",
     "output_type": "stream",
     "text": [
      "- g \\psi_{1} + \\frac{2 k l \\psi_{1} x_{1}}{x_{2}} + \\frac{2 k \\psi_{1} x_{1}^{2}}{x_{2}} - l - x_{1}\n"
     ]
    }
   ],
   "source": [
    "s = latex(dF.subs({x1: x1s, x2: x2s, psi1: psi1s, psi2: psi2s}))\n",
    "print(s)"
   ]
  },
  {
   "cell_type": "code",
   "execution_count": 80,
   "metadata": {},
   "outputs": [
    {
     "data": {
      "text/latex": [
       "$\\displaystyle \\frac{- 2 g k l \\psi_{1}{\\left(t \\right)} \\operatorname{x_{2}}{\\left(t \\right)} - 6 g k \\psi_{1}{\\left(t \\right)} \\operatorname{x_{1}}{\\left(t \\right)} \\operatorname{x_{2}}{\\left(t \\right)} + g u \\psi_{1}{\\left(t \\right)} \\operatorname{x_{2}}{\\left(t \\right)} + 2 g \\operatorname{x_{2}}^{2}{\\left(t \\right)} + 2 k^{2} l \\psi_{1}{\\left(t \\right)} \\operatorname{x_{1}}^{2}{\\left(t \\right)} + 2 k l^{2} u \\psi_{1}{\\left(t \\right)} + 6 k l u \\psi_{1}{\\left(t \\right)} \\operatorname{x_{1}}{\\left(t \\right)} - 2 k l \\operatorname{x_{1}}{\\left(t \\right)} \\operatorname{x_{2}}{\\left(t \\right)} + 4 k u \\psi_{1}{\\left(t \\right)} \\operatorname{x_{1}}^{2}{\\left(t \\right)} - k \\operatorname{x_{1}}^{2}{\\left(t \\right)} \\operatorname{x_{2}}{\\left(t \\right)} - l u \\operatorname{x_{2}}{\\left(t \\right)} - u \\operatorname{x_{1}}{\\left(t \\right)} \\operatorname{x_{2}}{\\left(t \\right)}}{\\operatorname{x_{2}}^{2}{\\left(t \\right)}}$"
      ],
      "text/plain": [
       "(-2*g*k*l*psi_1(t)*x_2(t) - 6*g*k*psi_1(t)*x_1(t)*x_2(t) + g*u*psi_1(t)*x_2(t) + 2*g*x_2(t)**2 + 2*k**2*l*psi_1(t)*x_1(t)**2 + 2*k*l**2*u*psi_1(t) + 6*k*l*u*psi_1(t)*x_1(t) - 2*k*l*x_1(t)*x_2(t) + 4*k*u*psi_1(t)*x_1(t)**2 - k*x_1(t)**2*x_2(t) - l*u*x_2(t) - u*x_1(t)*x_2(t))/x_2(t)**2"
      ]
     },
     "execution_count": 80,
     "metadata": {},
     "output_type": "execute_result"
    }
   ],
   "source": [
    "d2F = simplify(dF.diff(t).subs({\n",
    "    x1.diff(t): deq1.rhs,\n",
    "    x2.diff(t): deq2.rhs,\n",
    "    psi1.diff(t): deq3.rhs,\n",
    "    psi2.diff(t): deq4.rhs\n",
    "}))\n",
    "d2F"
   ]
  },
  {
   "cell_type": "code",
   "execution_count": 81,
   "metadata": {},
   "outputs": [
    {
     "data": {
      "text/latex": [
       "$\\displaystyle \\frac{2 g k l \\psi_{1}{\\left(t \\right)} \\operatorname{x_{2}}{\\left(t \\right)} + 6 g k \\psi_{1}{\\left(t \\right)} \\operatorname{x_{1}}{\\left(t \\right)} \\operatorname{x_{2}}{\\left(t \\right)} - 2 g \\operatorname{x_{2}}^{2}{\\left(t \\right)} - 2 k^{2} l \\psi_{1}{\\left(t \\right)} \\operatorname{x_{1}}^{2}{\\left(t \\right)} + 2 k l \\operatorname{x_{1}}{\\left(t \\right)} \\operatorname{x_{2}}{\\left(t \\right)} + k \\operatorname{x_{1}}^{2}{\\left(t \\right)} \\operatorname{x_{2}}{\\left(t \\right)}}{g \\psi_{1}{\\left(t \\right)} \\operatorname{x_{2}}{\\left(t \\right)} + 2 k l^{2} \\psi_{1}{\\left(t \\right)} + 6 k l \\psi_{1}{\\left(t \\right)} \\operatorname{x_{1}}{\\left(t \\right)} + 4 k \\psi_{1}{\\left(t \\right)} \\operatorname{x_{1}}^{2}{\\left(t \\right)} - l \\operatorname{x_{2}}{\\left(t \\right)} - \\operatorname{x_{1}}{\\left(t \\right)} \\operatorname{x_{2}}{\\left(t \\right)}}$"
      ],
      "text/plain": [
       "(2*g*k*l*psi_1(t)*x_2(t) + 6*g*k*psi_1(t)*x_1(t)*x_2(t) - 2*g*x_2(t)**2 - 2*k**2*l*psi_1(t)*x_1(t)**2 + 2*k*l*x_1(t)*x_2(t) + k*x_1(t)**2*x_2(t))/(g*psi_1(t)*x_2(t) + 2*k*l**2*psi_1(t) + 6*k*l*psi_1(t)*x_1(t) + 4*k*psi_1(t)*x_1(t)**2 - l*x_2(t) - x_1(t)*x_2(t))"
      ]
     },
     "execution_count": 81,
     "metadata": {},
     "output_type": "execute_result"
    }
   ],
   "source": [
    "sol = solve(d2F, u)\n",
    "u_spec_mode = simplify(sol[0])\n",
    "u_spec_mode"
   ]
  },
  {
   "cell_type": "code",
   "execution_count": 82,
   "metadata": {},
   "outputs": [
    {
     "name": "stdout",
     "output_type": "stream",
     "text": [
      "\\frac{2 g k l \\psi_{1} x_{2} + 6 g k \\psi_{1} x_{1} x_{2} - 2 g x_{2}^{2} - 2 k^{2} l \\psi_{1} x_{1}^{2} + 2 k l x_{1} x_{2} + k x_{1}^{2} x_{2}}{g \\psi_{1} x_{2} + 2 k l^{2} \\psi_{1} + 6 k l \\psi_{1} x_{1} + 4 k \\psi_{1} x_{1}^{2} - l x_{2} - x_{1} x_{2}}\n"
     ]
    }
   ],
   "source": [
    "s = latex(u_spec_mode.subs({x1: x1s, x2: x2s, psi1: psi1s, psi2: psi2s}))\n",
    "print(s)"
   ]
  },
  {
   "cell_type": "code",
   "execution_count": 40,
   "metadata": {},
   "outputs": [],
   "source": [
    "from sympy.utilities.codegen import codegen"
   ]
  },
  {
   "cell_type": "code",
   "execution_count": null,
   "metadata": {},
   "outputs": [],
   "source": []
  }
 ],
 "metadata": {
  "kernelspec": {
   "display_name": "Python 3",
   "language": "python",
   "name": "python3"
  },
  "language_info": {
   "codemirror_mode": {
    "name": "ipython",
    "version": 3
   },
   "file_extension": ".py",
   "mimetype": "text/x-python",
   "name": "python",
   "nbconvert_exporter": "python",
   "pygments_lexer": "ipython3",
   "version": "3.8.2"
  }
 },
 "nbformat": 4,
 "nbformat_minor": 4
}
