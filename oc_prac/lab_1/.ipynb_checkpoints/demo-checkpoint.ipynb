{
 "cells": [
  {
   "cell_type": "code",
   "execution_count": 1,
   "metadata": {
    "scrolled": true
   },
   "outputs": [],
   "source": [
    "import numpy as np\n",
    "import numpy.linalg as la\n",
    "from scipy.spatial import ConvexHull\n",
    "from scipy.spatial.distance import pdist\n",
    "from scipy.integrate import solve_ivp\n",
    "from scipy.interpolate import interp1d\n",
    "from math import pi\n",
    "import matplotlib.pyplot as plt\n",
    "import matplotlib as mpl\n",
    "from mpl_toolkits.mplot3d import Axes3D\n",
    "from IPython.core.interactiveshell import InteractiveShell\n",
    "\n",
    "# InteractiveShell.ast_node_interactivity = \"all\"\n",
    "# %matplotlib notebook\n",
    "%matplotlib inline\n",
    "# mpl.rc('text', usetex=True)\n",
    "# mpl.rc('font', size=12)"
   ]
  },
  {
   "cell_type": "code",
   "execution_count": 354,
   "metadata": {},
   "outputs": [],
   "source": [
    "class Trajectory():\n",
    "    def __init__(self, lp, t0, theta, ms):\n",
    "        self.t = np.array([t0])\n",
    "        psi0 = np.array([np.cos(theta), np.sin(theta)])\n",
    "        self.theta = theta\n",
    "        self.y = lp.support_X0(psi0)[1]\n",
    "        self.psi = np.array(psi0).reshape(1, -1)\n",
    "        self.t_term = None\n",
    "        self.y_term = None\n",
    "        self.is_internal = False\n",
    "        self.is_terminal = False\n",
    "        self.lp = lp\n",
    "        self.max_step = ms\n",
    "        self.is_optimal = False\n",
    "    \n",
    "    def extend(self, t_max_new):\n",
    "        if (self.is_internal):\n",
    "            return False\n",
    "        \n",
    "        if (self.is_terminal):\n",
    "            return True\n",
    "        \n",
    "        self.t_max = t_max_new\n",
    "        t_new = np.arange(self.t_max, self.t[-1], -self.max_step)[::-1]\n",
    "        psi_sol = solve_ivp(lp.conj_func,\n",
    "                        (self.t[-1], self.t_max), \n",
    "                        self.psi[-1],\n",
    "                        method='RK45',\n",
    "                        t_eval=t_new,\n",
    "                        dense_output=True,\n",
    "                        max_step=self.max_step)\n",
    "        \n",
    "        psi_new = psi_sol.y\n",
    "        t_eval_kostyl = np.hstack((np.array([self.t[-1]]), t_new))\n",
    "        y_sol = solve_ivp(lambda t, y: lp.func(t, y, psi_sol.sol),\n",
    "                        (self.t[-1], self.t_max),\n",
    "                        self.y[-1],\n",
    "                        method='RK45',\n",
    "                        t_eval=t_eval_kostyl,\n",
    "                        events=(lp.reached_target, lp.back_inside),\n",
    "                        max_step=self.max_step)\n",
    "        \n",
    "        y_new = y_sol.y[:, 1:]\n",
    "        \n",
    "        self.t = np.hstack((self.t, t_new))\n",
    "        self.y = np.vstack((self.y, y_new.T))\n",
    "        self.psi = np.vstack((self.psi, psi_new.T))\n",
    "        \n",
    "        if (y_sol.t_events[1].size > 0):\n",
    "            self.is_internal = True\n",
    "            self.t = self.t[:self.y.shape[0]]\n",
    "            self.psi = self.psi[:self.y.shape[0]]\n",
    "            return False\n",
    "        \n",
    "        if (y_sol.t_events[0].size > 0):\n",
    "            self.is_terminal = True\n",
    "            self.t_term = y_sol.t_events[0][0]\n",
    "            self.y_term = y_sol.y_events[0][0]\n",
    "            self.t = self.t[:self.y.shape[0]]\n",
    "            self.psi = self.psi[:self.y.shape[0] + 1]\n",
    "            self.y = np.vstack((self.y, self.y_term))\n",
    "            self.t = np.hstack((self.t, self.t_term))\n",
    "            return True\n",
    "        \n",
    "        return False\n",
    "    \n",
    "    def plot(self, fig, ax, s, t_max=np.inf):\n",
    "        \n",
    "        idx = self.t <= t_max\n",
    "        idx = idx[:self.y.shape[0]]\n",
    "        col, zor = ('r', 2) if self.is_optimal else ('g', 1)\n",
    "        \n",
    "        sy, sx = s\n",
    "        j = int(sy[1]) - 1\n",
    "        if (sy[0] == 'u'):\n",
    "            u = np.empty(self.psi.shape)\n",
    "            for i in range(u.shape[0]):\n",
    "                B = lp.B(self.t[i])\n",
    "                p = self.psi[i]\n",
    "                while (la.norm(p @ B) < 1e-3):\n",
    "                    B = B + np.random.randn(B.shape[0], B.shape[1]) * 3e-2\n",
    "                u[i] = lp.support_P(p @ B)[1]\n",
    "            d2 = u[idx, j]\n",
    "            yl = '$u_' + str(j + 1) + '$'\n",
    "        elif (sy[0] == 'x'):\n",
    "            d2 = self.y[idx, j]\n",
    "            yl = '$x_' + str(j + 1) + '$'\n",
    "        elif (sy[0] == 'p'):\n",
    "            d2 = self.psi[idx, j]\n",
    "            yl = '$\\psi_' + str(j + 1) + '$'\n",
    "        else:\n",
    "            print(\"ERROR!\")\n",
    "            \n",
    "        if (sx[0] == 'u'):\n",
    "            d1 = u[idx, 0]\n",
    "            xl = '$u_1$'\n",
    "        elif (sx[0] == 'x'):\n",
    "            d1 = self.y[idx, 0]\n",
    "            xl = '$x_1$'\n",
    "        elif (sx[0] == 'p'):\n",
    "            d1 = self.psi[idx, 0]\n",
    "            xl = '$\\psi_1$'\n",
    "        elif (sx[0] == 't'):\n",
    "            d1 = self.t[idx]\n",
    "            xl = '$t$'\n",
    "        else:\n",
    "            print(\"ERROR!\")\n",
    "            \n",
    "        if (sx[0] == 'u'):\n",
    "            ax.scatter(d1, d2, 10, c=col, zorder=zor)\n",
    "        else:\n",
    "            ax.plot(d1, d2, col, zorder=zor)\n",
    "        ax.plot(d1, d2, col, zorder=zor)\n",
    "            \n",
    "        if (self.is_optimal and sx[0] == 'x' and sy[0] == 'x'):\n",
    "            ax.scatter(self.y_term[0], self.y_term[1], 15, c='r', zorder=3)\n",
    "        ax.set_xlabel(xl)\n",
    "        ax.set_ylabel(yl)"
   ]
  },
  {
   "cell_type": "code",
   "execution_count": 383,
   "metadata": {},
   "outputs": [],
   "source": [
    "class LinearProblem():\n",
    "    def __init__(self, params):\n",
    "        \n",
    "        # require A(t), B(t), f(t), t0, a, b, c, d, r, Q, alpha, beta, max_t1, max_ngrid\n",
    "        \n",
    "        for key, value in params.items():\n",
    "            setattr(self, key, value)\n",
    "        \n",
    "        self.eps_reg = 2e-2\n",
    "        self.hull_X1 = ConvexHull(self.Q, qhull_options='QJ')\n",
    "        self.reg_X1()\n",
    "        self.k1 = np.sqrt(self.alpha / self.c)\n",
    "        self.k2 = np.sqrt(self.beta / self.c)\n",
    "        self.s = self.d - self.a + self.b\n",
    "        self.T = np.array([[1 / self.k1, 0],\n",
    "                           [0, 1 / self.k2]])\n",
    "        self.center_P = np.array([[self.a],\n",
    "                                  [self.b]])\n",
    "        self.ngrid = 20\n",
    "        self.dt = 0.5\n",
    "        self.clar_bnd = None\n",
    "        self.clar_step = None\n",
    "        \n",
    "        self.theta_grid = np.arange(0.0, 2 * pi, 2 * pi / self.ngrid)\n",
    "        self.traj_list = [Trajectory(self, self.t0, self.theta_grid[i], self.eps_reg) \n",
    "                     for i in range(self.ngrid)]\n",
    "        self.found = False\n",
    "        \n",
    "        self.opt_traj = None\n",
    "    \n",
    "    def reg_X1(self):\n",
    "        S = self.hull_X1.volume\n",
    "        d = np.max(pdist(self.Q))\n",
    "        factor = np.max(la.norm(self.Q, axis=1))\n",
    "        if (d < self.eps_reg):\n",
    "            self.Q = 2 * (np.random.rand(10, 2) - 0.5) * factor * self.eps_reg + self.hull_X1.points[0]\n",
    "            self.hull_X1 = ConvexHull(self.Q)\n",
    "        elif (S / d < self.eps_reg):\n",
    "            p = np.tile(self.Q, (10, 1))\n",
    "            self.Q = p + 2 * (np.random.rand(40, 2) - 0.5) * factor * self.eps_reg\n",
    "            self.hull_X1 = ConvexHull(self.Q)\n",
    "            \n",
    "    \n",
    "    def support_X0(self, l):\n",
    "        l = l.reshape(-1, 2)\n",
    "        rho = self.r * la.norm(l, axis=1)\n",
    "        vec = l * self.r / np.tile(la.norm(l, axis=1), (2, 1)).T\n",
    "        return (rho, vec)\n",
    "    \n",
    "    def support_X1(self, l):\n",
    "        l = l.reshape(-1, 2)\n",
    "        prods = (self.Q @ l.T)\n",
    "        rho = np.max(prods, axis=0)\n",
    "        vec = self.Q[np.argmax(prods, axis=0)]\n",
    "        return (rho, vec)\n",
    "    \n",
    "    def support_P(self, l):\n",
    "        \n",
    "        q = 4\n",
    "                \n",
    "        ll= l / la.norm(l)\n",
    "        if (self.k1 ** 2 + self.k2 ** 2 - self.s ** 2 < 0 or\n",
    "                self.k1 * l[0] + self.k2 * l[1] <= self.s * la.norm(l)):\n",
    "            vec = ll\n",
    "            vec_reg = vec\n",
    "        else:\n",
    "            norm_len_sq = self.k1 ** 2 + self.k2 ** 2\n",
    "            \n",
    "            z1_pos = (self.k1 * self.s + self.k2 * \n",
    "                      np.sqrt(norm_len_sq - self.s ** 2)) / norm_len_sq\n",
    "            z2_pos = (self.k2 * self.s - self.k1 * \n",
    "                      np.sqrt(norm_len_sq - self.s ** 2)) / norm_len_sq\n",
    "            z1_neg = (self.k1 * self.s - self.k2 * \n",
    "                      np.sqrt(norm_len_sq - self.s ** 2)) / norm_len_sq\n",
    "            z2_neg = (self.k2 * self.s + self.k1 * \n",
    "                      np.sqrt(norm_len_sq - self.s ** 2)) / norm_len_sq\n",
    "            \n",
    "            points = np.array([[z1_pos, z2_pos],\n",
    "                               [z1_neg, z2_neg]])\n",
    "            z_mid = 0.5 * (points[0] + points[1])\n",
    "            vec = points[np.argmax(l @ points.T)]\n",
    "            \n",
    "            norm = np.array([self.k1, self.k2])\n",
    "            coeff = (ll.dot(norm) - self.s) / norm_len_sq\n",
    "            vec_reg = ll - coeff * norm\n",
    "            vec_reg = q * vec_reg + (1 - q) * z_mid\n",
    "            \n",
    "            if (la.norm(vec_reg) > 1):\n",
    "                vec_reg = vec\n",
    "            \n",
    "        return (vec.dot(l @ la.inv(self.T) + l.dot(self.center_P)),\n",
    "                (la.inv(self.T) @ vec_reg.reshape(-1, 1) + self.center_P).flatten())\n",
    "            \n",
    "    def func(self, t, y, psi):\n",
    "        B = self.B(t)\n",
    "        p = psi(t)\n",
    "        while (la.norm(p @ B) < 1e-3):\n",
    "            B = B + np.random.randn(B.shape[0], B.shape[1]) * 1e-2\n",
    "            \n",
    "        u = self.support_P(p @ B)[1]\n",
    "        return y @ self.A(t).T + u @ self.B(t).T + self.f(t)\n",
    "    \n",
    "    def conj_func(self, t, y):\n",
    "        return y @ -self.A(t)\n",
    "    \n",
    "    def reached_target(self, t, y):\n",
    "        dirs = self.hull_X1.equations[:, :-1]\n",
    "        biases = self.hull_X1.equations[:, -1]\n",
    "        dists = y @ dirs.T + biases\n",
    "        return np.max(dists)\n",
    "    \n",
    "    def back_inside(self, t, y):\n",
    "        return np.sum(y ** 2) - self.r ** 2 * 0.9\n",
    "    \n",
    "    reached_target.terminal = True\n",
    "    back_inside.terminal = True\n",
    "        \n",
    "    def solve(self):\n",
    "        \n",
    "        term_traj_list = []\n",
    "        \n",
    "        while (not self.found):\n",
    "            t_max = self.t0 + self.dt\n",
    "            \n",
    "            if (t_max + self.dt > self.max_t1 and 2 * self.ngrid > self.max_ngrid):\n",
    "                print(\"Seems like not reachable, mm?\")\n",
    "                return\n",
    "            \n",
    "            if (t_max + self.dt <= self.max_t1):\n",
    "                t_max += self.dt\n",
    "                               \n",
    "                self.dt *= 2\n",
    "                for traj in self.traj_list:\n",
    "                    res = traj.extend(t_max)\n",
    "                    if (res):\n",
    "                        term_traj_list.append(traj)\n",
    "                    self.found = res or self.found\n",
    "            \n",
    "            if ((not self.found) and 2 * self.ngrid <= self.max_ngrid):\n",
    "                self.ngrid *= 2\n",
    "                theta_densed = self.theta_grid + (2 * pi) / self.ngrid\n",
    "                self.theta_grid = np.arange(0.0, 2 * pi, 2 * pi / self.ngrid)\n",
    "                traj_densed = [Trajectory(self, self.t0, theta_densed[i], self.eps_reg)\n",
    "                     for i in range(self.ngrid // 2)]\n",
    "                \n",
    "                for traj in traj_densed:\n",
    "                    res = traj.extend(t_max)\n",
    "                    if (res):\n",
    "                        term_traj_list.append(traj)\n",
    "                    self.found = res or self.found\n",
    "                \n",
    "                old_traj = self.traj_list\n",
    "                self.traj_list = [None] * self.ngrid\n",
    "                for i in range(self.ngrid // 2):\n",
    "                    self.traj_list[2 * i] = old_traj[i]\n",
    "                    self.traj_list[2 * i + 1] = traj_densed[i]\n",
    "        \n",
    "        self.opt_traj = min(term_traj_list, key=lambda traj: traj.t[-1])\n",
    "        self.opt_idx = self.traj_list.index(self.opt_traj)\n",
    "        self.opt_traj.is_optimal=True\n",
    "        print('OK!')\n",
    "        print('Suboptimal time: ' + str(self.opt_traj.t[-1]))\n",
    "        \n",
    "    def clarify_opt(self, criterion, eps, max_iters=5):\n",
    "        \n",
    "        res = self.check_trans(criterion)\n",
    "        while (res > eps):\n",
    "            \n",
    "            max_iters -= 1\n",
    "            t_opt = self.opt_traj.t_term\n",
    "            self.opt_traj.is_optimal = False\n",
    "            \n",
    "            if (self.clar_bnd is None):\n",
    "                self.clar_bnd = 4 * pi / self.ngrid\n",
    "            else:\n",
    "                self.clar_bnd /= 2\n",
    "            \n",
    "            if (self.clar_step is None):\n",
    "                self.clar_step = self.eps_reg / 1.5\n",
    "            else:\n",
    "                self.clar_step /= 1.5\n",
    "            \n",
    "            theta_cl = np.linspace(-self.clar_bnd, self.clar_bnd, 9) + self.opt_traj.theta\n",
    "            for i in range(9):\n",
    "                if (i % 2 == 0):\n",
    "                    idx = (self.opt_idx + i - 2) % len(self.traj_list)\n",
    "                    self.traj_list[idx] = Trajectory(self, self.t0, theta_cl[i], self.clar_step)\n",
    "                    self.traj_list[idx].extend(t_opt)\n",
    "                else:\n",
    "                    idx = (self.opt_idx + i - 2) % len(self.traj_list)\n",
    "                    traj = Trajectory(self, self.t0, theta_cl[i], self.clar_step)\n",
    "                    traj.extend(t_opt)\n",
    "                    self.traj_list.insert(idx, traj)\n",
    "            \n",
    "            tl = [t for t in self.traj_list if t.is_terminal]\n",
    "            self.opt_traj = min(tl, key=lambda traj: traj.t_term)\n",
    "            self.opt_idx = self.traj_list.index(self.opt_traj)\n",
    "            self.opt_traj.is_optimal = True\n",
    "            \n",
    "            res = self.check_trans(criterion)\n",
    "            print(res)\n",
    "            if (max_iters <= 0):\n",
    "                break\n",
    "        \n",
    "    def check_trans(self, metric):\n",
    "        psi = self.opt_traj.psi[-1]\n",
    "        sup, x_trans = self.support_X1(-psi)\n",
    "        x = self.opt_traj.y[-1]\n",
    "        if (metric == 'distance'):\n",
    "            return la.norm(x - x_trans[0])\n",
    "        elif (metric == 'cosine'):\n",
    "            n = np.mean([la.norm(x), la.norm(x_trans[0])]) * la.norm(psi)\n",
    "            return (psi.dot(x) + sup[0]) / n\n",
    "    \n",
    "    def plot_sets(self, fig, ax):\n",
    "        # plotting X0\n",
    "        N = 100\n",
    "        phi = np.arange(N) / (2 * pi)\n",
    "        x = self.r * np.cos(phi)\n",
    "        y = self.r * np.sin(phi)\n",
    "        ax.fill(x, y, 'y')\n",
    "        \n",
    "        # plotting X1\n",
    "        x = self.Q[self.hull_X1.vertices].T[0]\n",
    "        y = self.Q[self.hull_X1.vertices].T[1]\n",
    "        ax.fill(x, y, 'b')\n",
    "        \n",
    "        return (fig, ax)\n",
    "                \n",
    "    def plot_trans(self, fig, ax):\n",
    "        \n",
    "        psi = self.opt_traj.psi[-1]\n",
    "        rho, vec = self.support_X1(-psi)\n",
    "        vec = self.opt_traj.y[-1]\n",
    "        \n",
    "        if (psi[0] > psi[1]):\n",
    "            w = np.array([-psi[1] / psi[0], 1])\n",
    "        else:\n",
    "            w = np.array([1, -psi[0] / psi[1]])\n",
    "        w = w / la.norm(w)\n",
    "        \n",
    "        x = np.array([vec[0] - w[0], vec[0] + w[0]])\n",
    "        y = np.array([vec[1] - w[1], vec[1] + w[1]])\n",
    "        ax.plot(x, y, 'k', zorder=5)\n",
    "        \n",
    "        dirs = self.hull_X1.equations[:, :-1]\n",
    "        biases = self.hull_X1.equations[:, -1]\n",
    "        dists = self.opt_traj.y[-1] @ dirs.T + biases\n",
    "        w = dirs[np.argmin(np.abs(dists))] / 2\n",
    "        \n",
    "        x = np.array([vec[0], vec[0] + w[0]])\n",
    "        y = np.array([vec[1], vec[1] + w[1]])\n",
    "        ax.plot(x, y, 'k', zorder=5)\n",
    "        \n",
    "        psi = self.opt_traj.psi[0]\n",
    "        rho, vec = self.support_X0(psi)\n",
    "        vec = vec[0]\n",
    "        \n",
    "        if (psi[0] > psi[1]):\n",
    "            w = np.array([-psi[1] / psi[0], 1])\n",
    "        else:\n",
    "            w = np.array([1, -psi[0] / psi[1]])\n",
    "        w = w / la.norm(w)\n",
    "        \n",
    "        x = np.array([vec[0] - w[0], vec[0] + w[0]])\n",
    "        y = np.array([vec[1] - w[1], vec[1] + w[1]])\n",
    "        ax.plot(x, y, 'k', zorder=5)\n",
    "        \n",
    "        x = np.array([vec[0], vec[0] + psi[0] / la.norm(psi) / 2])\n",
    "        y = np.array([vec[1], vec[1] + psi[1] / la.norm(psi) / 2])\n",
    "        ax.plot(x, y, 'k', zorder=5)\n",
    "    \n",
    "    def plot(self, fig, ax, s):\n",
    "        t_max = self.opt_traj.t[-1] if (self.opt_traj is not None) else np.inf\n",
    "        for traj in self.traj_list:\n",
    "            traj.plot(fig, ax, s, np.inf)"
   ]
  },
  {
   "cell_type": "code",
   "execution_count": 374,
   "metadata": {},
   "outputs": [],
   "source": [
    "def A(t):\n",
    "    return np.array([[3, -2],\n",
    "                     [2, 1]])\n",
    "#     return np.zeros((2, 2))"
   ]
  },
  {
   "cell_type": "code",
   "execution_count": 375,
   "metadata": {},
   "outputs": [],
   "source": [
    "def B(t):\n",
    "    return np.array([[1, 0],\n",
    "                     [0, 1]])"
   ]
  },
  {
   "cell_type": "code",
   "execution_count": 376,
   "metadata": {},
   "outputs": [],
   "source": [
    "def f(t):\n",
    "    return np.zeros(2)"
   ]
  },
  {
   "cell_type": "code",
   "execution_count": 377,
   "metadata": {},
   "outputs": [],
   "source": [
    "params = {\n",
    "    'A': A,\n",
    "    'B': B,\n",
    "    'f': f,\n",
    "    't0': 0.,\n",
    "    'a': -0.9,\n",
    "    'b': 0,\n",
    "    'c': 1.,\n",
    "    'd': 5.9,\n",
    "    'r': 1,\n",
    "    'Q': np.array([[5.4, 1], \n",
    "                   [5.4, -1],\n",
    "                   [7, 1], \n",
    "                   [7, -1]]),\n",
    "#     'Q': np.array([[-1, 5], \n",
    "#                    [-1, 3],\n",
    "#                    [1, 5], \n",
    "#                    [1, 3]]),\n",
    "    'alpha': 1.,\n",
    "    'beta': 1.,\n",
    "    'max_t1': 4,\n",
    "    'max_ngrid': 20\n",
    "}"
   ]
  },
  {
   "cell_type": "code",
   "execution_count": 378,
   "metadata": {},
   "outputs": [],
   "source": [
    "lp = LinearProblem(params)"
   ]
  },
  {
   "cell_type": "code",
   "execution_count": 379,
   "metadata": {},
   "outputs": [
    {
     "name": "stdout",
     "output_type": "stream",
     "text": [
      "OK!\n",
      "Suboptimal time: 0.7525540250225108\n"
     ]
    }
   ],
   "source": [
    "lp.solve()"
   ]
  },
  {
   "cell_type": "code",
   "execution_count": 380,
   "metadata": {
    "scrolled": false
   },
   "outputs": [
    {
     "data": {
      "text/plain": [
       "(<Figure size 432x360 with 1 Axes>,\n",
       " <matplotlib.axes._subplots.AxesSubplot at 0x7ff205a44340>)"
      ]
     },
     "execution_count": 380,
     "metadata": {},
     "output_type": "execute_result"
    },
    {
     "data": {
      "text/plain": [
       "(-16.902346316459777,\n",
       " 12.050760047084838,\n",
       " -17.538330688997974,\n",
       " 12.08288156011455)"
      ]
     },
     "execution_count": 380,
     "metadata": {},
     "output_type": "execute_result"
    },
    {
     "data": {
      "image/png": "[encoded data removed]",
      "text/plain": [
       "<Figure size 432x360 with 1 Axes>"
      ]
     },
     "metadata": {
      "needs_background": "light"
     },
     "output_type": "display_data"
    }
   ],
   "source": [
    "fig, ax = plt.subplots();\n",
    "fig.set_size_inches(6, 5)\n",
    "lp.plot_sets(fig, ax);\n",
    "lp.plot(fig, ax, ('x2', 'x1'));\n",
    "# lp.plot_trans(fig, ax)\n",
    "ax.axis('equal');\n",
    "# lp.check_trans('cosine')\n",
    "fig.savefig('report/figures/ex42_x.pdf', bbox_inches='tight')"
   ]
  },
  {
   "cell_type": "code",
   "execution_count": 362,
   "metadata": {},
   "outputs": [
    {
     "data": {
      "image/png": "[encoded data removed]",
      "text/plain": [
       "<Figure size 216x180 with 1 Axes>"
      ]
     },
     "metadata": {
      "needs_background": "light"
     },
     "output_type": "display_data"
    }
   ],
   "source": [
    "fig, ax = plt.subplots();\n",
    "fig.set_size_inches(3, 2.5)\n",
    "lp.plot(fig, ax, ('u2', 'u1'));\n",
    "ax.axis('equal');\n",
    "# fig.savefig('report/figures/ex2_u.pdf', bbox_inches='tight')"
   ]
  },
  {
   "cell_type": "code",
   "execution_count": 79,
   "metadata": {},
   "outputs": [
    {
     "data": {
      "image/png": "[encoded data removed]",
      "text/plain": [
       "<Figure size 216x180 with 1 Axes>"
      ]
     },
     "metadata": {
      "needs_background": "light"
     },
     "output_type": "display_data"
    }
   ],
   "source": [
    "fig, ax = plt.subplots();\n",
    "fig.set_size_inches(3, 2.5)\n",
    "lp.plot(fig, ax, ('u1', 't'));\n",
    "fig.savefig('report/figures/ex2_u1t.pdf', bbox_inches='tight')"
   ]
  },
  {
   "cell_type": "code",
   "execution_count": 381,
   "metadata": {},
   "outputs": [
    {
     "name": "stdout",
     "output_type": "stream",
     "text": [
      "0.03672205108034856\n",
      "0.014625658345814323\n",
      "0.004575884397517703\n"
     ]
    }
   ],
   "source": [
    "lp.clarify_opt('cosine', 0.005)"
   ]
  },
  {
   "cell_type": "code",
   "execution_count": 382,
   "metadata": {},
   "outputs": [
    {
     "data": {
      "text/plain": [
       "(<Figure size 432x360 with 1 Axes>,\n",
       " <matplotlib.axes._subplots.AxesSubplot at 0x7ff205c0f070>)"
      ]
     },
     "execution_count": 382,
     "metadata": {},
     "output_type": "execute_result"
    },
    {
     "data": {
      "text/plain": [
       "(-16.76672842754808, 9.202784379939276, -17.538330688997974, 12.08288156011455)"
      ]
     },
     "execution_count": 382,
     "metadata": {},
     "output_type": "execute_result"
    },
    {
     "data": {
      "text/plain": [
       "0.004575884397517703"
      ]
     },
     "execution_count": 382,
     "metadata": {},
     "output_type": "execute_result"
    },
    {
     "data": {
      "image/png": "[encoded data removed]",
      "text/plain": [
       "<Figure size 432x360 with 1 Axes>"
      ]
     },
     "metadata": {
      "needs_background": "light"
     },
     "output_type": "display_data"
    }
   ],
   "source": [
    "fig, ax = plt.subplots();\n",
    "fig.set_size_inches(6, 5)\n",
    "lp.plot_sets(fig, ax);\n",
    "lp.plot(fig, ax, ('x2', 'x1'));\n",
    "lp.plot_trans(fig, ax)\n",
    "ax.axis('equal');\n",
    "lp.check_trans('cosine')\n",
    "fig.savefig('report/figures/ex2_x_clar.pdf', bbox_inches='tight')"
   ]
  },
  {
   "cell_type": "code",
   "execution_count": 92,
   "metadata": {},
   "outputs": [
    {
     "data": {
      "text/plain": [
       "1.6302936086615125"
      ]
     },
     "execution_count": 92,
     "metadata": {},
     "output_type": "execute_result"
    }
   ],
   "source": [
    "lp.opt_traj.t_term"
   ]
  },
  {
   "cell_type": "code",
   "execution_count": null,
   "metadata": {},
   "outputs": [],
   "source": []
  }
 ],
 "metadata": {
  "kernelspec": {
   "display_name": "Python 3",
   "language": "python",
   "name": "python3"
  },
  "language_info": {
   "codemirror_mode": {
    "name": "ipython",
    "version": 3
   },
   "file_extension": ".py",
   "mimetype": "text/x-python",
   "name": "python",
   "nbconvert_exporter": "python",
   "pygments_lexer": "ipython3",
   "version": "3.8.2"
  }
 },
 "nbformat": 4,
 "nbformat_minor": 2
}
